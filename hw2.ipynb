{
  "nbformat": 4,
  "nbformat_minor": 0,
  "metadata": {
    "colab": {
      "name": "hw2.ipynb",
      "provenance": [],
      "collapsed_sections": [],
      "authorship_tag": "ABX9TyMh8WkXuz9ox1h4cu25kY6q",
      "include_colab_link": true
    },
    "kernelspec": {
      "name": "python3",
      "display_name": "Python 3"
    },
    "language_info": {
      "name": "python"
    }
  },
  "cells": [
    {
      "cell_type": "markdown",
      "metadata": {
        "id": "view-in-github",
        "colab_type": "text"
      },
      "source": [
        "<a href=\"https://colab.research.google.com/github/ancka019/data_analysis-/blob/main/hw2.ipynb\" target=\"_parent\"><img src=\"https://colab.research.google.com/assets/colab-badge.svg\" alt=\"Open In Colab\"/></a>"
      ]
    },
    {
      "cell_type": "code",
      "metadata": {
        "id": "BnVF4Zsghg1s"
      },
      "source": [
        "import pandas as pd \n",
        "import numpy as np\n",
        "import matplotlib\n",
        "import matplotlib.pyplot as plt\n",
        "import plotly.express as px\n"
      ],
      "execution_count": 27,
      "outputs": []
    },
    {
      "cell_type": "code",
      "metadata": {
        "colab": {
          "base_uri": "https://localhost:8080/",
          "height": 204
        },
        "id": "uGV3CpsJiiy9",
        "outputId": "25526a3f-3e66-43b4-dade-ff39932b1a2c"
      },
      "source": [
        "PL = pd.read_csv('PRODUCT_LIST.CSV', sep=';', encoding='Windows-1251')\n",
        "PL.head()"
      ],
      "execution_count": 2,
      "outputs": [
        {
          "output_type": "execute_result",
          "data": {
            "text/html": [
              "<div>\n",
              "<style scoped>\n",
              "    .dataframe tbody tr th:only-of-type {\n",
              "        vertical-align: middle;\n",
              "    }\n",
              "\n",
              "    .dataframe tbody tr th {\n",
              "        vertical-align: top;\n",
              "    }\n",
              "\n",
              "    .dataframe thead th {\n",
              "        text-align: right;\n",
              "    }\n",
              "</style>\n",
              "<table border=\"1\" class=\"dataframe\">\n",
              "  <thead>\n",
              "    <tr style=\"text-align: right;\">\n",
              "      <th></th>\n",
              "      <th>Product_code</th>\n",
              "      <th>Product_name</th>\n",
              "      <th>Unnamed: 2</th>\n",
              "      <th>Unnamed: 3</th>\n",
              "    </tr>\n",
              "  </thead>\n",
              "  <tbody>\n",
              "    <tr>\n",
              "      <th>0</th>\n",
              "      <td>821001</td>\n",
              "      <td>Кофе ЭСПРЕССО  30 мл</td>\n",
              "      <td>NaN</td>\n",
              "      <td>NaN</td>\n",
              "    </tr>\n",
              "    <tr>\n",
              "      <th>1</th>\n",
              "      <td>821002</td>\n",
              "      <td>Кофе ДОППИО 60мл</td>\n",
              "      <td>NaN</td>\n",
              "      <td>NaN</td>\n",
              "    </tr>\n",
              "    <tr>\n",
              "      <th>2</th>\n",
              "      <td>821003</td>\n",
              "      <td>Кофе РИСТРЕТТО  20 мл</td>\n",
              "      <td>NaN</td>\n",
              "      <td>NaN</td>\n",
              "    </tr>\n",
              "    <tr>\n",
              "      <th>3</th>\n",
              "      <td>821004</td>\n",
              "      <td>Фильтр кофе Верньяно250мл</td>\n",
              "      <td>NaN</td>\n",
              "      <td>NaN</td>\n",
              "    </tr>\n",
              "    <tr>\n",
              "      <th>4</th>\n",
              "      <td>821005</td>\n",
              "      <td>Кофе ЛУНГО  50 мл</td>\n",
              "      <td>NaN</td>\n",
              "      <td>NaN</td>\n",
              "    </tr>\n",
              "  </tbody>\n",
              "</table>\n",
              "</div>"
            ],
            "text/plain": [
              "   Product_code               Product_name Unnamed: 2 Unnamed: 3\n",
              "0        821001       Кофе ЭСПРЕССО  30 мл        NaN        NaN\n",
              "1        821002           Кофе ДОППИО 60мл        NaN        NaN\n",
              "2        821003      Кофе РИСТРЕТТО  20 мл        NaN        NaN\n",
              "3        821004  Фильтр кофе Верньяно250мл        NaN        NaN\n",
              "4        821005          Кофе ЛУНГО  50 мл        NaN        NaN"
            ]
          },
          "metadata": {},
          "execution_count": 2
        }
      ]
    },
    {
      "cell_type": "code",
      "metadata": {
        "colab": {
          "base_uri": "https://localhost:8080/",
          "height": 390
        },
        "id": "mV5_PplWit0G",
        "outputId": "c4faf299-8e72-4de6-b86a-ea2b43f3f7fe"
      },
      "source": [
        "PL.describe(include = 'all')"
      ],
      "execution_count": 3,
      "outputs": [
        {
          "output_type": "execute_result",
          "data": {
            "text/html": [
              "<div>\n",
              "<style scoped>\n",
              "    .dataframe tbody tr th:only-of-type {\n",
              "        vertical-align: middle;\n",
              "    }\n",
              "\n",
              "    .dataframe tbody tr th {\n",
              "        vertical-align: top;\n",
              "    }\n",
              "\n",
              "    .dataframe thead th {\n",
              "        text-align: right;\n",
              "    }\n",
              "</style>\n",
              "<table border=\"1\" class=\"dataframe\">\n",
              "  <thead>\n",
              "    <tr style=\"text-align: right;\">\n",
              "      <th></th>\n",
              "      <th>Product_code</th>\n",
              "      <th>Product_name</th>\n",
              "      <th>Unnamed: 2</th>\n",
              "      <th>Unnamed: 3</th>\n",
              "    </tr>\n",
              "  </thead>\n",
              "  <tbody>\n",
              "    <tr>\n",
              "      <th>count</th>\n",
              "      <td>9786.000000</td>\n",
              "      <td>9786</td>\n",
              "      <td>1</td>\n",
              "      <td>7</td>\n",
              "    </tr>\n",
              "    <tr>\n",
              "      <th>unique</th>\n",
              "      <td>NaN</td>\n",
              "      <td>9563</td>\n",
              "      <td>1</td>\n",
              "      <td>6</td>\n",
              "    </tr>\n",
              "    <tr>\n",
              "      <th>top</th>\n",
              "      <td>NaN</td>\n",
              "      <td>Не использовать</td>\n",
              "      <td>манго</td>\n",
              "      <td>5</td>\n",
              "    </tr>\n",
              "    <tr>\n",
              "      <th>freq</th>\n",
              "      <td>NaN</td>\n",
              "      <td>6</td>\n",
              "      <td>1</td>\n",
              "      <td>2</td>\n",
              "    </tr>\n",
              "    <tr>\n",
              "      <th>mean</th>\n",
              "      <td>850216.386879</td>\n",
              "      <td>NaN</td>\n",
              "      <td>NaN</td>\n",
              "      <td>NaN</td>\n",
              "    </tr>\n",
              "    <tr>\n",
              "      <th>std</th>\n",
              "      <td>18368.989736</td>\n",
              "      <td>NaN</td>\n",
              "      <td>NaN</td>\n",
              "      <td>NaN</td>\n",
              "    </tr>\n",
              "    <tr>\n",
              "      <th>min</th>\n",
              "      <td>821001.000000</td>\n",
              "      <td>NaN</td>\n",
              "      <td>NaN</td>\n",
              "      <td>NaN</td>\n",
              "    </tr>\n",
              "    <tr>\n",
              "      <th>25%</th>\n",
              "      <td>840564.250000</td>\n",
              "      <td>NaN</td>\n",
              "      <td>NaN</td>\n",
              "      <td>NaN</td>\n",
              "    </tr>\n",
              "    <tr>\n",
              "      <th>50%</th>\n",
              "      <td>848287.500000</td>\n",
              "      <td>NaN</td>\n",
              "      <td>NaN</td>\n",
              "      <td>NaN</td>\n",
              "    </tr>\n",
              "    <tr>\n",
              "      <th>75%</th>\n",
              "      <td>854544.750000</td>\n",
              "      <td>NaN</td>\n",
              "      <td>NaN</td>\n",
              "      <td>NaN</td>\n",
              "    </tr>\n",
              "    <tr>\n",
              "      <th>max</th>\n",
              "      <td>894098.000000</td>\n",
              "      <td>NaN</td>\n",
              "      <td>NaN</td>\n",
              "      <td>NaN</td>\n",
              "    </tr>\n",
              "  </tbody>\n",
              "</table>\n",
              "</div>"
            ],
            "text/plain": [
              "         Product_code     Product_name Unnamed: 2 Unnamed: 3\n",
              "count     9786.000000             9786          1          7\n",
              "unique            NaN             9563          1          6\n",
              "top               NaN  Не использовать      манго          5\n",
              "freq              NaN                6          1          2\n",
              "mean    850216.386879              NaN        NaN        NaN\n",
              "std      18368.989736              NaN        NaN        NaN\n",
              "min     821001.000000              NaN        NaN        NaN\n",
              "25%     840564.250000              NaN        NaN        NaN\n",
              "50%     848287.500000              NaN        NaN        NaN\n",
              "75%     854544.750000              NaN        NaN        NaN\n",
              "max     894098.000000              NaN        NaN        NaN"
            ]
          },
          "metadata": {},
          "execution_count": 3
        }
      ]
    },
    {
      "cell_type": "code",
      "metadata": {
        "colab": {
          "base_uri": "https://localhost:8080/"
        },
        "id": "TGNYB870iv3B",
        "outputId": "af495518-efe5-4734-d5f5-bd6c633ea766"
      },
      "source": [
        "PL.dtypes"
      ],
      "execution_count": null,
      "outputs": [
        {
          "output_type": "execute_result",
          "data": {
            "text/plain": [
              "Product_code     int64\n",
              "Product_name    object\n",
              "Unnamed: 2      object\n",
              "Unnamed: 3      object\n",
              "dtype: object"
            ]
          },
          "metadata": {},
          "execution_count": 4
        }
      ]
    },
    {
      "cell_type": "code",
      "metadata": {
        "colab": {
          "base_uri": "https://localhost:8080/"
        },
        "id": "tIbnprm6izib",
        "outputId": "6afc9ffc-e35c-4ebc-af89-7123dfa16f48"
      },
      "source": [
        "PL.info()"
      ],
      "execution_count": null,
      "outputs": [
        {
          "output_type": "stream",
          "name": "stdout",
          "text": [
            "<class 'pandas.core.frame.DataFrame'>\n",
            "RangeIndex: 9786 entries, 0 to 9785\n",
            "Data columns (total 4 columns):\n",
            " #   Column        Non-Null Count  Dtype \n",
            "---  ------        --------------  ----- \n",
            " 0   Product_code  9786 non-null   int64 \n",
            " 1   Product_name  9786 non-null   object\n",
            " 2   Unnamed: 2    1 non-null      object\n",
            " 3   Unnamed: 3    7 non-null      object\n",
            "dtypes: int64(1), object(3)\n",
            "memory usage: 305.9+ KB\n"
          ]
        }
      ]
    },
    {
      "cell_type": "code",
      "metadata": {
        "colab": {
          "base_uri": "https://localhost:8080/",
          "height": 204
        },
        "id": "4O4Qr5SCi9GB",
        "outputId": "60c7f8a3-ad46-4dc0-a0a6-655e44fef302"
      },
      "source": [
        "SL = pd.read_csv('SALE_LIST.csv', sep=';', encoding='Windows-1251')\n",
        "SL.head()"
      ],
      "execution_count": 4,
      "outputs": [
        {
          "output_type": "execute_result",
          "data": {
            "text/html": [
              "<div>\n",
              "<style scoped>\n",
              "    .dataframe tbody tr th:only-of-type {\n",
              "        vertical-align: middle;\n",
              "    }\n",
              "\n",
              "    .dataframe tbody tr th {\n",
              "        vertical-align: top;\n",
              "    }\n",
              "\n",
              "    .dataframe thead th {\n",
              "        text-align: right;\n",
              "    }\n",
              "</style>\n",
              "<table border=\"1\" class=\"dataframe\">\n",
              "  <thead>\n",
              "    <tr style=\"text-align: right;\">\n",
              "      <th></th>\n",
              "      <th>date</th>\n",
              "      <th>product_code</th>\n",
              "      <th>rest_code</th>\n",
              "      <th>product_count</th>\n",
              "    </tr>\n",
              "  </thead>\n",
              "  <tbody>\n",
              "    <tr>\n",
              "      <th>0</th>\n",
              "      <td>06.01.2009</td>\n",
              "      <td>824021</td>\n",
              "      <td>Озерный</td>\n",
              "      <td>4</td>\n",
              "    </tr>\n",
              "    <tr>\n",
              "      <th>1</th>\n",
              "      <td>06.01.2009</td>\n",
              "      <td>824068</td>\n",
              "      <td>Озерный</td>\n",
              "      <td>1</td>\n",
              "    </tr>\n",
              "    <tr>\n",
              "      <th>2</th>\n",
              "      <td>06.01.2009</td>\n",
              "      <td>824070</td>\n",
              "      <td>Озерный</td>\n",
              "      <td>2</td>\n",
              "    </tr>\n",
              "    <tr>\n",
              "      <th>3</th>\n",
              "      <td>06.01.2009</td>\n",
              "      <td>824073</td>\n",
              "      <td>Озерный</td>\n",
              "      <td>1</td>\n",
              "    </tr>\n",
              "    <tr>\n",
              "      <th>4</th>\n",
              "      <td>06.01.2009</td>\n",
              "      <td>824074</td>\n",
              "      <td>Озерный</td>\n",
              "      <td>1</td>\n",
              "    </tr>\n",
              "  </tbody>\n",
              "</table>\n",
              "</div>"
            ],
            "text/plain": [
              "         date  product_code rest_code  product_count\n",
              "0  06.01.2009        824021   Озерный              4\n",
              "1  06.01.2009        824068   Озерный              1\n",
              "2  06.01.2009        824070   Озерный              2\n",
              "3  06.01.2009        824073   Озерный              1\n",
              "4  06.01.2009        824074   Озерный              1"
            ]
          },
          "metadata": {},
          "execution_count": 4
        }
      ]
    },
    {
      "cell_type": "code",
      "metadata": {
        "colab": {
          "base_uri": "https://localhost:8080/",
          "height": 390
        },
        "id": "vIFvOf_LjLQB",
        "outputId": "871c5e33-01b8-47b1-9803-b469b9ad5f5e"
      },
      "source": [
        "SL.describe(include = 'all')"
      ],
      "execution_count": null,
      "outputs": [
        {
          "output_type": "execute_result",
          "data": {
            "text/html": [
              "<div>\n",
              "<style scoped>\n",
              "    .dataframe tbody tr th:only-of-type {\n",
              "        vertical-align: middle;\n",
              "    }\n",
              "\n",
              "    .dataframe tbody tr th {\n",
              "        vertical-align: top;\n",
              "    }\n",
              "\n",
              "    .dataframe thead th {\n",
              "        text-align: right;\n",
              "    }\n",
              "</style>\n",
              "<table border=\"1\" class=\"dataframe\">\n",
              "  <thead>\n",
              "    <tr style=\"text-align: right;\">\n",
              "      <th></th>\n",
              "      <th>date</th>\n",
              "      <th>product_code</th>\n",
              "      <th>rest_code</th>\n",
              "      <th>product_count</th>\n",
              "    </tr>\n",
              "  </thead>\n",
              "  <tbody>\n",
              "    <tr>\n",
              "      <th>count</th>\n",
              "      <td>135920</td>\n",
              "      <td>135920.000000</td>\n",
              "      <td>135920</td>\n",
              "      <td>135920.000000</td>\n",
              "    </tr>\n",
              "    <tr>\n",
              "      <th>unique</th>\n",
              "      <td>1826</td>\n",
              "      <td>NaN</td>\n",
              "      <td>2</td>\n",
              "      <td>NaN</td>\n",
              "    </tr>\n",
              "    <tr>\n",
              "      <th>top</th>\n",
              "      <td>20.09.2012</td>\n",
              "      <td>NaN</td>\n",
              "      <td>Мечта</td>\n",
              "      <td>NaN</td>\n",
              "    </tr>\n",
              "    <tr>\n",
              "      <th>freq</th>\n",
              "      <td>101</td>\n",
              "      <td>NaN</td>\n",
              "      <td>73690</td>\n",
              "      <td>NaN</td>\n",
              "    </tr>\n",
              "    <tr>\n",
              "      <th>mean</th>\n",
              "      <td>NaN</td>\n",
              "      <td>839804.895917</td>\n",
              "      <td>NaN</td>\n",
              "      <td>11.376663</td>\n",
              "    </tr>\n",
              "    <tr>\n",
              "      <th>std</th>\n",
              "      <td>NaN</td>\n",
              "      <td>28968.345316</td>\n",
              "      <td>NaN</td>\n",
              "      <td>18.153321</td>\n",
              "    </tr>\n",
              "    <tr>\n",
              "      <th>min</th>\n",
              "      <td>NaN</td>\n",
              "      <td>821001.000000</td>\n",
              "      <td>NaN</td>\n",
              "      <td>-6.000000</td>\n",
              "    </tr>\n",
              "    <tr>\n",
              "      <th>25%</th>\n",
              "      <td>NaN</td>\n",
              "      <td>822006.000000</td>\n",
              "      <td>NaN</td>\n",
              "      <td>2.000000</td>\n",
              "    </tr>\n",
              "    <tr>\n",
              "      <th>50%</th>\n",
              "      <td>NaN</td>\n",
              "      <td>824074.000000</td>\n",
              "      <td>NaN</td>\n",
              "      <td>5.000000</td>\n",
              "    </tr>\n",
              "    <tr>\n",
              "      <th>75%</th>\n",
              "      <td>NaN</td>\n",
              "      <td>862094.000000</td>\n",
              "      <td>NaN</td>\n",
              "      <td>12.000000</td>\n",
              "    </tr>\n",
              "    <tr>\n",
              "      <th>max</th>\n",
              "      <td>NaN</td>\n",
              "      <td>894098.000000</td>\n",
              "      <td>NaN</td>\n",
              "      <td>239.000000</td>\n",
              "    </tr>\n",
              "  </tbody>\n",
              "</table>\n",
              "</div>"
            ],
            "text/plain": [
              "              date   product_code rest_code  product_count\n",
              "count       135920  135920.000000    135920  135920.000000\n",
              "unique        1826            NaN         2            NaN\n",
              "top     20.09.2012            NaN     Мечта            NaN\n",
              "freq           101            NaN     73690            NaN\n",
              "mean           NaN  839804.895917       NaN      11.376663\n",
              "std            NaN   28968.345316       NaN      18.153321\n",
              "min            NaN  821001.000000       NaN      -6.000000\n",
              "25%            NaN  822006.000000       NaN       2.000000\n",
              "50%            NaN  824074.000000       NaN       5.000000\n",
              "75%            NaN  862094.000000       NaN      12.000000\n",
              "max            NaN  894098.000000       NaN     239.000000"
            ]
          },
          "metadata": {},
          "execution_count": 9
        }
      ]
    },
    {
      "cell_type": "code",
      "metadata": {
        "colab": {
          "base_uri": "https://localhost:8080/"
        },
        "id": "vkdgGLl-jcN4",
        "outputId": "42cdd063-97f9-40a0-aa65-debea6c85771"
      },
      "source": [
        "SL.dtypes"
      ],
      "execution_count": null,
      "outputs": [
        {
          "output_type": "execute_result",
          "data": {
            "text/plain": [
              "date             object\n",
              "product_code      int64\n",
              "rest_code        object\n",
              "product_count     int64\n",
              "dtype: object"
            ]
          },
          "metadata": {},
          "execution_count": 10
        }
      ]
    },
    {
      "cell_type": "code",
      "metadata": {
        "colab": {
          "base_uri": "https://localhost:8080/"
        },
        "id": "yyNcxjFrjebh",
        "outputId": "b07bb924-575f-43a5-dae6-bbc71d3c81fd"
      },
      "source": [
        "SL.info"
      ],
      "execution_count": null,
      "outputs": [
        {
          "output_type": "execute_result",
          "data": {
            "text/plain": [
              "<bound method DataFrame.info of               date  product_code rest_code  product_count\n",
              "0       06.01.2009        824021   Озерный              4\n",
              "1       06.01.2009        824068   Озерный              1\n",
              "2       06.01.2009        824070   Озерный              2\n",
              "3       06.01.2009        824073   Озерный              1\n",
              "4       06.01.2009        824074   Озерный              1\n",
              "...            ...           ...       ...            ...\n",
              "135915  26.05.2013        892545     Мечта              3\n",
              "135916  27.05.2013        892545     Мечта              1\n",
              "135917  28.05.2013        892545     Мечта              3\n",
              "135918  29.05.2013        892545     Мечта              4\n",
              "135919  30.05.2013        892545     Мечта              1\n",
              "\n",
              "[135920 rows x 4 columns]>"
            ]
          },
          "metadata": {},
          "execution_count": 11
        }
      ]
    },
    {
      "cell_type": "code",
      "metadata": {
        "colab": {
          "base_uri": "https://localhost:8080/"
        },
        "id": "_zc6m8Mujh1_",
        "outputId": "7f15baff-f07c-4797-f6b4-54de70d96d37"
      },
      "source": [
        "SL.shape"
      ],
      "execution_count": null,
      "outputs": [
        {
          "output_type": "execute_result",
          "data": {
            "text/plain": [
              "(135920, 4)"
            ]
          },
          "metadata": {},
          "execution_count": 13
        }
      ]
    },
    {
      "cell_type": "code",
      "metadata": {
        "colab": {
          "base_uri": "https://localhost:8080/"
        },
        "id": "svMdq_Qajma8",
        "outputId": "5402dedb-b61d-4693-beb1-ca75d0f2b640"
      },
      "source": [
        "PL.shape"
      ],
      "execution_count": null,
      "outputs": [
        {
          "output_type": "execute_result",
          "data": {
            "text/plain": [
              "(9786, 4)"
            ]
          },
          "metadata": {},
          "execution_count": 14
        }
      ]
    },
    {
      "cell_type": "code",
      "metadata": {
        "colab": {
          "base_uri": "https://localhost:8080/"
        },
        "id": "LX2SDgsIjsot",
        "outputId": "e5efbcf7-7c00-4f30-f116-ec664f56c914"
      },
      "source": [
        "PL['Product_name'].unique()"
      ],
      "execution_count": null,
      "outputs": [
        {
          "output_type": "execute_result",
          "data": {
            "text/plain": [
              "array(['Кофе ЭСПРЕССО  30 мл', 'Кофе ДОППИО 60мл',\n",
              "       'Кофе РИСТРЕТТО  20 мл', ..., 'Мо Мо 120г',\n",
              "       'Салат грейпфрут-манго п/ф', 'Фруктовый десерт 200г'], dtype=object)"
            ]
          },
          "metadata": {},
          "execution_count": 16
        }
      ]
    },
    {
      "cell_type": "code",
      "metadata": {
        "colab": {
          "base_uri": "https://localhost:8080/"
        },
        "id": "waXnrtacjzPb",
        "outputId": "e1c7a5ec-b0fb-4eb2-baa0-aba956535275"
      },
      "source": [
        "PL['Unnamed: 3'].unique()"
      ],
      "execution_count": null,
      "outputs": [
        {
          "output_type": "execute_result",
          "data": {
            "text/plain": [
              "array([nan, '5%', '6%', '75л', '33', '5', '5 см'], dtype=object)"
            ]
          },
          "metadata": {},
          "execution_count": 17
        }
      ]
    },
    {
      "cell_type": "code",
      "metadata": {
        "id": "trHMq9qGmYGQ"
      },
      "source": [
        "PL.rename(columns = {'Product_code':'product_code'}, inplace = True)"
      ],
      "execution_count": 6,
      "outputs": []
    },
    {
      "cell_type": "code",
      "metadata": {
        "id": "vjobts-Lk5LB"
      },
      "source": [
        "mergeList = SL.merge(PL, on=[\"product_code\"])"
      ],
      "execution_count": 7,
      "outputs": []
    },
    {
      "cell_type": "code",
      "metadata": {
        "colab": {
          "base_uri": "https://localhost:8080/",
          "height": 419
        },
        "id": "4RE31oHaoRwH",
        "outputId": "4737404c-bc2d-416e-dca1-34c51c3d65cd"
      },
      "source": [
        "mergeList[mergeList['Product_name'] == 'Кофе ЭСПРЕССО  30 мл']"
      ],
      "execution_count": 8,
      "outputs": [
        {
          "output_type": "execute_result",
          "data": {
            "text/html": [
              "<div>\n",
              "<style scoped>\n",
              "    .dataframe tbody tr th:only-of-type {\n",
              "        vertical-align: middle;\n",
              "    }\n",
              "\n",
              "    .dataframe tbody tr th {\n",
              "        vertical-align: top;\n",
              "    }\n",
              "\n",
              "    .dataframe thead th {\n",
              "        text-align: right;\n",
              "    }\n",
              "</style>\n",
              "<table border=\"1\" class=\"dataframe\">\n",
              "  <thead>\n",
              "    <tr style=\"text-align: right;\">\n",
              "      <th></th>\n",
              "      <th>date</th>\n",
              "      <th>product_code</th>\n",
              "      <th>rest_code</th>\n",
              "      <th>product_count</th>\n",
              "      <th>Product_name</th>\n",
              "      <th>Unnamed: 2</th>\n",
              "      <th>Unnamed: 3</th>\n",
              "    </tr>\n",
              "  </thead>\n",
              "  <tbody>\n",
              "    <tr>\n",
              "      <th>50454</th>\n",
              "      <td>06.01.2009</td>\n",
              "      <td>821001</td>\n",
              "      <td>Озерный</td>\n",
              "      <td>7</td>\n",
              "      <td>Кофе ЭСПРЕССО  30 мл</td>\n",
              "      <td>NaN</td>\n",
              "      <td>NaN</td>\n",
              "    </tr>\n",
              "    <tr>\n",
              "      <th>50455</th>\n",
              "      <td>07.01.2009</td>\n",
              "      <td>821001</td>\n",
              "      <td>Озерный</td>\n",
              "      <td>2</td>\n",
              "      <td>Кофе ЭСПРЕССО  30 мл</td>\n",
              "      <td>NaN</td>\n",
              "      <td>NaN</td>\n",
              "    </tr>\n",
              "    <tr>\n",
              "      <th>50456</th>\n",
              "      <td>08.01.2009</td>\n",
              "      <td>821001</td>\n",
              "      <td>Озерный</td>\n",
              "      <td>5</td>\n",
              "      <td>Кофе ЭСПРЕССО  30 мл</td>\n",
              "      <td>NaN</td>\n",
              "      <td>NaN</td>\n",
              "    </tr>\n",
              "    <tr>\n",
              "      <th>50457</th>\n",
              "      <td>09.01.2009</td>\n",
              "      <td>821001</td>\n",
              "      <td>Озерный</td>\n",
              "      <td>8</td>\n",
              "      <td>Кофе ЭСПРЕССО  30 мл</td>\n",
              "      <td>NaN</td>\n",
              "      <td>NaN</td>\n",
              "    </tr>\n",
              "    <tr>\n",
              "      <th>50458</th>\n",
              "      <td>10.01.2009</td>\n",
              "      <td>821001</td>\n",
              "      <td>Озерный</td>\n",
              "      <td>8</td>\n",
              "      <td>Кофе ЭСПРЕССО  30 мл</td>\n",
              "      <td>NaN</td>\n",
              "      <td>NaN</td>\n",
              "    </tr>\n",
              "    <tr>\n",
              "      <th>...</th>\n",
              "      <td>...</td>\n",
              "      <td>...</td>\n",
              "      <td>...</td>\n",
              "      <td>...</td>\n",
              "      <td>...</td>\n",
              "      <td>...</td>\n",
              "      <td>...</td>\n",
              "    </tr>\n",
              "    <tr>\n",
              "      <th>54077</th>\n",
              "      <td>13.07.2013</td>\n",
              "      <td>821001</td>\n",
              "      <td>Мечта</td>\n",
              "      <td>24</td>\n",
              "      <td>Кофе ЭСПРЕССО  30 мл</td>\n",
              "      <td>NaN</td>\n",
              "      <td>NaN</td>\n",
              "    </tr>\n",
              "    <tr>\n",
              "      <th>54078</th>\n",
              "      <td>14.07.2013</td>\n",
              "      <td>821001</td>\n",
              "      <td>Мечта</td>\n",
              "      <td>23</td>\n",
              "      <td>Кофе ЭСПРЕССО  30 мл</td>\n",
              "      <td>NaN</td>\n",
              "      <td>NaN</td>\n",
              "    </tr>\n",
              "    <tr>\n",
              "      <th>54079</th>\n",
              "      <td>15.07.2013</td>\n",
              "      <td>821001</td>\n",
              "      <td>Мечта</td>\n",
              "      <td>42</td>\n",
              "      <td>Кофе ЭСПРЕССО  30 мл</td>\n",
              "      <td>NaN</td>\n",
              "      <td>NaN</td>\n",
              "    </tr>\n",
              "    <tr>\n",
              "      <th>54080</th>\n",
              "      <td>16.07.2013</td>\n",
              "      <td>821001</td>\n",
              "      <td>Мечта</td>\n",
              "      <td>51</td>\n",
              "      <td>Кофе ЭСПРЕССО  30 мл</td>\n",
              "      <td>NaN</td>\n",
              "      <td>NaN</td>\n",
              "    </tr>\n",
              "    <tr>\n",
              "      <th>54081</th>\n",
              "      <td>17.07.2013</td>\n",
              "      <td>821001</td>\n",
              "      <td>Мечта</td>\n",
              "      <td>40</td>\n",
              "      <td>Кофе ЭСПРЕССО  30 мл</td>\n",
              "      <td>NaN</td>\n",
              "      <td>NaN</td>\n",
              "    </tr>\n",
              "  </tbody>\n",
              "</table>\n",
              "<p>3628 rows × 7 columns</p>\n",
              "</div>"
            ],
            "text/plain": [
              "             date  product_code  ... Unnamed: 2  Unnamed: 3\n",
              "50454  06.01.2009        821001  ...        NaN         NaN\n",
              "50455  07.01.2009        821001  ...        NaN         NaN\n",
              "50456  08.01.2009        821001  ...        NaN         NaN\n",
              "50457  09.01.2009        821001  ...        NaN         NaN\n",
              "50458  10.01.2009        821001  ...        NaN         NaN\n",
              "...           ...           ...  ...        ...         ...\n",
              "54077  13.07.2013        821001  ...        NaN         NaN\n",
              "54078  14.07.2013        821001  ...        NaN         NaN\n",
              "54079  15.07.2013        821001  ...        NaN         NaN\n",
              "54080  16.07.2013        821001  ...        NaN         NaN\n",
              "54081  17.07.2013        821001  ...        NaN         NaN\n",
              "\n",
              "[3628 rows x 7 columns]"
            ]
          },
          "metadata": {},
          "execution_count": 8
        }
      ]
    },
    {
      "cell_type": "code",
      "metadata": {
        "id": "uIpyY39GprX-"
      },
      "source": [
        "top5 = list(mergeList.groupby('Product_name')['product_count'].sum().sort_values(ascending = False).head(5).index.values)"
      ],
      "execution_count": 9,
      "outputs": []
    },
    {
      "cell_type": "code",
      "metadata": {
        "colab": {
          "base_uri": "https://localhost:8080/",
          "height": 481
        },
        "id": "B3X9gLr7p0qI",
        "outputId": "59a7f2ef-722e-4b98-d90a-9ceb284e9a43"
      },
      "source": [
        "mergeList[mergeList['Product_name'].isin(top5)].groupby(['rest_code', 'Product_name'])['product_count'].hist(bins=50)"
      ],
      "execution_count": 21,
      "outputs": [
        {
          "output_type": "execute_result",
          "data": {
            "text/plain": [
              "rest_code  Product_name        \n",
              "Мечта      Кофе АМЕРИКАНО 90мл     AxesSubplot(0.125,0.125;0.775x0.755)\n",
              "           Кофе КАПУЧИНО 150мл     AxesSubplot(0.125,0.125;0.775x0.755)\n",
              "           Кофе Латте 300мл        AxesSubplot(0.125,0.125;0.775x0.755)\n",
              "           Кофе ЭСПРЕССО  30 мл    AxesSubplot(0.125,0.125;0.775x0.755)\n",
              "           Раф кофе 300мл          AxesSubplot(0.125,0.125;0.775x0.755)\n",
              "Озерный    Кофе АМЕРИКАНО 90мл     AxesSubplot(0.125,0.125;0.775x0.755)\n",
              "           Кофе КАПУЧИНО 150мл     AxesSubplot(0.125,0.125;0.775x0.755)\n",
              "           Кофе Латте 300мл        AxesSubplot(0.125,0.125;0.775x0.755)\n",
              "           Кофе ЭСПРЕССО  30 мл    AxesSubplot(0.125,0.125;0.775x0.755)\n",
              "           Раф кофе 300мл          AxesSubplot(0.125,0.125;0.775x0.755)\n",
              "Name: product_count, dtype: object"
            ]
          },
          "metadata": {},
          "execution_count": 21
        },
        {
          "output_type": "display_data",
          "data": {
            "image/png": "[encoded data removed]",
            "text/plain": [
              "<Figure size 432x288 with 1 Axes>"
            ]
          },
          "metadata": {
            "needs_background": "light"
          }
        }
      ]
    },
    {
      "cell_type": "code",
      "metadata": {
        "colab": {
          "base_uri": "https://localhost:8080/",
          "height": 455
        },
        "id": "TnNp4OycqGfK",
        "outputId": "e1063fda-144c-4517-f9b7-0015078af94e"
      },
      "source": [
        "ax = mergeList[mergeList['Product_name'].isin(top5)].boxplot(figsize=(30,10), column='product_count', by = ['rest_code', 'Product_name'])\n",
        "ax.get_figure().suptitle('')\n",
        "plt.legend()"
      ],
      "execution_count": 19,
      "outputs": [
        {
          "output_type": "stream",
          "name": "stderr",
          "text": [
            "/usr/local/lib/python3.7/dist-packages/numpy/core/_asarray.py:83: VisibleDeprecationWarning: Creating an ndarray from ragged nested sequences (which is a list-or-tuple of lists-or-tuples-or ndarrays with different lengths or shapes) is deprecated. If you meant to do this, you must specify 'dtype=object' when creating the ndarray\n",
            "  return array(a, dtype, copy=False, order=order)\n",
            "No handles with labels found to put in legend.\n"
          ]
        },
        {
          "output_type": "execute_result",
          "data": {
            "text/plain": [
              "<matplotlib.legend.Legend at 0x7fdfd885ce90>"
            ]
          },
          "metadata": {},
          "execution_count": 19
        },
        {
          "output_type": "display_data",
          "data": {
            "image/png": "[encoded data removed]",
            "text/plain": [
              "<Figure size 2160x720 with 1 Axes>"
            ]
          },
          "metadata": {
            "needs_background": "light"
          }
        }
      ]
    },
    {
      "cell_type": "code",
      "metadata": {
        "colab": {
          "base_uri": "https://localhost:8080/"
        },
        "id": "DigQ9dzriCjD",
        "outputId": "3fc5f418-4cd3-45ac-f475-0b6ace8bf205"
      },
      "source": [
        "mergeList.groupby('Product_name')['product_count'].sum().sort_values(ascending = False)"
      ],
      "execution_count": 14,
      "outputs": [
        {
          "output_type": "execute_result",
          "data": {
            "text/plain": [
              "Product_name\n",
              "Кофе КАПУЧИНО 150мл          177515\n",
              "Кофе Латте 300мл             174315\n",
              "Кофе АМЕРИКАНО 90мл          115652\n",
              "Кофе ЭСПРЕССО  30 мл         115551\n",
              "Раф кофе 300мл                77722\n",
              "                              ...  \n",
              "Пирожное Руби 80г                74\n",
              "Чай Ориентал Бьюти 600мл         63\n",
              "Десерт Манифик 100г              56\n",
              "Чай черн с суш мятой500мл        19\n",
              "РАФ Кофе 250мл                    1\n",
              "Name: product_count, Length: 110, dtype: int64"
            ]
          },
          "metadata": {},
          "execution_count": 14
        }
      ]
    },
    {
      "cell_type": "code",
      "metadata": {
        "colab": {
          "base_uri": "https://localhost:8080/",
          "height": 369
        },
        "id": "-q-NjLb_iSuz",
        "outputId": "5966f510-ccf7-405f-fd1c-5e809e7e6dd8"
      },
      "source": [
        "ax = mergeList[mergeList['Product_name'] == 'Кофе ЭСПРЕССО  30 мл'].boxplot(by = 'rest_code', column = 'product_count')\n",
        "plt.title(u'Продажи Кофе ЭСПРЕССО  30 мл')\n",
        "ax.get_figure().suptitle('')"
      ],
      "execution_count": 15,
      "outputs": [
        {
          "output_type": "stream",
          "name": "stderr",
          "text": [
            "/usr/local/lib/python3.7/dist-packages/numpy/core/_asarray.py:83: VisibleDeprecationWarning: Creating an ndarray from ragged nested sequences (which is a list-or-tuple of lists-or-tuples-or ndarrays with different lengths or shapes) is deprecated. If you meant to do this, you must specify 'dtype=object' when creating the ndarray\n",
            "  return array(a, dtype, copy=False, order=order)\n"
          ]
        },
        {
          "output_type": "execute_result",
          "data": {
            "text/plain": [
              "Text(0.5, 0.98, '')"
            ]
          },
          "metadata": {},
          "execution_count": 15
        },
        {
          "output_type": "display_data",
          "data": {
            "image/png": "[encoded data removed]",
            "text/plain": [
              "<Figure size 432x288 with 1 Axes>"
            ]
          },
          "metadata": {
            "needs_background": "light"
          }
        }
      ]
    },
    {
      "cell_type": "code",
      "metadata": {
        "id": "i0JK-vClxbja"
      },
      "source": [
        "mergeList = SL.merge(PL, on=[\"product_code\"])"
      ],
      "execution_count": 40,
      "outputs": []
    },
    {
      "cell_type": "code",
      "metadata": {
        "id": "wMrFRRafv_do",
        "outputId": "c46e82c2-e285-4c3b-bbcf-f875e0d794dd",
        "colab": {
          "base_uri": "https://localhost:8080/",
          "height": 542
        }
      },
      "source": [
        "tl = mergeList[mergeList['rest_code'] == 'Мечта'].groupby(by=['date']).sum()['product_count'].reset_index()\n",
        "fig = px.line(tl, x='date', y='product_count',\n",
        "              labels={'date': 'Дата', 'product_count': 'Количество проданных продуктов', 'rest_code': 'Ресторан'})\n",
        "fig.show()\n"
      ],
      "execution_count": 41,
      "outputs": [
        {
          "output_type": "display_data",
          "data": {
            "text/html": [
              "<html>\n",
              "<head><meta charset=\"utf-8\" /></head>\n",
              "<body>\n",
              "    <div>\n",
              "            <script src=\"https://cdnjs.cloudflare.com/ajax/libs/mathjax/2.7.5/MathJax.js?config=TeX-AMS-MML_SVG\"></script><script type=\"text/javascript\">if (window.MathJax) {MathJax.Hub.Config({SVG: {font: \"STIX-Web\"}});}</script>\n",
              "                <script type=\"text/javascript\">window.PlotlyConfig = {MathJaxConfig: 'local'};</script>\n",
              "        <script src=\"https://cdn.plot.ly/plotly-latest.min.js\"></script>    \n",
              "            <div id=\"9bbe53ee-b6fc-43f3-8890-086b9099938e\" class=\"plotly-graph-div\" style=\"height:525px; width:100%;\"></div>\n",
              "            <script type=\"text/javascript\">\n",
              "                \n",
              "                    window.PLOTLYENV=window.PLOTLYENV || {};\n",
              "                    \n",
              "                if (document.getElementById(\"9bbe53ee-b6fc-43f3-8890-086b9099938e\")) {\n",
              "                    Plotly.newPlot(\n",
              "                        '9bbe53ee-b6fc-43f3-8890-086b9099938e',\n",
              "                        [{\"hoverlabel\": {\"namelength\": 0}, \"hovertemplate\": \"\\u0414\\u0430\\u0442\\u0430=%{x}<br>\\u041a\\u043e\\u043b\\u0438\\u0447\\u0435\\u0441\\u0442\\u0432\\u043e \\u043f\\u0440\\u043e\\u0434\\u0430\\u043d\\u043d\\u044b\\u0445 \\u043f\\u0440\\u043e\\u0434\\u0443\\u043a\\u0442\\u043e\\u0432=%{y}\", \"legendgroup\": \"\", \"line\": {\"color\": \"#636efa\", \"dash\": \"solid\"}, \"mode\": \"lines\", \"name\": \"\", \"showlegend\": false, \"type\": \"scattergl\", \"x\": [\"01.01.2009\", \"01.01.2010\", \"01.01.2011\", \"01.01.2012\", \"01.01.2013\", \"01.02.2009\", \"01.02.2010\", \"01.02.2011\", \"01.02.2012\", \"01.02.2013\", \"01.03.2009\", \"01.03.2010\", \"01.03.2011\", \"01.03.2012\", \"01.03.2013\", \"01.04.2009\", \"01.04.2010\", \"01.04.2011\", \"01.04.2012\", \"01.04.2013\", \"01.05.2009\", \"01.05.2010\", \"01.05.2011\", \"01.05.2012\", \"01.05.2013\", \"01.06.2009\", \"01.06.2010\", \"01.06.2011\", \"01.06.2012\", \"01.06.2013\", \"01.07.2009\", \"01.07.2010\", \"01.07.2011\", \"01.07.2012\", \"01.07.2013\", \"01.08.2009\", \"01.08.2010\", \"01.08.2011\", \"01.08.2012\", \"01.09.2009\", \"01.09.2010\", \"01.09.2011\", \"01.09.2012\", \"01.10.2009\", \"01.10.2010\", \"01.10.2011\", \"01.10.2012\", \"01.11.2009\", \"01.11.2010\", \"01.11.2011\", \"01.11.2012\", \"01.12.2009\", \"01.12.2010\", \"01.12.2011\", \"01.12.2012\", \"02.01.2009\", \"02.01.2010\", \"02.01.2011\", \"02.01.2012\", \"02.01.2013\", \"02.02.2009\", \"02.02.2010\", \"02.02.2011\", \"02.02.2012\", \"02.02.2013\", \"02.03.2009\", \"02.03.2010\", \"02.03.2011\", \"02.03.2012\", \"02.03.2013\", \"02.04.2009\", \"02.04.2010\", \"02.04.2011\", \"02.04.2012\", \"02.04.2013\", \"02.05.2009\", \"02.05.2010\", \"02.05.2011\", \"02.05.2012\", \"02.05.2013\", \"02.06.2009\", \"02.06.2010\", \"02.06.2011\", \"02.06.2012\", \"02.06.2013\", \"02.07.2009\", \"02.07.2010\", \"02.07.2011\", \"02.07.2012\", \"02.07.2013\", \"02.08.2009\", \"02.08.2010\", \"02.08.2011\", \"02.08.2012\", \"02.09.2009\", \"02.09.2010\", \"02.09.2011\", \"02.09.2012\", \"02.10.2009\", \"02.10.2010\", \"02.10.2011\", \"02.10.2012\", \"02.11.2009\", \"02.11.2010\", \"02.11.2011\", \"02.11.2012\", \"02.12.2009\", \"02.12.2010\", \"02.12.2011\", \"02.12.2012\", \"03.01.2009\", \"03.01.2010\", \"03.01.2011\", \"03.01.2012\", \"03.01.2013\", \"03.02.2009\", \"03.02.2010\", \"03.02.2011\", \"03.02.2012\", \"03.02.2013\", \"03.03.2009\", \"03.03.2010\", \"03.03.2011\", \"03.03.2012\", \"03.03.2013\", \"03.04.2009\", \"03.04.2010\", \"03.04.2011\", \"03.04.2012\", \"03.04.2013\", \"03.05.2009\", \"03.05.2010\", \"03.05.2011\", \"03.05.2012\", \"03.05.2013\", \"03.06.2009\", \"03.06.2010\", \"03.06.2011\", \"03.06.2012\", \"03.06.2013\", \"03.07.2009\", \"03.07.2010\", \"03.07.2011\", \"03.07.2012\", \"03.07.2013\", \"03.08.2009\", \"03.08.2010\", \"03.08.2011\", \"03.08.2012\", \"03.09.2009\", \"03.09.2010\", \"03.09.2011\", \"03.09.2012\", \"03.10.2009\", \"03.10.2010\", \"03.10.2011\", \"03.10.2012\", \"03.11.2009\", \"03.11.2010\", \"03.11.2011\", \"03.11.2012\", \"03.12.2009\", \"03.12.2010\", \"03.12.2011\", \"03.12.2012\", \"04.01.2009\", \"04.01.2010\", \"04.01.2011\", \"04.01.2012\", \"04.01.2013\", \"04.02.2009\", \"04.02.2010\", \"04.02.2011\", \"04.02.2012\", \"04.02.2013\", \"04.03.2009\", \"04.03.2010\", \"04.03.2011\", \"04.03.2012\", \"04.03.2013\", \"04.04.2009\", \"04.04.2010\", \"04.04.2011\", \"04.04.2012\", \"04.04.2013\", \"04.05.2009\", \"04.05.2010\", \"04.05.2011\", \"04.05.2012\", \"04.05.2013\", \"04.06.2009\", \"04.06.2010\", \"04.06.2011\", \"04.06.2012\", \"04.06.2013\", \"04.07.2009\", \"04.07.2010\", \"04.07.2011\", \"04.07.2012\", \"04.07.2013\", \"04.08.2009\", \"04.08.2010\", \"04.08.2011\", \"04.08.2012\", \"04.09.2009\", \"04.09.2010\", \"04.09.2011\", \"04.09.2012\", \"04.10.2009\", \"04.10.2010\", \"04.10.2011\", \"04.10.2012\", \"04.11.2009\", \"04.11.2010\", \"04.11.2011\", \"04.11.2012\", \"04.12.2009\", \"04.12.2010\", \"04.12.2011\", \"04.12.2012\", \"05.01.2009\", \"05.01.2010\", \"05.01.2011\", \"05.01.2012\", \"05.01.2013\", \"05.02.2009\", \"05.02.2010\", \"05.02.2011\", \"05.02.2012\", \"05.02.2013\", \"05.03.2009\", \"05.03.2010\", \"05.03.2011\", \"05.03.2012\", \"05.03.2013\", \"05.04.2009\", \"05.04.2010\", \"05.04.2011\", \"05.04.2012\", \"05.04.2013\", \"05.05.2009\", \"05.05.2010\", \"05.05.2011\", \"05.05.2012\", \"05.05.2013\", \"05.06.2009\", \"05.06.2010\", \"05.06.2011\", \"05.06.2012\", \"05.06.2013\", \"05.07.2009\", \"05.07.2010\", \"05.07.2011\", \"05.07.2012\", \"05.07.2013\", \"05.08.2009\", \"05.08.2010\", \"05.08.2011\", \"05.08.2012\", \"05.09.2009\", \"05.09.2010\", \"05.09.2011\", \"05.09.2012\", \"05.10.2009\", \"05.10.2010\", \"05.10.2011\", \"05.10.2012\", \"05.11.2009\", \"05.11.2010\", \"05.11.2011\", \"05.11.2012\", \"05.12.2009\", \"05.12.2010\", \"05.12.2011\", \"05.12.2012\", \"06.01.2009\", \"06.01.2010\", \"06.01.2011\", \"06.01.2012\", \"06.01.2013\", \"06.02.2009\", \"06.02.2010\", \"06.02.2011\", \"06.02.2012\", \"06.02.2013\", \"06.03.2009\", \"06.03.2010\", \"06.03.2011\", \"06.03.2012\", \"06.03.2013\", \"06.04.2009\", \"06.04.2010\", \"06.04.2011\", \"06.04.2012\", \"06.04.2013\", \"06.05.2009\", \"06.05.2010\", \"06.05.2011\", \"06.05.2012\", \"06.05.2013\", \"06.06.2009\", \"06.06.2010\", \"06.06.2011\", \"06.06.2012\", \"06.06.2013\", \"06.07.2009\", \"06.07.2010\", \"06.07.2011\", \"06.07.2012\", \"06.07.2013\", \"06.08.2009\", \"06.08.2010\", \"06.08.2011\", \"06.08.2012\", \"06.09.2009\", \"06.09.2010\", \"06.09.2011\", \"06.09.2012\", \"06.10.2009\", \"06.10.2010\", \"06.10.2011\", \"06.10.2012\", \"06.11.2009\", \"06.11.2010\", \"06.11.2011\", \"06.11.2012\", \"06.12.2009\", \"06.12.2010\", \"06.12.2011\", \"06.12.2012\", \"07.01.2009\", \"07.01.2010\", \"07.01.2011\", \"07.01.2012\", \"07.01.2013\", \"07.02.2009\", \"07.02.2010\", \"07.02.2011\", \"07.02.2012\", \"07.02.2013\", \"07.03.2009\", \"07.03.2010\", \"07.03.2011\", \"07.03.2012\", \"07.03.2013\", \"07.04.2009\", \"07.04.2010\", \"07.04.2011\", \"07.04.2012\", \"07.04.2013\", \"07.05.2009\", \"07.05.2010\", \"07.05.2011\", \"07.05.2012\", \"07.05.2013\", \"07.06.2009\", \"07.06.2010\", \"07.06.2011\", \"07.06.2012\", \"07.06.2013\", \"07.07.2009\", \"07.07.2010\", \"07.07.2011\", \"07.07.2012\", \"07.07.2013\", \"07.08.2009\", \"07.08.2010\", \"07.08.2011\", \"07.08.2012\", \"07.09.2009\", \"07.09.2010\", \"07.09.2011\", \"07.09.2012\", \"07.10.2009\", \"07.10.2010\", \"07.10.2011\", \"07.10.2012\", \"07.11.2009\", \"07.11.2010\", \"07.11.2011\", \"07.11.2012\", \"07.12.2009\", \"07.12.2010\", \"07.12.2011\", \"07.12.2012\", \"08.01.2009\", \"08.01.2010\", \"08.01.2011\", \"08.01.2012\", \"08.01.2013\", \"08.02.2009\", \"08.02.2010\", \"08.02.2011\", \"08.02.2012\", \"08.02.2013\", \"08.03.2009\", \"08.03.2010\", \"08.03.2011\", \"08.03.2012\", \"08.03.2013\", \"08.04.2009\", \"08.04.2010\", \"08.04.2011\", \"08.04.2012\", \"08.04.2013\", \"08.05.2009\", \"08.05.2010\", \"08.05.2011\", \"08.05.2012\", \"08.05.2013\", \"08.06.2009\", \"08.06.2010\", \"08.06.2011\", \"08.06.2012\", \"08.06.2013\", \"08.07.2009\", \"08.07.2010\", \"08.07.2011\", \"08.07.2012\", \"08.07.2013\", \"08.08.2009\", \"08.08.2010\", \"08.08.2011\", \"08.08.2012\", \"08.09.2009\", \"08.09.2010\", \"08.09.2011\", \"08.09.2012\", \"08.10.2009\", \"08.10.2010\", \"08.10.2011\", \"08.10.2012\", \"08.11.2009\", \"08.11.2010\", \"08.11.2011\", \"08.11.2012\", \"08.12.2009\", \"08.12.2010\", \"08.12.2011\", \"08.12.2012\", \"09.01.2009\", \"09.01.2010\", \"09.01.2011\", \"09.01.2012\", \"09.01.2013\", \"09.02.2009\", \"09.02.2010\", \"09.02.2011\", \"09.02.2012\", \"09.02.2013\", \"09.03.2009\", \"09.03.2010\", \"09.03.2011\", \"09.03.2012\", \"09.03.2013\", \"09.04.2009\", \"09.04.2010\", \"09.04.2011\", \"09.04.2012\", \"09.04.2013\", \"09.05.2009\", \"09.05.2010\", \"09.05.2011\", \"09.05.2012\", \"09.05.2013\", \"09.06.2009\", \"09.06.2010\", \"09.06.2011\", \"09.06.2012\", \"09.06.2013\", \"09.07.2009\", \"09.07.2010\", \"09.07.2011\", \"09.07.2012\", \"09.07.2013\", \"09.08.2009\", \"09.08.2010\", \"09.08.2011\", \"09.08.2012\", \"09.09.2009\", \"09.09.2010\", \"09.09.2011\", \"09.09.2012\", \"09.10.2009\", \"09.10.2010\", \"09.10.2011\", \"09.10.2012\", \"09.11.2009\", \"09.11.2010\", \"09.11.2011\", \"09.11.2012\", \"09.12.2009\", \"09.12.2010\", \"09.12.2011\", \"09.12.2012\", \"10.01.2009\", \"10.01.2010\", \"10.01.2011\", \"10.01.2012\", \"10.01.2013\", \"10.02.2009\", \"10.02.2010\", \"10.02.2011\", \"10.02.2012\", \"10.02.2013\", \"10.03.2009\", \"10.03.2010\", \"10.03.2011\", \"10.03.2012\", \"10.03.2013\", \"10.04.2009\", \"10.04.2010\", \"10.04.2011\", \"10.04.2012\", \"10.04.2013\", \"10.05.2009\", \"10.05.2010\", \"10.05.2011\", \"10.05.2012\", \"10.05.2013\", \"10.06.2009\", \"10.06.2010\", \"10.06.2011\", \"10.06.2012\", \"10.06.2013\", \"10.07.2009\", \"10.07.2010\", \"10.07.2011\", \"10.07.2012\", \"10.07.2013\", \"10.08.2009\", \"10.08.2010\", \"10.08.2011\", \"10.08.2012\", \"10.09.2009\", \"10.09.2010\", \"10.09.2011\", \"10.09.2012\", \"10.10.2009\", \"10.10.2010\", \"10.10.2011\", \"10.10.2012\", \"10.11.2009\", \"10.11.2010\", \"10.11.2011\", \"10.11.2012\", \"10.12.2009\", \"10.12.2010\", \"10.12.2011\", \"10.12.2012\", \"11.01.2009\", \"11.01.2010\", \"11.01.2011\", \"11.01.2012\", \"11.01.2013\", \"11.02.2009\", \"11.02.2010\", \"11.02.2011\", \"11.02.2012\", \"11.02.2013\", \"11.03.2009\", \"11.03.2010\", \"11.03.2011\", \"11.03.2012\", \"11.03.2013\", \"11.04.2009\", \"11.04.2010\", \"11.04.2011\", \"11.04.2012\", \"11.04.2013\", \"11.05.2009\", \"11.05.2010\", \"11.05.2011\", \"11.05.2012\", \"11.05.2013\", \"11.06.2009\", \"11.06.2010\", \"11.06.2011\", \"11.06.2012\", \"11.06.2013\", \"11.07.2009\", \"11.07.2010\", \"11.07.2011\", \"11.07.2012\", \"11.07.2013\", \"11.08.2009\", \"11.08.2010\", \"11.08.2011\", \"11.08.2012\", \"11.09.2009\", \"11.09.2010\", \"11.09.2011\", \"11.09.2012\", \"11.10.2009\", \"11.10.2010\", \"11.10.2011\", \"11.10.2012\", \"11.11.2009\", \"11.11.2010\", \"11.11.2011\", \"11.11.2012\", \"11.12.2009\", \"11.12.2010\", \"11.12.2011\", \"11.12.2012\", \"12.01.2009\", \"12.01.2010\", \"12.01.2011\", \"12.01.2012\", \"12.01.2013\", \"12.02.2009\", \"12.02.2010\", \"12.02.2011\", \"12.02.2012\", \"12.02.2013\", \"12.03.2009\", \"12.03.2010\", \"12.03.2011\", \"12.03.2012\", \"12.03.2013\", \"12.04.2009\", \"12.04.2010\", \"12.04.2011\", \"12.04.2012\", \"12.04.2013\", \"12.05.2009\", \"12.05.2010\", \"12.05.2011\", \"12.05.2012\", \"12.05.2013\", \"12.06.2009\", \"12.06.2010\", \"12.06.2011\", \"12.06.2012\", \"12.06.2013\", \"12.07.2009\", \"12.07.2010\", \"12.07.2011\", \"12.07.2012\", \"12.07.2013\", \"12.08.2009\", \"12.08.2010\", \"12.08.2011\", \"12.08.2012\", \"12.09.2009\", \"12.09.2010\", \"12.09.2011\", \"12.09.2012\", \"12.10.2009\", \"12.10.2010\", \"12.10.2011\", \"12.10.2012\", \"12.11.2009\", \"12.11.2010\", \"12.11.2011\", \"12.11.2012\", \"12.12.2009\", \"12.12.2010\", \"12.12.2011\", \"12.12.2012\", \"13.01.2009\", \"13.01.2010\", \"13.01.2011\", \"13.01.2012\", \"13.01.2013\", \"13.02.2009\", \"13.02.2010\", \"13.02.2011\", \"13.02.2012\", \"13.02.2013\", \"13.03.2009\", \"13.03.2010\", \"13.03.2011\", \"13.03.2012\", \"13.03.2013\", \"13.04.2009\", \"13.04.2010\", \"13.04.2011\", \"13.04.2012\", \"13.04.2013\", \"13.05.2009\", \"13.05.2010\", \"13.05.2011\", \"13.05.2012\", \"13.05.2013\", \"13.06.2009\", \"13.06.2010\", \"13.06.2011\", \"13.06.2012\", \"13.06.2013\", \"13.07.2009\", \"13.07.2010\", \"13.07.2011\", \"13.07.2012\", \"13.07.2013\", \"13.08.2009\", \"13.08.2010\", \"13.08.2011\", \"13.08.2012\", \"13.09.2009\", \"13.09.2010\", \"13.09.2011\", \"13.09.2012\", \"13.10.2009\", \"13.10.2010\", \"13.10.2011\", \"13.10.2012\", \"13.11.2009\", \"13.11.2010\", \"13.11.2011\", \"13.11.2012\", \"13.12.2009\", \"13.12.2010\", \"13.12.2011\", \"13.12.2012\", \"14.01.2009\", \"14.01.2010\", \"14.01.2011\", \"14.01.2012\", \"14.01.2013\", \"14.02.2009\", \"14.02.2010\", \"14.02.2011\", \"14.02.2012\", \"14.02.2013\", \"14.03.2009\", \"14.03.2010\", \"14.03.2011\", \"14.03.2012\", \"14.03.2013\", \"14.04.2009\", \"14.04.2010\", \"14.04.2011\", \"14.04.2012\", \"14.04.2013\", \"14.05.2009\", \"14.05.2010\", \"14.05.2011\", \"14.05.2012\", \"14.05.2013\", \"14.06.2009\", \"14.06.2010\", \"14.06.2011\", \"14.06.2012\", \"14.06.2013\", \"14.07.2009\", \"14.07.2010\", \"14.07.2011\", \"14.07.2012\", \"14.07.2013\", \"14.08.2009\", \"14.08.2010\", \"14.08.2011\", \"14.08.2012\", \"14.09.2009\", \"14.09.2010\", \"14.09.2011\", \"14.09.2012\", \"14.10.2009\", \"14.10.2010\", \"14.10.2011\", \"14.10.2012\", \"14.11.2009\", \"14.11.2010\", \"14.11.2011\", \"14.11.2012\", \"14.12.2009\", \"14.12.2010\", \"14.12.2011\", \"14.12.2012\", \"15.01.2009\", \"15.01.2010\", \"15.01.2011\", \"15.01.2012\", \"15.01.2013\", \"15.02.2009\", \"15.02.2010\", \"15.02.2011\", \"15.02.2012\", \"15.02.2013\", \"15.03.2009\", \"15.03.2010\", \"15.03.2011\", \"15.03.2012\", \"15.03.2013\", \"15.04.2009\", \"15.04.2010\", \"15.04.2011\", \"15.04.2012\", \"15.04.2013\", \"15.05.2009\", \"15.05.2010\", \"15.05.2011\", \"15.05.2012\", \"15.05.2013\", \"15.06.2009\", \"15.06.2010\", \"15.06.2011\", \"15.06.2012\", \"15.06.2013\", \"15.07.2009\", \"15.07.2010\", \"15.07.2011\", \"15.07.2012\", \"15.07.2013\", \"15.08.2009\", \"15.08.2010\", \"15.08.2011\", \"15.08.2012\", \"15.09.2009\", \"15.09.2010\", \"15.09.2011\", \"15.09.2012\", \"15.10.2009\", \"15.10.2010\", \"15.10.2011\", \"15.10.2012\", \"15.11.2009\", \"15.11.2010\", \"15.11.2011\", \"15.11.2012\", \"15.12.2009\", \"15.12.2010\", \"15.12.2011\", \"15.12.2012\", \"16.01.2009\", \"16.01.2010\", \"16.01.2011\", \"16.01.2012\", \"16.01.2013\", \"16.02.2009\", \"16.02.2010\", \"16.02.2011\", \"16.02.2012\", \"16.02.2013\", \"16.03.2009\", \"16.03.2010\", \"16.03.2011\", \"16.03.2012\", \"16.03.2013\", \"16.04.2009\", \"16.04.2010\", \"16.04.2011\", \"16.04.2012\", \"16.04.2013\", \"16.05.2009\", \"16.05.2010\", \"16.05.2011\", \"16.05.2012\", \"16.05.2013\", \"16.06.2009\", \"16.06.2010\", \"16.06.2011\", \"16.06.2012\", \"16.06.2013\", \"16.07.2009\", \"16.07.2010\", \"16.07.2011\", \"16.07.2012\", \"16.07.2013\", \"16.08.2009\", \"16.08.2010\", \"16.08.2011\", \"16.08.2012\", \"16.09.2009\", \"16.09.2010\", \"16.09.2011\", \"16.09.2012\", \"16.10.2009\", \"16.10.2010\", \"16.10.2011\", \"16.10.2012\", \"16.11.2009\", \"16.11.2010\", \"16.11.2011\", \"16.11.2012\", \"16.12.2009\", \"16.12.2010\", \"16.12.2011\", \"16.12.2012\", \"17.01.2009\", \"17.01.2010\", \"17.01.2011\", \"17.01.2012\", \"17.01.2013\", \"17.02.2009\", \"17.02.2010\", \"17.02.2011\", \"17.02.2012\", \"17.02.2013\", \"17.03.2009\", \"17.03.2010\", \"17.03.2011\", \"17.03.2012\", \"17.03.2013\", \"17.04.2009\", \"17.04.2010\", \"17.04.2011\", \"17.04.2012\", \"17.04.2013\", \"17.05.2009\", \"17.05.2010\", \"17.05.2011\", \"17.05.2012\", \"17.05.2013\", \"17.06.2009\", \"17.06.2010\", \"17.06.2011\", \"17.06.2012\", \"17.06.2013\", \"17.07.2009\", \"17.07.2010\", \"17.07.2011\", \"17.07.2012\", \"17.07.2013\", \"17.08.2009\", \"17.08.2010\", \"17.08.2011\", \"17.08.2012\", \"17.09.2009\", \"17.09.2010\", \"17.09.2011\", \"17.09.2012\", \"17.10.2009\", \"17.10.2010\", \"17.10.2011\", \"17.10.2012\", \"17.11.2009\", \"17.11.2010\", \"17.11.2011\", \"17.11.2012\", \"17.12.2009\", \"17.12.2010\", \"17.12.2011\", \"17.12.2012\", \"18.01.2009\", \"18.01.2010\", \"18.01.2011\", \"18.01.2012\", \"18.01.2013\", \"18.02.2009\", \"18.02.2010\", \"18.02.2011\", \"18.02.2012\", \"18.02.2013\", \"18.03.2009\", \"18.03.2010\", \"18.03.2011\", \"18.03.2012\", \"18.03.2013\", \"18.04.2009\", \"18.04.2010\", \"18.04.2011\", \"18.04.2012\", \"18.04.2013\", \"18.05.2009\", \"18.05.2010\", \"18.05.2011\", \"18.05.2012\", \"18.05.2013\", \"18.06.2009\", \"18.06.2010\", \"18.06.2011\", \"18.06.2012\", \"18.06.2013\", \"18.07.2009\", \"18.07.2010\", \"18.07.2011\", \"18.07.2012\", \"18.08.2009\", \"18.08.2010\", \"18.08.2011\", \"18.08.2012\", \"18.09.2009\", \"18.09.2010\", \"18.09.2011\", \"18.09.2012\", \"18.10.2009\", \"18.10.2010\", \"18.10.2011\", \"18.10.2012\", \"18.11.2009\", \"18.11.2010\", \"18.11.2011\", \"18.11.2012\", \"18.12.2009\", \"18.12.2010\", \"18.12.2011\", \"18.12.2012\", \"19.01.2009\", \"19.01.2010\", \"19.01.2011\", \"19.01.2012\", \"19.01.2013\", \"19.02.2009\", \"19.02.2010\", \"19.02.2011\", \"19.02.2012\", \"19.02.2013\", \"19.03.2009\", \"19.03.2010\", \"19.03.2011\", \"19.03.2012\", \"19.03.2013\", \"19.04.2009\", \"19.04.2010\", \"19.04.2011\", \"19.04.2012\", \"19.04.2013\", \"19.05.2009\", \"19.05.2010\", \"19.05.2011\", \"19.05.2012\", \"19.05.2013\", \"19.06.2009\", \"19.06.2010\", \"19.06.2011\", \"19.06.2012\", \"19.06.2013\", \"19.07.2009\", \"19.07.2010\", \"19.07.2011\", \"19.07.2012\", \"19.08.2009\", \"19.08.2010\", \"19.08.2011\", \"19.08.2012\", \"19.09.2009\", \"19.09.2010\", \"19.09.2011\", \"19.09.2012\", \"19.10.2009\", \"19.10.2010\", \"19.10.2011\", \"19.10.2012\", \"19.11.2009\", \"19.11.2010\", \"19.11.2011\", \"19.11.2012\", \"19.12.2009\", \"19.12.2010\", \"19.12.2011\", \"19.12.2012\", \"20.01.2009\", \"20.01.2010\", \"20.01.2011\", \"20.01.2012\", \"20.01.2013\", \"20.02.2009\", \"20.02.2010\", \"20.02.2011\", \"20.02.2012\", \"20.02.2013\", \"20.03.2009\", \"20.03.2010\", \"20.03.2011\", \"20.03.2012\", \"20.03.2013\", \"20.04.2009\", \"20.04.2010\", \"20.04.2011\", \"20.04.2012\", \"20.04.2013\", \"20.05.2009\", \"20.05.2010\", \"20.05.2011\", \"20.05.2012\", \"20.05.2013\", \"20.06.2009\", \"20.06.2010\", \"20.06.2011\", \"20.06.2012\", \"20.06.2013\", \"20.07.2009\", \"20.07.2010\", \"20.07.2011\", \"20.07.2012\", \"20.08.2009\", \"20.08.2010\", \"20.08.2011\", \"20.08.2012\", \"20.09.2009\", \"20.09.2010\", \"20.09.2011\", \"20.09.2012\", \"20.10.2009\", \"20.10.2010\", \"20.10.2011\", \"20.10.2012\", \"20.11.2009\", \"20.11.2010\", \"20.11.2011\", \"20.11.2012\", \"20.12.2009\", \"20.12.2010\", \"20.12.2011\", \"20.12.2012\", \"21.01.2009\", \"21.01.2010\", \"21.01.2011\", \"21.01.2012\", \"21.01.2013\", \"21.02.2009\", \"21.02.2010\", \"21.02.2011\", \"21.02.2012\", \"21.02.2013\", \"21.03.2009\", \"21.03.2010\", \"21.03.2011\", \"21.03.2012\", \"21.03.2013\", \"21.04.2009\", \"21.04.2010\", \"21.04.2011\", \"21.04.2012\", \"21.04.2013\", \"21.05.2009\", \"21.05.2010\", \"21.05.2011\", \"21.05.2012\", \"21.05.2013\", \"21.06.2009\", \"21.06.2010\", \"21.06.2011\", \"21.06.2012\", \"21.06.2013\", \"21.07.2009\", \"21.07.2010\", \"21.07.2011\", \"21.07.2012\", \"21.08.2009\", \"21.08.2010\", \"21.08.2011\", \"21.08.2012\", \"21.09.2009\", \"21.09.2010\", \"21.09.2011\", \"21.09.2012\", \"21.10.2009\", \"21.10.2010\", \"21.10.2011\", \"21.10.2012\", \"21.11.2009\", \"21.11.2010\", \"21.11.2011\", \"21.11.2012\", \"21.12.2009\", \"21.12.2010\", \"21.12.2011\", \"21.12.2012\", \"22.01.2009\", \"22.01.2010\", \"22.01.2011\", \"22.01.2012\", \"22.01.2013\", \"22.02.2009\", \"22.02.2010\", \"22.02.2011\", \"22.02.2012\", \"22.02.2013\", \"22.03.2009\", \"22.03.2010\", \"22.03.2011\", \"22.03.2012\", \"22.03.2013\", \"22.04.2009\", \"22.04.2010\", \"22.04.2011\", \"22.04.2012\", \"22.04.2013\", \"22.05.2009\", \"22.05.2010\", \"22.05.2011\", \"22.05.2012\", \"22.05.2013\", \"22.06.2009\", \"22.06.2010\", \"22.06.2011\", \"22.06.2012\", \"22.06.2013\", \"22.07.2009\", \"22.07.2010\", \"22.07.2011\", \"22.07.2012\", \"22.08.2009\", \"22.08.2010\", \"22.08.2011\", \"22.08.2012\", \"22.09.2009\", \"22.09.2010\", \"22.09.2011\", \"22.09.2012\", \"22.10.2009\", \"22.10.2010\", \"22.10.2011\", \"22.10.2012\", \"22.11.2009\", \"22.11.2010\", \"22.11.2011\", \"22.11.2012\", \"22.12.2009\", \"22.12.2010\", \"22.12.2011\", \"22.12.2012\", \"23.01.2009\", \"23.01.2010\", \"23.01.2011\", \"23.01.2012\", \"23.01.2013\", \"23.02.2009\", \"23.02.2010\", \"23.02.2011\", \"23.02.2012\", \"23.02.2013\", \"23.03.2009\", \"23.03.2010\", \"23.03.2011\", \"23.03.2012\", \"23.03.2013\", \"23.04.2009\", \"23.04.2010\", \"23.04.2011\", \"23.04.2012\", \"23.04.2013\", \"23.05.2009\", \"23.05.2010\", \"23.05.2011\", \"23.05.2012\", \"23.05.2013\", \"23.06.2009\", \"23.06.2010\", \"23.06.2011\", \"23.06.2012\", \"23.06.2013\", \"23.07.2009\", \"23.07.2010\", \"23.07.2011\", \"23.07.2012\", \"23.08.2009\", \"23.08.2010\", \"23.08.2011\", \"23.08.2012\", \"23.09.2009\", \"23.09.2010\", \"23.09.2011\", \"23.09.2012\", \"23.10.2009\", \"23.10.2010\", \"23.10.2011\", \"23.10.2012\", \"23.11.2009\", \"23.11.2010\", \"23.11.2011\", \"23.11.2012\", \"23.12.2009\", \"23.12.2010\", \"23.12.2011\", \"23.12.2012\", \"24.01.2009\", \"24.01.2010\", \"24.01.2011\", \"24.01.2012\", \"24.01.2013\", \"24.02.2009\", \"24.02.2010\", \"24.02.2011\", \"24.02.2012\", \"24.02.2013\", \"24.03.2009\", \"24.03.2010\", \"24.03.2011\", \"24.03.2012\", \"24.03.2013\", \"24.04.2009\", \"24.04.2010\", \"24.04.2011\", \"24.04.2012\", \"24.04.2013\", \"24.05.2009\", \"24.05.2010\", \"24.05.2011\", \"24.05.2012\", \"24.05.2013\", \"24.06.2009\", \"24.06.2010\", \"24.06.2011\", \"24.06.2012\", \"24.06.2013\", \"24.07.2009\", \"24.07.2010\", \"24.07.2011\", \"24.07.2012\", \"24.08.2009\", \"24.08.2010\", \"24.08.2011\", \"24.08.2012\", \"24.09.2009\", \"24.09.2010\", \"24.09.2011\", \"24.09.2012\", \"24.10.2009\", \"24.10.2010\", \"24.10.2011\", \"24.10.2012\", \"24.11.2009\", \"24.11.2010\", \"24.11.2011\", \"24.11.2012\", \"24.12.2009\", \"24.12.2010\", \"24.12.2011\", \"24.12.2012\", \"25.01.2009\", \"25.01.2010\", \"25.01.2011\", \"25.01.2012\", \"25.01.2013\", \"25.02.2009\", \"25.02.2010\", \"25.02.2011\", \"25.02.2012\", \"25.02.2013\", \"25.03.2009\", \"25.03.2010\", \"25.03.2011\", \"25.03.2012\", \"25.03.2013\", \"25.04.2009\", \"25.04.2010\", \"25.04.2011\", \"25.04.2012\", \"25.04.2013\", \"25.05.2009\", \"25.05.2010\", \"25.05.2011\", \"25.05.2012\", \"25.05.2013\", \"25.06.2009\", \"25.06.2010\", \"25.06.2011\", \"25.06.2012\", \"25.06.2013\", \"25.07.2009\", \"25.07.2010\", \"25.07.2011\", \"25.07.2012\", \"25.08.2009\", \"25.08.2010\", \"25.08.2011\", \"25.08.2012\", \"25.09.2009\", \"25.09.2010\", \"25.09.2011\", \"25.09.2012\", \"25.10.2009\", \"25.10.2010\", \"25.10.2011\", \"25.10.2012\", \"25.11.2009\", \"25.11.2010\", \"25.11.2011\", \"25.11.2012\", \"25.12.2009\", \"25.12.2010\", \"25.12.2011\", \"25.12.2012\", \"26.01.2009\", \"26.01.2010\", \"26.01.2011\", \"26.01.2012\", \"26.01.2013\", \"26.02.2009\", \"26.02.2010\", \"26.02.2011\", \"26.02.2012\", \"26.02.2013\", \"26.03.2009\", \"26.03.2010\", \"26.03.2011\", \"26.03.2012\", \"26.03.2013\", \"26.04.2009\", \"26.04.2010\", \"26.04.2011\", \"26.04.2012\", \"26.04.2013\", \"26.05.2009\", \"26.05.2010\", \"26.05.2011\", \"26.05.2012\", \"26.05.2013\", \"26.06.2009\", \"26.06.2010\", \"26.06.2011\", \"26.06.2012\", \"26.06.2013\", \"26.07.2009\", \"26.07.2010\", \"26.07.2011\", \"26.07.2012\", \"26.08.2009\", \"26.08.2010\", \"26.08.2011\", \"26.08.2012\", \"26.09.2009\", \"26.09.2010\", \"26.09.2011\", \"26.09.2012\", \"26.10.2009\", \"26.10.2010\", \"26.10.2011\", \"26.10.2012\", \"26.11.2009\", \"26.11.2010\", \"26.11.2011\", \"26.11.2012\", \"26.12.2009\", \"26.12.2010\", \"26.12.2011\", \"26.12.2012\", \"27.01.2009\", \"27.01.2010\", \"27.01.2011\", \"27.01.2012\", \"27.01.2013\", \"27.02.2009\", \"27.02.2010\", \"27.02.2011\", \"27.02.2012\", \"27.02.2013\", \"27.03.2009\", \"27.03.2010\", \"27.03.2011\", \"27.03.2012\", \"27.03.2013\", \"27.04.2009\", \"27.04.2010\", \"27.04.2011\", \"27.04.2012\", \"27.04.2013\", \"27.05.2009\", \"27.05.2010\", \"27.05.2011\", \"27.05.2012\", \"27.05.2013\", \"27.06.2009\", \"27.06.2010\", \"27.06.2011\", \"27.06.2012\", \"27.06.2013\", \"27.07.2009\", \"27.07.2010\", \"27.07.2011\", \"27.07.2012\", \"27.08.2009\", \"27.08.2010\", \"27.08.2011\", \"27.08.2012\", \"27.09.2009\", \"27.09.2010\", \"27.09.2011\", \"27.09.2012\", \"27.10.2009\", \"27.10.2010\", \"27.10.2011\", \"27.10.2012\", \"27.11.2009\", \"27.11.2010\", \"27.11.2011\", \"27.11.2012\", \"27.12.2009\", \"27.12.2010\", \"27.12.2011\", \"27.12.2012\", \"28.01.2009\", \"28.01.2010\", \"28.01.2011\", \"28.01.2012\", \"28.01.2013\", \"28.02.2009\", \"28.02.2010\", \"28.02.2011\", \"28.02.2012\", \"28.02.2013\", \"28.03.2009\", \"28.03.2010\", \"28.03.2011\", \"28.03.2012\", \"28.03.2013\", \"28.04.2009\", \"28.04.2010\", \"28.04.2011\", \"28.04.2012\", \"28.04.2013\", \"28.05.2009\", \"28.05.2010\", \"28.05.2011\", \"28.05.2012\", \"28.05.2013\", \"28.06.2009\", \"28.06.2010\", \"28.06.2011\", \"28.06.2012\", \"28.06.2013\", \"28.07.2009\", \"28.07.2010\", \"28.07.2011\", \"28.07.2012\", \"28.08.2009\", \"28.08.2010\", \"28.08.2011\", \"28.08.2012\", \"28.09.2009\", \"28.09.2010\", \"28.09.2011\", \"28.09.2012\", \"28.10.2009\", \"28.10.2010\", \"28.10.2011\", \"28.10.2012\", \"28.11.2009\", \"28.11.2010\", \"28.11.2011\", \"28.11.2012\", \"28.12.2009\", \"28.12.2010\", \"28.12.2011\", \"28.12.2012\", \"29.01.2009\", \"29.01.2010\", \"29.01.2011\", \"29.01.2012\", \"29.01.2013\", \"29.02.2012\", \"29.03.2009\", \"29.03.2010\", \"29.03.2011\", \"29.03.2012\", \"29.03.2013\", \"29.04.2009\", \"29.04.2010\", \"29.04.2011\", \"29.04.2012\", \"29.04.2013\", \"29.05.2009\", \"29.05.2010\", \"29.05.2011\", \"29.05.2012\", \"29.05.2013\", \"29.06.2009\", \"29.06.2010\", \"29.06.2011\", \"29.06.2012\", \"29.06.2013\", \"29.07.2009\", \"29.07.2010\", \"29.07.2011\", \"29.07.2012\", \"29.08.2009\", \"29.08.2010\", \"29.08.2011\", \"29.08.2012\", \"29.09.2009\", \"29.09.2010\", \"29.09.2011\", \"29.09.2012\", \"29.10.2009\", \"29.10.2010\", \"29.10.2011\", \"29.10.2012\", \"29.11.2009\", \"29.11.2010\", \"29.11.2011\", \"29.11.2012\", \"29.12.2009\", \"29.12.2010\", \"29.12.2011\", \"29.12.2012\", \"30.01.2009\", \"30.01.2010\", \"30.01.2011\", \"30.01.2012\", \"30.01.2013\", \"30.03.2009\", \"30.03.2010\", \"30.03.2011\", \"30.03.2012\", \"30.03.2013\", \"30.04.2009\", \"30.04.2010\", \"30.04.2011\", \"30.04.2012\", \"30.04.2013\", \"30.05.2009\", \"30.05.2010\", \"30.05.2011\", \"30.05.2012\", \"30.05.2013\", \"30.06.2009\", \"30.06.2010\", \"30.06.2011\", \"30.06.2012\", \"30.06.2013\", \"30.07.2009\", \"30.07.2010\", \"30.07.2011\", \"30.07.2012\", \"30.08.2009\", \"30.08.2010\", \"30.08.2011\", \"30.08.2012\", \"30.09.2009\", \"30.09.2010\", \"30.09.2011\", \"30.09.2012\", \"30.10.2009\", \"30.10.2010\", \"30.10.2011\", \"30.10.2012\", \"30.11.2009\", \"30.11.2010\", \"30.11.2011\", \"30.11.2012\", \"30.12.2009\", \"30.12.2010\", \"30.12.2011\", \"30.12.2012\", \"31.01.2009\", \"31.01.2010\", \"31.01.2011\", \"31.01.2012\", \"31.01.2013\", \"31.03.2009\", \"31.03.2010\", \"31.03.2011\", \"31.03.2012\", \"31.03.2013\", \"31.05.2009\", \"31.05.2010\", \"31.05.2011\", \"31.05.2012\", \"31.05.2013\", \"31.07.2009\", \"31.07.2010\", \"31.07.2011\", \"31.07.2012\", \"31.08.2009\", \"31.08.2010\", \"31.08.2011\", \"31.08.2012\", \"31.10.2009\", \"31.10.2010\", \"31.10.2011\", \"31.10.2012\", \"31.12.2009\", \"31.12.2010\", \"31.12.2011\", \"31.12.2012\"], \"xaxis\": \"x\", \"y\": [281, 393, 366, 394, 442, 635, 567, 572, 763, 571, 705, 558, 614, 795, 669, 572, 884, 794, 997, 571, 786, 936, 613, 1017, 643, 667, 821, 471, 1106, 611, 710, 862, 768, 997, 368, 854, 871, 700, 763, 757, 818, 960, 1190, 658, 856, 1082, 759, 853, 508, 732, 835, 554, 555, 744, 999, 598, 637, 586, 615, 616, 513, 664, 556, 547, 896, 488, 680, 619, 867, 867, 555, 794, 934, 816, 747, 788, 913, 691, 908, 538, 758, 882, 534, 1232, 523, 647, 801, 975, 808, 417, 831, 411, 826, 833, 723, 769, 956, 1115, 658, 1068, 1055, 886, 544, 643, 747, 968, 545, 659, 793, 935, 508, 628, 549, 669, 555, 505, 653, 611, 736, 818, 475, 700, 643, 977, 991, 616, 1029, 964, 753, 678, 765, 909, 431, 855, 421, 709, 852, 589, 1184, 473, 752, 877, 897, 839, 400, 676, 557, 855, 719, 824, 735, 1307, 842, 869, 947, 671, 882, 546, 592, 823, 943, 615, 664, 1037, 643, 476, 595, 455, 548, 611, 543, 699, 659, 873, 500, 633, 722, 663, 979, 564, 889, 1131, 694, 776, 739, 585, 640, 519, 845, 446, 816, 919, 804, 977, 518, 907, 941, 602, 940, 377, 680, 500, 819, 974, 754, 862, 901, 830, 823, 676, 709, 888, 739, 839, 878, 972, 662, 876, 1041, 619, 491, 621, 478, 549, 569, 532, 761, 773, 842, 641, 495, 798, 663, 620, 673, 806, 637, 741, 787, 671, 524, 741, 454, 814, 633, 730, 1273, 679, 987, 464, 743, 737, 726, 918, 421, 688, 415, 900, 879, 836, 1022, 800, 988, 534, 668, 794, 848, 440, 717, 992, 850, 830, 831, 689, 730, 489, 578, 480, 670, 637, 602, 1046, 714, 697, 675, 722, 921, 680, 768, 676, 561, 749, 676, 892, 971, 552, 684, 510, 840, 415, 1044, 1270, 502, 1110, 528, 555, 697, 785, 829, 403, 733, 413, 945, 623, 749, 725, 875, 1000, 615, 798, 872, 1060, 539, 726, 1039, 528, 875, 573, 768, 790, 458, 610, 468, 606, 659, 779, 912, 512, 758, 715, 739, 956, 585, 740, 690, 569, 874, 648, 1103, 938, 529, 767, 526, 877, 456, 916, 751, 633, 973, 596, 737, 710, 794, 1043, 368, 746, 373, 935, 673, 767, 774, 898, 941, 637, 747, 828, 1044, 725, 812, 672, 751, 420, 618, 791, 706, 451, 608, 506, 631, 650, 696, 653, 557, 818, 717, 671, 928, 743, 957, 876, 636, 741, 675, 1065, 683, 602, 1018, 566, 1013, 523, 804, 912, 784, 938, 502, 715, 781, 844, 1015, 425, 927, 380, 688, 825, 663, 751, 889, 1117, 696, 756, 959, 645, 670, 501, 689, 753, 555, 575, 853, 1039, 509, 669, 592, 595, 424, 506, 637, 585, 812, 942, 670, 638, 525, 839, 885, 611, 829, 865, 746, 713, 719, 728, 665, 1044, 525, 728, 897, 910, 940, 505, 675, 625, 948, 713, 409, 852, 323, 684, 871, 723, 777, 842, 1126, 653, 1009, 1012, 768, 516, 561, 687, 753, 559, 623, 775, 919, 574, 708, 576, 495, 486, 472, 717, 610, 797, 902, 410, 656, 583, 868, 927, 730, 1122, 904, 836, 774, 759, 1100, 494, 806, 433, 688, 867, 779, 1082, 402, 701, 855, 945, 834, 437, 610, 418, 603, 824, 880, 764, 998, 690, 819, 944, 580, 749, 515, 737, 839, 1031, 619, 582, 920, 647, 397, 537, 392, 625, 529, 630, 757, 607, 1028, 622, 564, 825, 605, 615, 617, 899, 1110, 555, 841, 726, 774, 731, 558, 973, 488, 649, 786, 879, 984, 527, 824, 809, 687, 733, 415, 679, 419, 684, 1041, 861, 885, 938, 943, 985, 661, 819, 773, 587, 713, 928, 1037, 695, 823, 979, 760, 370, 528, 411, 585, 724, 559, 708, 778, 910, 738, 491, 761, 829, 649, 659, 879, 785, 595, 869, 774, 557, 945, 607, 948, 463, 750, 894, 769, 857, 502, 797, 578, 648, 800, 391, 694, 475, 753, 901, 986, 983, 752, 1030, 434, 657, 748, 777, 597, 868, 1057, 633, 943, 920, 709, 777, 424, 577, 478, 607, 751, 645, 910, 692, 666, 792, 540, 1005, 836, 738, 680, 604, 755, 688, 772, 1106, 622, 812, 665, 1480, 435, 773, 1074, 896, 950, 444, 528, 670, 758, 863, 361, 704, 527, 877, 695, 958, 604, 778, 986, 598, 669, 728, 1043, 718, 833, 1037, 734, 927, 560, 677, 670, 427, 625, 509, 903, 525, 775, 960, 532, 756, 710, 804, 1037, 594, 762, 616, 604, 758, 620, 1061, 1084, 530, 1000, 952, 905, 532, 929, 1186, 794, 904, 446, 616, 639, 762, 1058, 376, 640, 697, 871, 686, 741, 740, 941, 1010, 691, 778, 885, 1196, 824, 1032, 613, 818, 586, 540, 772, 789, 541, 622, 801, 921, 642, 742, 542, 531, 769, 745, 780, 632, 606, 741, 688, 616, 843, 741, 952, 692, 680, 1265, 904, 970, 636, 745, 740, 804, 950, 464, 657, 692, 634, 1068, 392, 747, 656, 545, 756, 788, 745, 941, 1240, 680, 758, 1053, 764, 887, 547, 750, 753, 565, 506, 701, 972, 574, 872, 767, 635, 657, 485, 585, 519, 792, 1021, 466, 667, 637, 796, 985, 605, 905, 909, 779, 776, 929, 1484, 620, 1047, 631, 731, 846, 802, 1191, 401, 626, 636, 763, 734, 595, 882, 535, 673, 787, 810, 678, 922, 1226, 758, 935, 1098, 712, 444, 733, 795, 803, 608, 640, 699, 975, 663, 905, 518, 741, 675, 488, 652, 622, 870, 1080, 564, 724, 670, 1029, 954, 615, 1256, 954, 812, 840, 1037, 753, 624, 1048, 588, 773, 846, 944, 1166, 453, 626, 643, 832, 941, 422, 590, 544, 654, 773, 890, 811, 1112, 856, 870, 1043, 722, 745, 547, 710, 738, 1047, 717, 592, 1008, 604, 587, 610, 628, 773, 706, 524, 626, 624, 1046, 610, 550, 714, 708, 1047, 608, 911, 1134, 721, 849, 834, 769, 927, 703, 1206, 726, 855, 959, 1049, 924, 502, 799, 742, 689, 984, 722, 546, 732, 1005, 794, 1011, 1157, 844, 953, 603, 790, 742, 655, 685, 832, 1072, 690, 886, 893, 730, 471, 655, 626, 739, 909, 597, 661, 752, 973, 726, 556, 760, 969, 666, 651, 801, 769, 634, 965, 810, 801, 976, 653, 1441, 641, 737, 1171, 989, 932, 582, 725, 622, 729, 982, 708, 643, 791, 1095, 970, 942, 899, 1093, 521, 692, 765, 829, 700, 676, 1012, 671, 921, 830, 719, 722, 518, 676, 667, 854, 965, 604, 829, 786, 701, 731, 693, 1041, 824, 788, 735, 547, 724, 671, 943, 1027, 863, 995, 716, 1257, 532, 849, 1070, 740, 1036, 492, 503, 670, 689, 812, 677, 628, 985, 645, 1054, 639, 976, 1117, 717, 657, 923, 1099, 670, 881, 942, 787, 823, 485, 736, 787, 522, 674, 609, 934, 647, 745, 762, 534, 709, 730, 833, 963, 444, 821, 652, 551, 755, 679, 1503, 1043, 774, 878, 710, 868, 638, 954, 801, 861, 977, 480, 538, 600, 758, 1051, 620, 975, 922, 795, 756, 710, 939, 1049, 627, 614, 1003, 1091, 885, 828, 652, 755, 540, 526, 686, 758, 589, 738, 888, 817, 684, 722, 689, 569, 753, 714, 782, 539, 640, 877, 812, 701, 775, 726, 1483, 631, 799, 1291, 678, 979, 654, 667, 785, 773, 874, 563, 704, 559, 769, 1124, 837, 866, 711, 793, 864, 678, 850, 1279, 658, 738, 1186, 721, 879, 551, 761, 786, 654, 577, 708, 973, 631, 973, 804, 600, 692, 668, 798, 714, 794, 916, 509, 784, 620, 806, 968, 687, 802, 936, 1058, 746, 872, 1321, 587, 1168, 651, 758, 818, 913, 1130, 440, 686, 539, 932, 772, 806, 585, 831, 815, 849, 709, 852, 1109, 616, 1141, 993, 695, 542, 704, 827, 826, 638, 542, 792, 971, 832, 988, 582, 784, 765, 441, 523, 548, 601, 917, 509, 749, 702, 1136, 836, 709, 1099, 978, 1106, 759, 1017, 870, 665, 1125, 591, 850, 709, 907, 1177, 416, 659, 627, 775, 930, 503, 692, 854, 882, 834, 798, 1234, 772, 912, 1081, 785, 838, 596, 596, 742, 1049, 691, 653, 984, 789, 779, 592, 564, 774, 735, 503, 523, 556, 931, 601, 553, 751, 640, 1092, 524, 1093, 1057, 609, 1147, 529, 685, 997, 667, 1136, 698, 683, 691, 1056, 889, 415, 891, 725, 548, 857, 634, 606, 886, 1067, 684, 1044, 1102, 873, 946, 628, 720, 861, 577, 662, 836, 1105, 748, 800, 805, 644, 473, 609, 588, 786, 954, 528, 613, 776, 997, 712, 545, 846, 920, 769, 632, 1046, 666, 699, 1030, 743, 710, 667, 742, 1294, 604, 673, 909, 933, 865, 383, 941, 508, 591, 774, 735, 790, 766, 1075, 1011, 982, 838, 834, 602, 739, 948, 813, 628, 733, 948, 608, 817, 666, 625, 725, 543, 697, 622, 768, 1031, 482, 763, 745, 667, 687, 596, 1074, 865, 796, 686, 695, 777, 659, 1007, 831, 755, 798, 746, 1464, 549, 863, 846, 752, 919, 421, 546, 609, 627, 767, 729, 798, 1006, 785, 921, 643, 898, 874, 571, 699, 825, 1088, 674, 1000, 968, 757, 963, 420, 671, 616, 526, 604, 659, 1038, 657, 752, 961, 559, 703, 695, 789, 1126, 628, 780, 709, 687, 700, 608, 1120, 965, 741, 933, 681, 899, 609, 878, 765, 795, 941, 407, 683, 549, 642, 876, 692, 925, 1030, 702, 582, 629, 910, 892, 686, 723, 844, 950, 792, 915, 618, 726, 555, 602, 631, 676, 573, 690, 811, 962, 619, 740, 681, 560, 621, 757, 768, 748, 756, 644, 1322, 621, 761, 1270, 614, 946, 627, 667, 841, 821, 967, 325, 682, 576, 709, 940, 938, 978, 713, 614, 658, 727, 870, 1184, 707, 751, 1038, 654, 791, 644, 777, 600, 714, 501, 721, 852, 570, 941, 800, 732, 705, 504, 683, 665, 776, 1043, 652, 789, 757, 944, 531, 987, 1198, 520, 1022, 547, 747, 840, 772, 1196, 345, 628, 597, 843, 575, 929, 671, 819, 811, 755, 829, 882, 1093, 708, 978, 1145, 693, 563, 617, 765, 628, 658, 533, 744, 688, 783, 957, 444, 703, 746, 566, 713, 680, 1062, 974, 997, 848, 558, 989, 518, 698, 759, 874, 680, 652, 718, 874, 850, 827, 1081, 699, 755, 632, 514, 610, 549], \"yaxis\": \"y\"}],\n",
              "                        {\"legend\": {\"tracegroupgap\": 0}, \"margin\": {\"t\": 60}, \"template\": {\"data\": {\"bar\": [{\"error_x\": {\"color\": \"#2a3f5f\"}, \"error_y\": {\"color\": \"#2a3f5f\"}, \"marker\": {\"line\": {\"color\": \"#E5ECF6\", \"width\": 0.5}}, \"type\": \"bar\"}], \"barpolar\": [{\"marker\": {\"line\": {\"color\": \"#E5ECF6\", \"width\": 0.5}}, \"type\": \"barpolar\"}], \"carpet\": [{\"aaxis\": {\"endlinecolor\": \"#2a3f5f\", \"gridcolor\": \"white\", \"linecolor\": \"white\", \"minorgridcolor\": \"white\", \"startlinecolor\": \"#2a3f5f\"}, \"baxis\": {\"endlinecolor\": \"#2a3f5f\", \"gridcolor\": \"white\", \"linecolor\": \"white\", \"minorgridcolor\": \"white\", \"startlinecolor\": \"#2a3f5f\"}, \"type\": \"carpet\"}], \"choropleth\": [{\"colorbar\": {\"outlinewidth\": 0, \"ticks\": \"\"}, \"type\": \"choropleth\"}], \"contour\": [{\"colorbar\": {\"outlinewidth\": 0, \"ticks\": \"\"}, \"colorscale\": [[0.0, \"#0d0887\"], [0.1111111111111111, \"#46039f\"], [0.2222222222222222, \"#7201a8\"], [0.3333333333333333, \"#9c179e\"], [0.4444444444444444, \"#bd3786\"], [0.5555555555555556, \"#d8576b\"], [0.6666666666666666, \"#ed7953\"], [0.7777777777777778, \"#fb9f3a\"], [0.8888888888888888, \"#fdca26\"], [1.0, \"#f0f921\"]], \"type\": \"contour\"}], \"contourcarpet\": [{\"colorbar\": {\"outlinewidth\": 0, \"ticks\": \"\"}, \"type\": \"contourcarpet\"}], \"heatmap\": [{\"colorbar\": {\"outlinewidth\": 0, \"ticks\": \"\"}, \"colorscale\": [[0.0, \"#0d0887\"], [0.1111111111111111, \"#46039f\"], [0.2222222222222222, \"#7201a8\"], [0.3333333333333333, \"#9c179e\"], [0.4444444444444444, \"#bd3786\"], [0.5555555555555556, \"#d8576b\"], [0.6666666666666666, \"#ed7953\"], [0.7777777777777778, \"#fb9f3a\"], [0.8888888888888888, \"#fdca26\"], [1.0, \"#f0f921\"]], \"type\": \"heatmap\"}], \"heatmapgl\": [{\"colorbar\": {\"outlinewidth\": 0, \"ticks\": \"\"}, \"colorscale\": [[0.0, \"#0d0887\"], [0.1111111111111111, \"#46039f\"], [0.2222222222222222, \"#7201a8\"], [0.3333333333333333, \"#9c179e\"], [0.4444444444444444, \"#bd3786\"], [0.5555555555555556, \"#d8576b\"], [0.6666666666666666, \"#ed7953\"], [0.7777777777777778, \"#fb9f3a\"], [0.8888888888888888, \"#fdca26\"], [1.0, \"#f0f921\"]], \"type\": \"heatmapgl\"}], \"histogram\": [{\"marker\": {\"colorbar\": {\"outlinewidth\": 0, \"ticks\": \"\"}}, \"type\": \"histogram\"}], \"histogram2d\": [{\"colorbar\": {\"outlinewidth\": 0, \"ticks\": \"\"}, \"colorscale\": [[0.0, \"#0d0887\"], [0.1111111111111111, \"#46039f\"], [0.2222222222222222, \"#7201a8\"], [0.3333333333333333, \"#9c179e\"], [0.4444444444444444, \"#bd3786\"], [0.5555555555555556, \"#d8576b\"], [0.6666666666666666, \"#ed7953\"], [0.7777777777777778, \"#fb9f3a\"], [0.8888888888888888, \"#fdca26\"], [1.0, \"#f0f921\"]], \"type\": \"histogram2d\"}], \"histogram2dcontour\": [{\"colorbar\": {\"outlinewidth\": 0, \"ticks\": \"\"}, \"colorscale\": [[0.0, \"#0d0887\"], [0.1111111111111111, \"#46039f\"], [0.2222222222222222, \"#7201a8\"], [0.3333333333333333, \"#9c179e\"], [0.4444444444444444, \"#bd3786\"], [0.5555555555555556, \"#d8576b\"], [0.6666666666666666, \"#ed7953\"], [0.7777777777777778, \"#fb9f3a\"], [0.8888888888888888, \"#fdca26\"], [1.0, \"#f0f921\"]], \"type\": \"histogram2dcontour\"}], \"mesh3d\": [{\"colorbar\": {\"outlinewidth\": 0, \"ticks\": \"\"}, \"type\": \"mesh3d\"}], \"parcoords\": [{\"line\": {\"colorbar\": {\"outlinewidth\": 0, \"ticks\": \"\"}}, \"type\": \"parcoords\"}], \"pie\": [{\"automargin\": true, \"type\": \"pie\"}], \"scatter\": [{\"marker\": {\"colorbar\": {\"outlinewidth\": 0, \"ticks\": \"\"}}, \"type\": \"scatter\"}], \"scatter3d\": [{\"line\": {\"colorbar\": {\"outlinewidth\": 0, \"ticks\": \"\"}}, \"marker\": {\"colorbar\": {\"outlinewidth\": 0, \"ticks\": \"\"}}, \"type\": \"scatter3d\"}], \"scattercarpet\": [{\"marker\": {\"colorbar\": {\"outlinewidth\": 0, \"ticks\": \"\"}}, \"type\": \"scattercarpet\"}], \"scattergeo\": [{\"marker\": {\"colorbar\": {\"outlinewidth\": 0, \"ticks\": \"\"}}, \"type\": \"scattergeo\"}], \"scattergl\": [{\"marker\": {\"colorbar\": {\"outlinewidth\": 0, \"ticks\": \"\"}}, \"type\": \"scattergl\"}], \"scattermapbox\": [{\"marker\": {\"colorbar\": {\"outlinewidth\": 0, \"ticks\": \"\"}}, \"type\": \"scattermapbox\"}], \"scatterpolar\": [{\"marker\": {\"colorbar\": {\"outlinewidth\": 0, \"ticks\": \"\"}}, \"type\": \"scatterpolar\"}], \"scatterpolargl\": [{\"marker\": {\"colorbar\": {\"outlinewidth\": 0, \"ticks\": \"\"}}, \"type\": \"scatterpolargl\"}], \"scatterternary\": [{\"marker\": {\"colorbar\": {\"outlinewidth\": 0, \"ticks\": \"\"}}, \"type\": \"scatterternary\"}], \"surface\": [{\"colorbar\": {\"outlinewidth\": 0, \"ticks\": \"\"}, \"colorscale\": [[0.0, \"#0d0887\"], [0.1111111111111111, \"#46039f\"], [0.2222222222222222, \"#7201a8\"], [0.3333333333333333, \"#9c179e\"], [0.4444444444444444, \"#bd3786\"], [0.5555555555555556, \"#d8576b\"], [0.6666666666666666, \"#ed7953\"], [0.7777777777777778, \"#fb9f3a\"], [0.8888888888888888, \"#fdca26\"], [1.0, \"#f0f921\"]], \"type\": \"surface\"}], \"table\": [{\"cells\": {\"fill\": {\"color\": \"#EBF0F8\"}, \"line\": {\"color\": \"white\"}}, \"header\": {\"fill\": {\"color\": \"#C8D4E3\"}, \"line\": {\"color\": \"white\"}}, \"type\": \"table\"}]}, \"layout\": {\"annotationdefaults\": {\"arrowcolor\": \"#2a3f5f\", \"arrowhead\": 0, \"arrowwidth\": 1}, \"coloraxis\": {\"colorbar\": {\"outlinewidth\": 0, \"ticks\": \"\"}}, \"colorscale\": {\"diverging\": [[0, \"#8e0152\"], [0.1, \"#c51b7d\"], [0.2, \"#de77ae\"], [0.3, \"#f1b6da\"], [0.4, \"#fde0ef\"], [0.5, \"#f7f7f7\"], [0.6, \"#e6f5d0\"], [0.7, \"#b8e186\"], [0.8, \"#7fbc41\"], [0.9, \"#4d9221\"], [1, \"#276419\"]], \"sequential\": [[0.0, \"#0d0887\"], [0.1111111111111111, \"#46039f\"], [0.2222222222222222, \"#7201a8\"], [0.3333333333333333, \"#9c179e\"], [0.4444444444444444, \"#bd3786\"], [0.5555555555555556, \"#d8576b\"], [0.6666666666666666, \"#ed7953\"], [0.7777777777777778, \"#fb9f3a\"], [0.8888888888888888, \"#fdca26\"], [1.0, \"#f0f921\"]], \"sequentialminus\": [[0.0, \"#0d0887\"], [0.1111111111111111, \"#46039f\"], [0.2222222222222222, \"#7201a8\"], [0.3333333333333333, \"#9c179e\"], [0.4444444444444444, \"#bd3786\"], [0.5555555555555556, \"#d8576b\"], [0.6666666666666666, \"#ed7953\"], [0.7777777777777778, \"#fb9f3a\"], [0.8888888888888888, \"#fdca26\"], [1.0, \"#f0f921\"]]}, \"colorway\": [\"#636efa\", \"#EF553B\", \"#00cc96\", \"#ab63fa\", \"#FFA15A\", \"#19d3f3\", \"#FF6692\", \"#B6E880\", \"#FF97FF\", \"#FECB52\"], \"font\": {\"color\": \"#2a3f5f\"}, \"geo\": {\"bgcolor\": \"white\", \"lakecolor\": \"white\", \"landcolor\": \"#E5ECF6\", \"showlakes\": true, \"showland\": true, \"subunitcolor\": \"white\"}, \"hoverlabel\": {\"align\": \"left\"}, \"hovermode\": \"closest\", \"mapbox\": {\"style\": \"light\"}, \"paper_bgcolor\": \"white\", \"plot_bgcolor\": \"#E5ECF6\", \"polar\": {\"angularaxis\": {\"gridcolor\": \"white\", \"linecolor\": \"white\", \"ticks\": \"\"}, \"bgcolor\": \"#E5ECF6\", \"radialaxis\": {\"gridcolor\": \"white\", \"linecolor\": \"white\", \"ticks\": \"\"}}, \"scene\": {\"xaxis\": {\"backgroundcolor\": \"#E5ECF6\", \"gridcolor\": \"white\", \"gridwidth\": 2, \"linecolor\": \"white\", \"showbackground\": true, \"ticks\": \"\", \"zerolinecolor\": \"white\"}, \"yaxis\": {\"backgroundcolor\": \"#E5ECF6\", \"gridcolor\": \"white\", \"gridwidth\": 2, \"linecolor\": \"white\", \"showbackground\": true, \"ticks\": \"\", \"zerolinecolor\": \"white\"}, \"zaxis\": {\"backgroundcolor\": \"#E5ECF6\", \"gridcolor\": \"white\", \"gridwidth\": 2, \"linecolor\": \"white\", \"showbackground\": true, \"ticks\": \"\", \"zerolinecolor\": \"white\"}}, \"shapedefaults\": {\"line\": {\"color\": \"#2a3f5f\"}}, \"ternary\": {\"aaxis\": {\"gridcolor\": \"white\", \"linecolor\": \"white\", \"ticks\": \"\"}, \"baxis\": {\"gridcolor\": \"white\", \"linecolor\": \"white\", \"ticks\": \"\"}, \"bgcolor\": \"#E5ECF6\", \"caxis\": {\"gridcolor\": \"white\", \"linecolor\": \"white\", \"ticks\": \"\"}}, \"title\": {\"x\": 0.05}, \"xaxis\": {\"automargin\": true, \"gridcolor\": \"white\", \"linecolor\": \"white\", \"ticks\": \"\", \"title\": {\"standoff\": 15}, \"zerolinecolor\": \"white\", \"zerolinewidth\": 2}, \"yaxis\": {\"automargin\": true, \"gridcolor\": \"white\", \"linecolor\": \"white\", \"ticks\": \"\", \"title\": {\"standoff\": 15}, \"zerolinecolor\": \"white\", \"zerolinewidth\": 2}}}, \"xaxis\": {\"anchor\": \"y\", \"domain\": [0.0, 1.0], \"title\": {\"text\": \"\\u0414\\u0430\\u0442\\u0430\"}}, \"yaxis\": {\"anchor\": \"x\", \"domain\": [0.0, 1.0], \"title\": {\"text\": \"\\u041a\\u043e\\u043b\\u0438\\u0447\\u0435\\u0441\\u0442\\u0432\\u043e \\u043f\\u0440\\u043e\\u0434\\u0430\\u043d\\u043d\\u044b\\u0445 \\u043f\\u0440\\u043e\\u0434\\u0443\\u043a\\u0442\\u043e\\u0432\"}}},\n",
              "                        {\"responsive\": true}\n",
              "                    ).then(function(){\n",
              "                            \n",
              "var gd = document.getElementById('9bbe53ee-b6fc-43f3-8890-086b9099938e');\n",
              "var x = new MutationObserver(function (mutations, observer) {{\n",
              "        var display = window.getComputedStyle(gd).display;\n",
              "        if (!display || display === 'none') {{\n",
              "            console.log([gd, 'removed!']);\n",
              "            Plotly.purge(gd);\n",
              "            observer.disconnect();\n",
              "        }}\n",
              "}});\n",
              "\n",
              "// Listen for the removal of the full notebook cells\n",
              "var notebookContainer = gd.closest('#notebook-container');\n",
              "if (notebookContainer) {{\n",
              "    x.observe(notebookContainer, {childList: true});\n",
              "}}\n",
              "\n",
              "// Listen for the clearing of the current output cell\n",
              "var outputEl = gd.closest('.output');\n",
              "if (outputEl) {{\n",
              "    x.observe(outputEl, {childList: true});\n",
              "}}\n",
              "\n",
              "                        })\n",
              "                };\n",
              "                \n",
              "            </script>\n",
              "        </div>\n",
              "</body>\n",
              "</html>"
            ]
          },
          "metadata": {}
        }
      ]
    },
    {
      "cell_type": "code",
      "metadata": {
        "id": "AF3H2pTQwv3m",
        "outputId": "8bdc4a06-3427-45a0-fbb2-fb74d628c3c1",
        "colab": {
          "base_uri": "https://localhost:8080/",
          "height": 419
        }
      },
      "source": [
        "mergeList[mergeList['rest_code'] == 'Мечта']"
      ],
      "execution_count": 42,
      "outputs": [
        {
          "output_type": "execute_result",
          "data": {
            "text/html": [
              "<div>\n",
              "<style scoped>\n",
              "    .dataframe tbody tr th:only-of-type {\n",
              "        vertical-align: middle;\n",
              "    }\n",
              "\n",
              "    .dataframe tbody tr th {\n",
              "        vertical-align: top;\n",
              "    }\n",
              "\n",
              "    .dataframe thead th {\n",
              "        text-align: right;\n",
              "    }\n",
              "</style>\n",
              "<table border=\"1\" class=\"dataframe\">\n",
              "  <thead>\n",
              "    <tr style=\"text-align: right;\">\n",
              "      <th></th>\n",
              "      <th>date</th>\n",
              "      <th>product_code</th>\n",
              "      <th>rest_code</th>\n",
              "      <th>product_count</th>\n",
              "      <th>Product_name</th>\n",
              "      <th>Unnamed: 2</th>\n",
              "      <th>Unnamed: 3</th>\n",
              "    </tr>\n",
              "  </thead>\n",
              "  <tbody>\n",
              "    <tr>\n",
              "      <th>432</th>\n",
              "      <td>01.01.2009</td>\n",
              "      <td>824021</td>\n",
              "      <td>Мечта</td>\n",
              "      <td>12</td>\n",
              "      <td>Чай красный фрукт 270мл</td>\n",
              "      <td>NaN</td>\n",
              "      <td>NaN</td>\n",
              "    </tr>\n",
              "    <tr>\n",
              "      <th>433</th>\n",
              "      <td>02.01.2009</td>\n",
              "      <td>824021</td>\n",
              "      <td>Мечта</td>\n",
              "      <td>18</td>\n",
              "      <td>Чай красный фрукт 270мл</td>\n",
              "      <td>NaN</td>\n",
              "      <td>NaN</td>\n",
              "    </tr>\n",
              "    <tr>\n",
              "      <th>434</th>\n",
              "      <td>03.01.2009</td>\n",
              "      <td>824021</td>\n",
              "      <td>Мечта</td>\n",
              "      <td>21</td>\n",
              "      <td>Чай красный фрукт 270мл</td>\n",
              "      <td>NaN</td>\n",
              "      <td>NaN</td>\n",
              "    </tr>\n",
              "    <tr>\n",
              "      <th>435</th>\n",
              "      <td>04.01.2009</td>\n",
              "      <td>824021</td>\n",
              "      <td>Мечта</td>\n",
              "      <td>24</td>\n",
              "      <td>Чай красный фрукт 270мл</td>\n",
              "      <td>NaN</td>\n",
              "      <td>NaN</td>\n",
              "    </tr>\n",
              "    <tr>\n",
              "      <th>436</th>\n",
              "      <td>05.01.2009</td>\n",
              "      <td>824021</td>\n",
              "      <td>Мечта</td>\n",
              "      <td>16</td>\n",
              "      <td>Чай красный фрукт 270мл</td>\n",
              "      <td>NaN</td>\n",
              "      <td>NaN</td>\n",
              "    </tr>\n",
              "    <tr>\n",
              "      <th>...</th>\n",
              "      <td>...</td>\n",
              "      <td>...</td>\n",
              "      <td>...</td>\n",
              "      <td>...</td>\n",
              "      <td>...</td>\n",
              "      <td>...</td>\n",
              "      <td>...</td>\n",
              "    </tr>\n",
              "    <tr>\n",
              "      <th>135915</th>\n",
              "      <td>26.05.2013</td>\n",
              "      <td>892545</td>\n",
              "      <td>Мечта</td>\n",
              "      <td>3</td>\n",
              "      <td>Десерт Манифик 100г</td>\n",
              "      <td>NaN</td>\n",
              "      <td>NaN</td>\n",
              "    </tr>\n",
              "    <tr>\n",
              "      <th>135916</th>\n",
              "      <td>27.05.2013</td>\n",
              "      <td>892545</td>\n",
              "      <td>Мечта</td>\n",
              "      <td>1</td>\n",
              "      <td>Десерт Манифик 100г</td>\n",
              "      <td>NaN</td>\n",
              "      <td>NaN</td>\n",
              "    </tr>\n",
              "    <tr>\n",
              "      <th>135917</th>\n",
              "      <td>28.05.2013</td>\n",
              "      <td>892545</td>\n",
              "      <td>Мечта</td>\n",
              "      <td>3</td>\n",
              "      <td>Десерт Манифик 100г</td>\n",
              "      <td>NaN</td>\n",
              "      <td>NaN</td>\n",
              "    </tr>\n",
              "    <tr>\n",
              "      <th>135918</th>\n",
              "      <td>29.05.2013</td>\n",
              "      <td>892545</td>\n",
              "      <td>Мечта</td>\n",
              "      <td>4</td>\n",
              "      <td>Десерт Манифик 100г</td>\n",
              "      <td>NaN</td>\n",
              "      <td>NaN</td>\n",
              "    </tr>\n",
              "    <tr>\n",
              "      <th>135919</th>\n",
              "      <td>30.05.2013</td>\n",
              "      <td>892545</td>\n",
              "      <td>Мечта</td>\n",
              "      <td>1</td>\n",
              "      <td>Десерт Манифик 100г</td>\n",
              "      <td>NaN</td>\n",
              "      <td>NaN</td>\n",
              "    </tr>\n",
              "  </tbody>\n",
              "</table>\n",
              "<p>73690 rows × 7 columns</p>\n",
              "</div>"
            ],
            "text/plain": [
              "              date  product_code  ... Unnamed: 2  Unnamed: 3\n",
              "432     01.01.2009        824021  ...        NaN         NaN\n",
              "433     02.01.2009        824021  ...        NaN         NaN\n",
              "434     03.01.2009        824021  ...        NaN         NaN\n",
              "435     04.01.2009        824021  ...        NaN         NaN\n",
              "436     05.01.2009        824021  ...        NaN         NaN\n",
              "...            ...           ...  ...        ...         ...\n",
              "135915  26.05.2013        892545  ...        NaN         NaN\n",
              "135916  27.05.2013        892545  ...        NaN         NaN\n",
              "135917  28.05.2013        892545  ...        NaN         NaN\n",
              "135918  29.05.2013        892545  ...        NaN         NaN\n",
              "135919  30.05.2013        892545  ...        NaN         NaN\n",
              "\n",
              "[73690 rows x 7 columns]"
            ]
          },
          "metadata": {},
          "execution_count": 42
        }
      ]
    }
  ]
}
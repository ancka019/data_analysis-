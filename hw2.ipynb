{
  "nbformat": 4,
  "nbformat_minor": 0,
  "metadata": {
    "colab": {
      "name": "hw2.ipynb",
      "provenance": [],
      "collapsed_sections": [],
      "authorship_tag": "ABX9TyMSdnMnJV4BxMcr274BFsiZ",
      "include_colab_link": true
    },
    "kernelspec": {
      "name": "python3",
      "display_name": "Python 3"
    },
    "language_info": {
      "name": "python"
    }
  },
  "cells": [
    {
      "cell_type": "markdown",
      "metadata": {
        "id": "view-in-github",
        "colab_type": "text"
      },
      "source": [
        "<a href=\"https://colab.research.google.com/github/ancka019/data_analysis-/blob/main/hw2.ipynb\" target=\"_parent\"><img src=\"https://colab.research.google.com/assets/colab-badge.svg\" alt=\"Open In Colab\"/></a>"
      ]
    },
    {
      "cell_type": "code",
      "metadata": {
        "id": "BnVF4Zsghg1s"
      },
      "source": [
        "import pandas as pd \n",
        "import numpy as np\n",
        "import matplotlib\n",
        "import matplotlib.pyplot as plt"
      ],
      "execution_count": 1,
      "outputs": []
    },
    {
      "cell_type": "code",
      "metadata": {
        "colab": {
          "base_uri": "https://localhost:8080/",
          "height": 204
        },
        "id": "uGV3CpsJiiy9",
        "outputId": "86c7b18b-ae26-4c41-9681-76758304115f"
      },
      "source": [
        "PL = pd.read_csv('PRODUCT_LIST.CSV', sep=';', encoding='Windows-1251')\n",
        "PL.head()"
      ],
      "execution_count": 3,
      "outputs": [
        {
          "output_type": "execute_result",
          "data": {
            "text/html": [
              "<div>\n",
              "<style scoped>\n",
              "    .dataframe tbody tr th:only-of-type {\n",
              "        vertical-align: middle;\n",
              "    }\n",
              "\n",
              "    .dataframe tbody tr th {\n",
              "        vertical-align: top;\n",
              "    }\n",
              "\n",
              "    .dataframe thead th {\n",
              "        text-align: right;\n",
              "    }\n",
              "</style>\n",
              "<table border=\"1\" class=\"dataframe\">\n",
              "  <thead>\n",
              "    <tr style=\"text-align: right;\">\n",
              "      <th></th>\n",
              "      <th>Product_code</th>\n",
              "      <th>Product_name</th>\n",
              "      <th>Unnamed: 2</th>\n",
              "      <th>Unnamed: 3</th>\n",
              "    </tr>\n",
              "  </thead>\n",
              "  <tbody>\n",
              "    <tr>\n",
              "      <th>0</th>\n",
              "      <td>821001</td>\n",
              "      <td>Кофе ЭСПРЕССО  30 мл</td>\n",
              "      <td>NaN</td>\n",
              "      <td>NaN</td>\n",
              "    </tr>\n",
              "    <tr>\n",
              "      <th>1</th>\n",
              "      <td>821002</td>\n",
              "      <td>Кофе ДОППИО 60мл</td>\n",
              "      <td>NaN</td>\n",
              "      <td>NaN</td>\n",
              "    </tr>\n",
              "    <tr>\n",
              "      <th>2</th>\n",
              "      <td>821003</td>\n",
              "      <td>Кофе РИСТРЕТТО  20 мл</td>\n",
              "      <td>NaN</td>\n",
              "      <td>NaN</td>\n",
              "    </tr>\n",
              "    <tr>\n",
              "      <th>3</th>\n",
              "      <td>821004</td>\n",
              "      <td>Фильтр кофе Верньяно250мл</td>\n",
              "      <td>NaN</td>\n",
              "      <td>NaN</td>\n",
              "    </tr>\n",
              "    <tr>\n",
              "      <th>4</th>\n",
              "      <td>821005</td>\n",
              "      <td>Кофе ЛУНГО  50 мл</td>\n",
              "      <td>NaN</td>\n",
              "      <td>NaN</td>\n",
              "    </tr>\n",
              "  </tbody>\n",
              "</table>\n",
              "</div>"
            ],
            "text/plain": [
              "   Product_code               Product_name Unnamed: 2 Unnamed: 3\n",
              "0        821001       Кофе ЭСПРЕССО  30 мл        NaN        NaN\n",
              "1        821002           Кофе ДОППИО 60мл        NaN        NaN\n",
              "2        821003      Кофе РИСТРЕТТО  20 мл        NaN        NaN\n",
              "3        821004  Фильтр кофе Верньяно250мл        NaN        NaN\n",
              "4        821005          Кофе ЛУНГО  50 мл        NaN        NaN"
            ]
          },
          "metadata": {},
          "execution_count": 3
        }
      ]
    },
    {
      "cell_type": "code",
      "metadata": {
        "colab": {
          "base_uri": "https://localhost:8080/",
          "height": 390
        },
        "id": "mV5_PplWit0G",
        "outputId": "168f728e-c133-44a5-eb9b-b712009c5b67"
      },
      "source": [
        "PL.describe(include = 'all')"
      ],
      "execution_count": 4,
      "outputs": [
        {
          "output_type": "execute_result",
          "data": {
            "text/html": [
              "<div>\n",
              "<style scoped>\n",
              "    .dataframe tbody tr th:only-of-type {\n",
              "        vertical-align: middle;\n",
              "    }\n",
              "\n",
              "    .dataframe tbody tr th {\n",
              "        vertical-align: top;\n",
              "    }\n",
              "\n",
              "    .dataframe thead th {\n",
              "        text-align: right;\n",
              "    }\n",
              "</style>\n",
              "<table border=\"1\" class=\"dataframe\">\n",
              "  <thead>\n",
              "    <tr style=\"text-align: right;\">\n",
              "      <th></th>\n",
              "      <th>Product_code</th>\n",
              "      <th>Product_name</th>\n",
              "      <th>Unnamed: 2</th>\n",
              "      <th>Unnamed: 3</th>\n",
              "    </tr>\n",
              "  </thead>\n",
              "  <tbody>\n",
              "    <tr>\n",
              "      <th>count</th>\n",
              "      <td>9786.000000</td>\n",
              "      <td>9786</td>\n",
              "      <td>1</td>\n",
              "      <td>7</td>\n",
              "    </tr>\n",
              "    <tr>\n",
              "      <th>unique</th>\n",
              "      <td>NaN</td>\n",
              "      <td>9563</td>\n",
              "      <td>1</td>\n",
              "      <td>6</td>\n",
              "    </tr>\n",
              "    <tr>\n",
              "      <th>top</th>\n",
              "      <td>NaN</td>\n",
              "      <td>Не использовать</td>\n",
              "      <td>манго</td>\n",
              "      <td>5</td>\n",
              "    </tr>\n",
              "    <tr>\n",
              "      <th>freq</th>\n",
              "      <td>NaN</td>\n",
              "      <td>6</td>\n",
              "      <td>1</td>\n",
              "      <td>2</td>\n",
              "    </tr>\n",
              "    <tr>\n",
              "      <th>mean</th>\n",
              "      <td>850216.386879</td>\n",
              "      <td>NaN</td>\n",
              "      <td>NaN</td>\n",
              "      <td>NaN</td>\n",
              "    </tr>\n",
              "    <tr>\n",
              "      <th>std</th>\n",
              "      <td>18368.989736</td>\n",
              "      <td>NaN</td>\n",
              "      <td>NaN</td>\n",
              "      <td>NaN</td>\n",
              "    </tr>\n",
              "    <tr>\n",
              "      <th>min</th>\n",
              "      <td>821001.000000</td>\n",
              "      <td>NaN</td>\n",
              "      <td>NaN</td>\n",
              "      <td>NaN</td>\n",
              "    </tr>\n",
              "    <tr>\n",
              "      <th>25%</th>\n",
              "      <td>840564.250000</td>\n",
              "      <td>NaN</td>\n",
              "      <td>NaN</td>\n",
              "      <td>NaN</td>\n",
              "    </tr>\n",
              "    <tr>\n",
              "      <th>50%</th>\n",
              "      <td>848287.500000</td>\n",
              "      <td>NaN</td>\n",
              "      <td>NaN</td>\n",
              "      <td>NaN</td>\n",
              "    </tr>\n",
              "    <tr>\n",
              "      <th>75%</th>\n",
              "      <td>854544.750000</td>\n",
              "      <td>NaN</td>\n",
              "      <td>NaN</td>\n",
              "      <td>NaN</td>\n",
              "    </tr>\n",
              "    <tr>\n",
              "      <th>max</th>\n",
              "      <td>894098.000000</td>\n",
              "      <td>NaN</td>\n",
              "      <td>NaN</td>\n",
              "      <td>NaN</td>\n",
              "    </tr>\n",
              "  </tbody>\n",
              "</table>\n",
              "</div>"
            ],
            "text/plain": [
              "         Product_code     Product_name Unnamed: 2 Unnamed: 3\n",
              "count     9786.000000             9786          1          7\n",
              "unique            NaN             9563          1          6\n",
              "top               NaN  Не использовать      манго          5\n",
              "freq              NaN                6          1          2\n",
              "mean    850216.386879              NaN        NaN        NaN\n",
              "std      18368.989736              NaN        NaN        NaN\n",
              "min     821001.000000              NaN        NaN        NaN\n",
              "25%     840564.250000              NaN        NaN        NaN\n",
              "50%     848287.500000              NaN        NaN        NaN\n",
              "75%     854544.750000              NaN        NaN        NaN\n",
              "max     894098.000000              NaN        NaN        NaN"
            ]
          },
          "metadata": {},
          "execution_count": 4
        }
      ]
    },
    {
      "cell_type": "code",
      "metadata": {
        "colab": {
          "base_uri": "https://localhost:8080/"
        },
        "id": "TGNYB870iv3B",
        "outputId": "af495518-efe5-4734-d5f5-bd6c633ea766"
      },
      "source": [
        "PL.dtypes"
      ],
      "execution_count": 4,
      "outputs": [
        {
          "output_type": "execute_result",
          "data": {
            "text/plain": [
              "Product_code     int64\n",
              "Product_name    object\n",
              "Unnamed: 2      object\n",
              "Unnamed: 3      object\n",
              "dtype: object"
            ]
          },
          "metadata": {},
          "execution_count": 4
        }
      ]
    },
    {
      "cell_type": "code",
      "metadata": {
        "colab": {
          "base_uri": "https://localhost:8080/"
        },
        "id": "tIbnprm6izib",
        "outputId": "6afc9ffc-e35c-4ebc-af89-7123dfa16f48"
      },
      "source": [
        "PL.info()"
      ],
      "execution_count": 5,
      "outputs": [
        {
          "output_type": "stream",
          "name": "stdout",
          "text": [
            "<class 'pandas.core.frame.DataFrame'>\n",
            "RangeIndex: 9786 entries, 0 to 9785\n",
            "Data columns (total 4 columns):\n",
            " #   Column        Non-Null Count  Dtype \n",
            "---  ------        --------------  ----- \n",
            " 0   Product_code  9786 non-null   int64 \n",
            " 1   Product_name  9786 non-null   object\n",
            " 2   Unnamed: 2    1 non-null      object\n",
            " 3   Unnamed: 3    7 non-null      object\n",
            "dtypes: int64(1), object(3)\n",
            "memory usage: 305.9+ KB\n"
          ]
        }
      ]
    },
    {
      "cell_type": "code",
      "metadata": {
        "colab": {
          "base_uri": "https://localhost:8080/",
          "height": 204
        },
        "id": "4O4Qr5SCi9GB",
        "outputId": "839ef4a6-d98a-4577-a3a7-25101dbbf514"
      },
      "source": [
        "SL = pd.read_csv('SALE_LIST.csv', sep=';', encoding='Windows-1251')\n",
        "SL.head()"
      ],
      "execution_count": 5,
      "outputs": [
        {
          "output_type": "execute_result",
          "data": {
            "text/html": [
              "<div>\n",
              "<style scoped>\n",
              "    .dataframe tbody tr th:only-of-type {\n",
              "        vertical-align: middle;\n",
              "    }\n",
              "\n",
              "    .dataframe tbody tr th {\n",
              "        vertical-align: top;\n",
              "    }\n",
              "\n",
              "    .dataframe thead th {\n",
              "        text-align: right;\n",
              "    }\n",
              "</style>\n",
              "<table border=\"1\" class=\"dataframe\">\n",
              "  <thead>\n",
              "    <tr style=\"text-align: right;\">\n",
              "      <th></th>\n",
              "      <th>date</th>\n",
              "      <th>product_code</th>\n",
              "      <th>rest_code</th>\n",
              "      <th>product_count</th>\n",
              "    </tr>\n",
              "  </thead>\n",
              "  <tbody>\n",
              "    <tr>\n",
              "      <th>0</th>\n",
              "      <td>06.01.2009</td>\n",
              "      <td>824021</td>\n",
              "      <td>Озерный</td>\n",
              "      <td>4</td>\n",
              "    </tr>\n",
              "    <tr>\n",
              "      <th>1</th>\n",
              "      <td>06.01.2009</td>\n",
              "      <td>824068</td>\n",
              "      <td>Озерный</td>\n",
              "      <td>1</td>\n",
              "    </tr>\n",
              "    <tr>\n",
              "      <th>2</th>\n",
              "      <td>06.01.2009</td>\n",
              "      <td>824070</td>\n",
              "      <td>Озерный</td>\n",
              "      <td>2</td>\n",
              "    </tr>\n",
              "    <tr>\n",
              "      <th>3</th>\n",
              "      <td>06.01.2009</td>\n",
              "      <td>824073</td>\n",
              "      <td>Озерный</td>\n",
              "      <td>1</td>\n",
              "    </tr>\n",
              "    <tr>\n",
              "      <th>4</th>\n",
              "      <td>06.01.2009</td>\n",
              "      <td>824074</td>\n",
              "      <td>Озерный</td>\n",
              "      <td>1</td>\n",
              "    </tr>\n",
              "  </tbody>\n",
              "</table>\n",
              "</div>"
            ],
            "text/plain": [
              "         date  product_code rest_code  product_count\n",
              "0  06.01.2009        824021   Озерный              4\n",
              "1  06.01.2009        824068   Озерный              1\n",
              "2  06.01.2009        824070   Озерный              2\n",
              "3  06.01.2009        824073   Озерный              1\n",
              "4  06.01.2009        824074   Озерный              1"
            ]
          },
          "metadata": {},
          "execution_count": 5
        }
      ]
    },
    {
      "cell_type": "code",
      "metadata": {
        "colab": {
          "base_uri": "https://localhost:8080/",
          "height": 390
        },
        "id": "vIFvOf_LjLQB",
        "outputId": "871c5e33-01b8-47b1-9803-b469b9ad5f5e"
      },
      "source": [
        "SL.describe(include = 'all')"
      ],
      "execution_count": 9,
      "outputs": [
        {
          "output_type": "execute_result",
          "data": {
            "text/html": [
              "<div>\n",
              "<style scoped>\n",
              "    .dataframe tbody tr th:only-of-type {\n",
              "        vertical-align: middle;\n",
              "    }\n",
              "\n",
              "    .dataframe tbody tr th {\n",
              "        vertical-align: top;\n",
              "    }\n",
              "\n",
              "    .dataframe thead th {\n",
              "        text-align: right;\n",
              "    }\n",
              "</style>\n",
              "<table border=\"1\" class=\"dataframe\">\n",
              "  <thead>\n",
              "    <tr style=\"text-align: right;\">\n",
              "      <th></th>\n",
              "      <th>date</th>\n",
              "      <th>product_code</th>\n",
              "      <th>rest_code</th>\n",
              "      <th>product_count</th>\n",
              "    </tr>\n",
              "  </thead>\n",
              "  <tbody>\n",
              "    <tr>\n",
              "      <th>count</th>\n",
              "      <td>135920</td>\n",
              "      <td>135920.000000</td>\n",
              "      <td>135920</td>\n",
              "      <td>135920.000000</td>\n",
              "    </tr>\n",
              "    <tr>\n",
              "      <th>unique</th>\n",
              "      <td>1826</td>\n",
              "      <td>NaN</td>\n",
              "      <td>2</td>\n",
              "      <td>NaN</td>\n",
              "    </tr>\n",
              "    <tr>\n",
              "      <th>top</th>\n",
              "      <td>20.09.2012</td>\n",
              "      <td>NaN</td>\n",
              "      <td>Мечта</td>\n",
              "      <td>NaN</td>\n",
              "    </tr>\n",
              "    <tr>\n",
              "      <th>freq</th>\n",
              "      <td>101</td>\n",
              "      <td>NaN</td>\n",
              "      <td>73690</td>\n",
              "      <td>NaN</td>\n",
              "    </tr>\n",
              "    <tr>\n",
              "      <th>mean</th>\n",
              "      <td>NaN</td>\n",
              "      <td>839804.895917</td>\n",
              "      <td>NaN</td>\n",
              "      <td>11.376663</td>\n",
              "    </tr>\n",
              "    <tr>\n",
              "      <th>std</th>\n",
              "      <td>NaN</td>\n",
              "      <td>28968.345316</td>\n",
              "      <td>NaN</td>\n",
              "      <td>18.153321</td>\n",
              "    </tr>\n",
              "    <tr>\n",
              "      <th>min</th>\n",
              "      <td>NaN</td>\n",
              "      <td>821001.000000</td>\n",
              "      <td>NaN</td>\n",
              "      <td>-6.000000</td>\n",
              "    </tr>\n",
              "    <tr>\n",
              "      <th>25%</th>\n",
              "      <td>NaN</td>\n",
              "      <td>822006.000000</td>\n",
              "      <td>NaN</td>\n",
              "      <td>2.000000</td>\n",
              "    </tr>\n",
              "    <tr>\n",
              "      <th>50%</th>\n",
              "      <td>NaN</td>\n",
              "      <td>824074.000000</td>\n",
              "      <td>NaN</td>\n",
              "      <td>5.000000</td>\n",
              "    </tr>\n",
              "    <tr>\n",
              "      <th>75%</th>\n",
              "      <td>NaN</td>\n",
              "      <td>862094.000000</td>\n",
              "      <td>NaN</td>\n",
              "      <td>12.000000</td>\n",
              "    </tr>\n",
              "    <tr>\n",
              "      <th>max</th>\n",
              "      <td>NaN</td>\n",
              "      <td>894098.000000</td>\n",
              "      <td>NaN</td>\n",
              "      <td>239.000000</td>\n",
              "    </tr>\n",
              "  </tbody>\n",
              "</table>\n",
              "</div>"
            ],
            "text/plain": [
              "              date   product_code rest_code  product_count\n",
              "count       135920  135920.000000    135920  135920.000000\n",
              "unique        1826            NaN         2            NaN\n",
              "top     20.09.2012            NaN     Мечта            NaN\n",
              "freq           101            NaN     73690            NaN\n",
              "mean           NaN  839804.895917       NaN      11.376663\n",
              "std            NaN   28968.345316       NaN      18.153321\n",
              "min            NaN  821001.000000       NaN      -6.000000\n",
              "25%            NaN  822006.000000       NaN       2.000000\n",
              "50%            NaN  824074.000000       NaN       5.000000\n",
              "75%            NaN  862094.000000       NaN      12.000000\n",
              "max            NaN  894098.000000       NaN     239.000000"
            ]
          },
          "metadata": {},
          "execution_count": 9
        }
      ]
    },
    {
      "cell_type": "code",
      "metadata": {
        "colab": {
          "base_uri": "https://localhost:8080/"
        },
        "id": "vkdgGLl-jcN4",
        "outputId": "42cdd063-97f9-40a0-aa65-debea6c85771"
      },
      "source": [
        "SL.dtypes"
      ],
      "execution_count": 10,
      "outputs": [
        {
          "output_type": "execute_result",
          "data": {
            "text/plain": [
              "date             object\n",
              "product_code      int64\n",
              "rest_code        object\n",
              "product_count     int64\n",
              "dtype: object"
            ]
          },
          "metadata": {},
          "execution_count": 10
        }
      ]
    },
    {
      "cell_type": "code",
      "metadata": {
        "colab": {
          "base_uri": "https://localhost:8080/"
        },
        "id": "yyNcxjFrjebh",
        "outputId": "b07bb924-575f-43a5-dae6-bbc71d3c81fd"
      },
      "source": [
        "SL.info"
      ],
      "execution_count": 11,
      "outputs": [
        {
          "output_type": "execute_result",
          "data": {
            "text/plain": [
              "<bound method DataFrame.info of               date  product_code rest_code  product_count\n",
              "0       06.01.2009        824021   Озерный              4\n",
              "1       06.01.2009        824068   Озерный              1\n",
              "2       06.01.2009        824070   Озерный              2\n",
              "3       06.01.2009        824073   Озерный              1\n",
              "4       06.01.2009        824074   Озерный              1\n",
              "...            ...           ...       ...            ...\n",
              "135915  26.05.2013        892545     Мечта              3\n",
              "135916  27.05.2013        892545     Мечта              1\n",
              "135917  28.05.2013        892545     Мечта              3\n",
              "135918  29.05.2013        892545     Мечта              4\n",
              "135919  30.05.2013        892545     Мечта              1\n",
              "\n",
              "[135920 rows x 4 columns]>"
            ]
          },
          "metadata": {},
          "execution_count": 11
        }
      ]
    },
    {
      "cell_type": "code",
      "metadata": {
        "colab": {
          "base_uri": "https://localhost:8080/"
        },
        "id": "_zc6m8Mujh1_",
        "outputId": "7f15baff-f07c-4797-f6b4-54de70d96d37"
      },
      "source": [
        "SL.shape"
      ],
      "execution_count": 13,
      "outputs": [
        {
          "output_type": "execute_result",
          "data": {
            "text/plain": [
              "(135920, 4)"
            ]
          },
          "metadata": {},
          "execution_count": 13
        }
      ]
    },
    {
      "cell_type": "code",
      "metadata": {
        "colab": {
          "base_uri": "https://localhost:8080/"
        },
        "id": "svMdq_Qajma8",
        "outputId": "5402dedb-b61d-4693-beb1-ca75d0f2b640"
      },
      "source": [
        "PL.shape"
      ],
      "execution_count": 14,
      "outputs": [
        {
          "output_type": "execute_result",
          "data": {
            "text/plain": [
              "(9786, 4)"
            ]
          },
          "metadata": {},
          "execution_count": 14
        }
      ]
    },
    {
      "cell_type": "code",
      "metadata": {
        "colab": {
          "base_uri": "https://localhost:8080/"
        },
        "id": "LX2SDgsIjsot",
        "outputId": "e5efbcf7-7c00-4f30-f116-ec664f56c914"
      },
      "source": [
        "PL['Product_name'].unique()"
      ],
      "execution_count": 16,
      "outputs": [
        {
          "output_type": "execute_result",
          "data": {
            "text/plain": [
              "array(['Кофе ЭСПРЕССО  30 мл', 'Кофе ДОППИО 60мл',\n",
              "       'Кофе РИСТРЕТТО  20 мл', ..., 'Мо Мо 120г',\n",
              "       'Салат грейпфрут-манго п/ф', 'Фруктовый десерт 200г'], dtype=object)"
            ]
          },
          "metadata": {},
          "execution_count": 16
        }
      ]
    },
    {
      "cell_type": "code",
      "metadata": {
        "colab": {
          "base_uri": "https://localhost:8080/"
        },
        "id": "waXnrtacjzPb",
        "outputId": "e1c7a5ec-b0fb-4eb2-baa0-aba956535275"
      },
      "source": [
        "PL['Unnamed: 3'].unique()"
      ],
      "execution_count": 17,
      "outputs": [
        {
          "output_type": "execute_result",
          "data": {
            "text/plain": [
              "array([nan, '5%', '6%', '75л', '33', '5', '5 см'], dtype=object)"
            ]
          },
          "metadata": {},
          "execution_count": 17
        }
      ]
    },
    {
      "cell_type": "code",
      "metadata": {
        "id": "trHMq9qGmYGQ"
      },
      "source": [
        "PL.rename(columns = {'Product_code':'product_code'}, inplace = True)"
      ],
      "execution_count": 6,
      "outputs": []
    },
    {
      "cell_type": "code",
      "metadata": {
        "id": "vjobts-Lk5LB"
      },
      "source": [
        "mergeList = SL.merge(PL, on=[\"product_code\"])"
      ],
      "execution_count": 7,
      "outputs": []
    },
    {
      "cell_type": "code",
      "metadata": {
        "colab": {
          "base_uri": "https://localhost:8080/",
          "height": 419
        },
        "id": "4RE31oHaoRwH",
        "outputId": "e306aa6b-141b-49b2-cb82-5e803d9f209d"
      },
      "source": [
        "mergeList[mergeList['Product_name'] == 'Кофе ЭСПРЕССО  30 мл']"
      ],
      "execution_count": 8,
      "outputs": [
        {
          "output_type": "execute_result",
          "data": {
            "text/html": [
              "<div>\n",
              "<style scoped>\n",
              "    .dataframe tbody tr th:only-of-type {\n",
              "        vertical-align: middle;\n",
              "    }\n",
              "\n",
              "    .dataframe tbody tr th {\n",
              "        vertical-align: top;\n",
              "    }\n",
              "\n",
              "    .dataframe thead th {\n",
              "        text-align: right;\n",
              "    }\n",
              "</style>\n",
              "<table border=\"1\" class=\"dataframe\">\n",
              "  <thead>\n",
              "    <tr style=\"text-align: right;\">\n",
              "      <th></th>\n",
              "      <th>date</th>\n",
              "      <th>product_code</th>\n",
              "      <th>rest_code</th>\n",
              "      <th>product_count</th>\n",
              "      <th>Product_name</th>\n",
              "      <th>Unnamed: 2</th>\n",
              "      <th>Unnamed: 3</th>\n",
              "    </tr>\n",
              "  </thead>\n",
              "  <tbody>\n",
              "    <tr>\n",
              "      <th>50454</th>\n",
              "      <td>06.01.2009</td>\n",
              "      <td>821001</td>\n",
              "      <td>Озерный</td>\n",
              "      <td>7</td>\n",
              "      <td>Кофе ЭСПРЕССО  30 мл</td>\n",
              "      <td>NaN</td>\n",
              "      <td>NaN</td>\n",
              "    </tr>\n",
              "    <tr>\n",
              "      <th>50455</th>\n",
              "      <td>07.01.2009</td>\n",
              "      <td>821001</td>\n",
              "      <td>Озерный</td>\n",
              "      <td>2</td>\n",
              "      <td>Кофе ЭСПРЕССО  30 мл</td>\n",
              "      <td>NaN</td>\n",
              "      <td>NaN</td>\n",
              "    </tr>\n",
              "    <tr>\n",
              "      <th>50456</th>\n",
              "      <td>08.01.2009</td>\n",
              "      <td>821001</td>\n",
              "      <td>Озерный</td>\n",
              "      <td>5</td>\n",
              "      <td>Кофе ЭСПРЕССО  30 мл</td>\n",
              "      <td>NaN</td>\n",
              "      <td>NaN</td>\n",
              "    </tr>\n",
              "    <tr>\n",
              "      <th>50457</th>\n",
              "      <td>09.01.2009</td>\n",
              "      <td>821001</td>\n",
              "      <td>Озерный</td>\n",
              "      <td>8</td>\n",
              "      <td>Кофе ЭСПРЕССО  30 мл</td>\n",
              "      <td>NaN</td>\n",
              "      <td>NaN</td>\n",
              "    </tr>\n",
              "    <tr>\n",
              "      <th>50458</th>\n",
              "      <td>10.01.2009</td>\n",
              "      <td>821001</td>\n",
              "      <td>Озерный</td>\n",
              "      <td>8</td>\n",
              "      <td>Кофе ЭСПРЕССО  30 мл</td>\n",
              "      <td>NaN</td>\n",
              "      <td>NaN</td>\n",
              "    </tr>\n",
              "    <tr>\n",
              "      <th>...</th>\n",
              "      <td>...</td>\n",
              "      <td>...</td>\n",
              "      <td>...</td>\n",
              "      <td>...</td>\n",
              "      <td>...</td>\n",
              "      <td>...</td>\n",
              "      <td>...</td>\n",
              "    </tr>\n",
              "    <tr>\n",
              "      <th>54077</th>\n",
              "      <td>13.07.2013</td>\n",
              "      <td>821001</td>\n",
              "      <td>Мечта</td>\n",
              "      <td>24</td>\n",
              "      <td>Кофе ЭСПРЕССО  30 мл</td>\n",
              "      <td>NaN</td>\n",
              "      <td>NaN</td>\n",
              "    </tr>\n",
              "    <tr>\n",
              "      <th>54078</th>\n",
              "      <td>14.07.2013</td>\n",
              "      <td>821001</td>\n",
              "      <td>Мечта</td>\n",
              "      <td>23</td>\n",
              "      <td>Кофе ЭСПРЕССО  30 мл</td>\n",
              "      <td>NaN</td>\n",
              "      <td>NaN</td>\n",
              "    </tr>\n",
              "    <tr>\n",
              "      <th>54079</th>\n",
              "      <td>15.07.2013</td>\n",
              "      <td>821001</td>\n",
              "      <td>Мечта</td>\n",
              "      <td>42</td>\n",
              "      <td>Кофе ЭСПРЕССО  30 мл</td>\n",
              "      <td>NaN</td>\n",
              "      <td>NaN</td>\n",
              "    </tr>\n",
              "    <tr>\n",
              "      <th>54080</th>\n",
              "      <td>16.07.2013</td>\n",
              "      <td>821001</td>\n",
              "      <td>Мечта</td>\n",
              "      <td>51</td>\n",
              "      <td>Кофе ЭСПРЕССО  30 мл</td>\n",
              "      <td>NaN</td>\n",
              "      <td>NaN</td>\n",
              "    </tr>\n",
              "    <tr>\n",
              "      <th>54081</th>\n",
              "      <td>17.07.2013</td>\n",
              "      <td>821001</td>\n",
              "      <td>Мечта</td>\n",
              "      <td>40</td>\n",
              "      <td>Кофе ЭСПРЕССО  30 мл</td>\n",
              "      <td>NaN</td>\n",
              "      <td>NaN</td>\n",
              "    </tr>\n",
              "  </tbody>\n",
              "</table>\n",
              "<p>3628 rows × 7 columns</p>\n",
              "</div>"
            ],
            "text/plain": [
              "             date  product_code  ... Unnamed: 2  Unnamed: 3\n",
              "50454  06.01.2009        821001  ...        NaN         NaN\n",
              "50455  07.01.2009        821001  ...        NaN         NaN\n",
              "50456  08.01.2009        821001  ...        NaN         NaN\n",
              "50457  09.01.2009        821001  ...        NaN         NaN\n",
              "50458  10.01.2009        821001  ...        NaN         NaN\n",
              "...           ...           ...  ...        ...         ...\n",
              "54077  13.07.2013        821001  ...        NaN         NaN\n",
              "54078  14.07.2013        821001  ...        NaN         NaN\n",
              "54079  15.07.2013        821001  ...        NaN         NaN\n",
              "54080  16.07.2013        821001  ...        NaN         NaN\n",
              "54081  17.07.2013        821001  ...        NaN         NaN\n",
              "\n",
              "[3628 rows x 7 columns]"
            ]
          },
          "metadata": {},
          "execution_count": 8
        }
      ]
    },
    {
      "cell_type": "code",
      "metadata": {
        "id": "uIpyY39GprX-"
      },
      "source": [
        "top10 = list(mergeList.groupby('Product_name')['product_count'].sum().sort_values(ascending = False).head(10).index.values)"
      ],
      "execution_count": 9,
      "outputs": []
    },
    {
      "cell_type": "code",
      "metadata": {
        "colab": {
          "base_uri": "https://localhost:8080/",
          "height": 661
        },
        "id": "B3X9gLr7p0qI",
        "outputId": "9cf72f6a-2ea7-4303-e466-fb50085eff1d"
      },
      "source": [
        "mergeList[mergeList['Product_name'].isin(top10)].groupby(['rest_code', 'Product_name'])['product_count'].hist(bins=50)"
      ],
      "execution_count": 10,
      "outputs": [
        {
          "output_type": "execute_result",
          "data": {
            "text/plain": [
              "rest_code  Product_name             \n",
              "Мечта      Кофе АМЕРИКАНО 90мл          AxesSubplot(0.125,0.125;0.775x0.755)\n",
              "           Кофе КАПУЧИНО 150мл          AxesSubplot(0.125,0.125;0.775x0.755)\n",
              "           Кофе Латте 300мл             AxesSubplot(0.125,0.125;0.775x0.755)\n",
              "           Кофе ЭСПРЕССО  30 мл         AxesSubplot(0.125,0.125;0.775x0.755)\n",
              "           Раф кофе 300мл               AxesSubplot(0.125,0.125;0.775x0.755)\n",
              "           Раф кофе 350мл               AxesSubplot(0.125,0.125;0.775x0.755)\n",
              "           Чай Ассам Нонаипара 500мл    AxesSubplot(0.125,0.125;0.775x0.755)\n",
              "           Чай Дардж Марг/Хоул 500мл    AxesSubplot(0.125,0.125;0.775x0.755)\n",
              "           Чай имбирный  500мл          AxesSubplot(0.125,0.125;0.775x0.755)\n",
              "           Эклер ванильный 60г          AxesSubplot(0.125,0.125;0.775x0.755)\n",
              "Озерный    Кофе АМЕРИКАНО 90мл          AxesSubplot(0.125,0.125;0.775x0.755)\n",
              "           Кофе КАПУЧИНО 150мл          AxesSubplot(0.125,0.125;0.775x0.755)\n",
              "           Кофе Латте 300мл             AxesSubplot(0.125,0.125;0.775x0.755)\n",
              "           Кофе ЭСПРЕССО  30 мл         AxesSubplot(0.125,0.125;0.775x0.755)\n",
              "           Раф кофе 300мл               AxesSubplot(0.125,0.125;0.775x0.755)\n",
              "           Раф кофе 350мл               AxesSubplot(0.125,0.125;0.775x0.755)\n",
              "           Чай Ассам Нонаипара 500мл    AxesSubplot(0.125,0.125;0.775x0.755)\n",
              "           Чай Дардж Марг/Хоул 500мл    AxesSubplot(0.125,0.125;0.775x0.755)\n",
              "           Чай имбирный  500мл          AxesSubplot(0.125,0.125;0.775x0.755)\n",
              "           Эклер ванильный 60г          AxesSubplot(0.125,0.125;0.775x0.755)\n",
              "Name: product_count, dtype: object"
            ]
          },
          "metadata": {},
          "execution_count": 10
        },
        {
          "output_type": "display_data",
          "data": {
            "image/png": "[encoded data removed]",
            "text/plain": [
              "<Figure size 432x288 with 1 Axes>"
            ]
          },
          "metadata": {
            "needs_background": "light"
          }
        }
      ]
    },
    {
      "cell_type": "code",
      "metadata": {
        "colab": {
          "base_uri": "https://localhost:8080/",
          "height": 444
        },
        "id": "TnNp4OycqGfK",
        "outputId": "7f184056-159d-41b0-ea62-c94f79ea0d18"
      },
      "source": [
        "ax = mergeList[mergeList['Product_name'].isin(top10)].boxplot(figsize=(30,10), column='product_count', by = ['rest_code', 'Product_name'])\n",
        "ax.get_figure().suptitle('')\n",
        "plt.figure()"
      ],
      "execution_count": 19,
      "outputs": [
        {
          "output_type": "stream",
          "name": "stderr",
          "text": [
            "/usr/local/lib/python3.7/dist-packages/numpy/core/_asarray.py:83: VisibleDeprecationWarning: Creating an ndarray from ragged nested sequences (which is a list-or-tuple of lists-or-tuples-or ndarrays with different lengths or shapes) is deprecated. If you meant to do this, you must specify 'dtype=object' when creating the ndarray\n",
            "  return array(a, dtype, copy=False, order=order)\n"
          ]
        },
        {
          "output_type": "execute_result",
          "data": {
            "text/plain": [
              "<Figure size 432x288 with 0 Axes>"
            ]
          },
          "metadata": {},
          "execution_count": 19
        },
        {
          "output_type": "display_data",
          "data": {
            "image/png": "[encoded data removed]",
            "text/plain": [
              "<Figure size 2160x720 with 1 Axes>"
            ]
          },
          "metadata": {
            "needs_background": "light"
          }
        },
        {
          "output_type": "display_data",
          "data": {
            "text/plain": [
              "<Figure size 432x288 with 0 Axes>"
            ]
          },
          "metadata": {}
        }
      ]
    },
    {
      "cell_type": "code",
      "metadata": {
        "colab": {
          "base_uri": "https://localhost:8080/"
        },
        "id": "DigQ9dzriCjD",
        "outputId": "abb83d2f-58e6-4903-970d-c79dee2461b9"
      },
      "source": [
        "mergeList.groupby('Product_name')['product_count'].sum().sort_values(ascending = False)"
      ],
      "execution_count": 12,
      "outputs": [
        {
          "output_type": "execute_result",
          "data": {
            "text/plain": [
              "Product_name\n",
              "Кофе КАПУЧИНО 150мл          177515\n",
              "Кофе Латте 300мл             174315\n",
              "Кофе АМЕРИКАНО 90мл          115652\n",
              "Кофе ЭСПРЕССО  30 мл         115551\n",
              "Раф кофе 300мл                77722\n",
              "                              ...  \n",
              "Пирожное Руби 80г                74\n",
              "Чай Ориентал Бьюти 600мл         63\n",
              "Десерт Манифик 100г              56\n",
              "Чай черн с суш мятой500мл        19\n",
              "РАФ Кофе 250мл                    1\n",
              "Name: product_count, Length: 110, dtype: int64"
            ]
          },
          "metadata": {},
          "execution_count": 12
        }
      ]
    },
    {
      "cell_type": "code",
      "metadata": {
        "colab": {
          "base_uri": "https://localhost:8080/",
          "height": 369
        },
        "id": "-q-NjLb_iSuz",
        "outputId": "511887c9-567b-4745-c959-4e453f62d629"
      },
      "source": [
        "ax = mergeList[mergeList['Product_name'] == 'Кофе ЭСПРЕССО  30 мл'].boxplot(by = 'rest_code', column = 'product_count')\n",
        "plt.title(u'Продажи Кофе ЭСПРЕССО  30 мл')\n",
        "ax.get_figure().suptitle('')"
      ],
      "execution_count": 17,
      "outputs": [
        {
          "output_type": "stream",
          "name": "stderr",
          "text": [
            "/usr/local/lib/python3.7/dist-packages/numpy/core/_asarray.py:83: VisibleDeprecationWarning: Creating an ndarray from ragged nested sequences (which is a list-or-tuple of lists-or-tuples-or ndarrays with different lengths or shapes) is deprecated. If you meant to do this, you must specify 'dtype=object' when creating the ndarray\n",
            "  return array(a, dtype, copy=False, order=order)\n"
          ]
        },
        {
          "output_type": "execute_result",
          "data": {
            "text/plain": [
              "Text(0.5, 0.98, '')"
            ]
          },
          "metadata": {},
          "execution_count": 17
        },
        {
          "output_type": "display_data",
          "data": {
            "image/png": "[encoded data removed]",
            "text/plain": [
              "<Figure size 432x288 with 1 Axes>"
            ]
          },
          "metadata": {
            "needs_background": "light"
          }
        }
      ]
    },
    {
      "cell_type": "code",
      "metadata": {
        "colab": {
          "base_uri": "https://localhost:8080/",
          "height": 337
        },
        "id": "oT0OW0ZljDzv",
        "outputId": "43029a89-ff33-4663-fd8a-db9516b3f0e8"
      },
      "source": [
        "mergeList[mergeList['Product_name'] == 'Кофе ЭСПРЕССО  30 мл'].groupby('rest_code')['product_count'].hist(bins = 30,density = 1)\n"
      ],
      "execution_count": 24,
      "outputs": [
        {
          "output_type": "execute_result",
          "data": {
            "text/plain": [
              "rest_code\n",
              "Мечта      AxesSubplot(0.125,0.125;0.775x0.755)\n",
              "Озерный    AxesSubplot(0.125,0.125;0.775x0.755)\n",
              "Name: product_count, dtype: object"
            ]
          },
          "metadata": {},
          "execution_count": 24
        },
        {
          "output_type": "display_data",
          "data": {
            "image/png": "[encoded data removed]",
            "text/plain": [
              "<Figure size 432x288 with 1 Axes>"
            ]
          },
          "metadata": {
            "needs_background": "light"
          }
        }
      ]
    }
  ]
}
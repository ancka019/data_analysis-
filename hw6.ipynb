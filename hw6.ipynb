{
  "nbformat": 4,
  "nbformat_minor": 0,
  "metadata": {
    "colab": {
      "name": "hw6.ipynb",
      "provenance": [],
      "mount_file_id": "1AdGjGzyP43d7DO2oCDxExPTjIUL3W2xC",
      "authorship_tag": "ABX9TyMOOx56h0aWPp1YuvIUe5U5",
      "include_colab_link": true
    },
    "kernelspec": {
      "name": "python3",
      "display_name": "Python 3"
    },
    "language_info": {
      "name": "python"
    }
  },
  "cells": [
    {
      "cell_type": "markdown",
      "metadata": {
        "id": "view-in-github",
        "colab_type": "text"
      },
      "source": [
        "<a href=\"https://colab.research.google.com/github/ancka019/data_analysis-/blob/main/hw6.ipynb\" target=\"_parent\"><img src=\"https://colab.research.google.com/assets/colab-badge.svg\" alt=\"Open In Colab\"/></a>"
      ]
    },
    {
      "cell_type": "markdown",
      "metadata": {
        "id": "xd-8wG-b52lt"
      },
      "source": [
        ""
      ]
    },
    {
      "cell_type": "code",
      "metadata": {
        "id": "lqAfRfaQ50ns"
      },
      "source": [
        "import pandas as pd\n",
        "import numpy as np\n",
        "import matplotlib\n",
        "import matplotlib.pyplot as plt\n",
        "from scipy import stats\n",
        "matplotlib.style.use('ggplot')\n",
        "%matplotlib inline"
      ],
      "execution_count": null,
      "outputs": []
    },
    {
      "cell_type": "code",
      "metadata": {
        "id": "wsExMLb39Dzj"
      },
      "source": [
        "import os\n",
        "import geopandas as gpd\n",
        "import contextily as ctx"
      ],
      "execution_count": null,
      "outputs": []
    },
    {
      "cell_type": "code",
      "metadata": {
        "id": "5sRWu9N493-Q"
      },
      "source": [
        "df = pd.read_csv('/data.csv', encoding='cp1251');"
      ],
      "execution_count": null,
      "outputs": []
    },
    {
      "cell_type": "code",
      "metadata": {
        "colab": {
          "base_uri": "https://localhost:8080/"
        },
        "id": "WrGGAZZ7wThq",
        "outputId": "82e427bb-0847-4d97-cf9e-77c0b15ffb94"
      },
      "source": [
        "df.shape"
      ],
      "execution_count": null,
      "outputs": [
        {
          "output_type": "execute_result",
          "data": {
            "text/plain": [
              "(4600, 18)"
            ]
          },
          "metadata": {},
          "execution_count": 8
        }
      ]
    },
    {
      "cell_type": "code",
      "metadata": {
        "colab": {
          "base_uri": "https://localhost:8080/",
          "height": 736
        },
        "id": "wQvyM3_WKJyR",
        "outputId": "1be22727-0e0d-42cf-9abf-70ab639c92a4"
      },
      "source": [
        "df.head(10)"
      ],
      "execution_count": null,
      "outputs": [
        {
          "output_type": "execute_result",
          "data": {
            "text/html": [
              "<div>\n",
              "<style scoped>\n",
              "    .dataframe tbody tr th:only-of-type {\n",
              "        vertical-align: middle;\n",
              "    }\n",
              "\n",
              "    .dataframe tbody tr th {\n",
              "        vertical-align: top;\n",
              "    }\n",
              "\n",
              "    .dataframe thead th {\n",
              "        text-align: right;\n",
              "    }\n",
              "</style>\n",
              "<table border=\"1\" class=\"dataframe\">\n",
              "  <thead>\n",
              "    <tr style=\"text-align: right;\">\n",
              "      <th></th>\n",
              "      <th>date</th>\n",
              "      <th>price</th>\n",
              "      <th>bedrooms</th>\n",
              "      <th>bathrooms</th>\n",
              "      <th>sqft_living</th>\n",
              "      <th>sqft_lot</th>\n",
              "      <th>floors</th>\n",
              "      <th>waterfront</th>\n",
              "      <th>view</th>\n",
              "      <th>condition</th>\n",
              "      <th>sqft_above</th>\n",
              "      <th>sqft_basement</th>\n",
              "      <th>yr_built</th>\n",
              "      <th>yr_renovated</th>\n",
              "      <th>street</th>\n",
              "      <th>city</th>\n",
              "      <th>statezip</th>\n",
              "      <th>country</th>\n",
              "    </tr>\n",
              "  </thead>\n",
              "  <tbody>\n",
              "    <tr>\n",
              "      <th>0</th>\n",
              "      <td>2014-05-02 00:00:00</td>\n",
              "      <td>313000.0</td>\n",
              "      <td>3.0</td>\n",
              "      <td>1.50</td>\n",
              "      <td>1340</td>\n",
              "      <td>7912</td>\n",
              "      <td>1.5</td>\n",
              "      <td>0</td>\n",
              "      <td>0</td>\n",
              "      <td>3</td>\n",
              "      <td>1340</td>\n",
              "      <td>0</td>\n",
              "      <td>1955</td>\n",
              "      <td>2005</td>\n",
              "      <td>18810 Densmore Ave N</td>\n",
              "      <td>Shoreline</td>\n",
              "      <td>WA 98133</td>\n",
              "      <td>USA</td>\n",
              "    </tr>\n",
              "    <tr>\n",
              "      <th>1</th>\n",
              "      <td>2014-05-02 00:00:00</td>\n",
              "      <td>2384000.0</td>\n",
              "      <td>5.0</td>\n",
              "      <td>2.50</td>\n",
              "      <td>3650</td>\n",
              "      <td>9050</td>\n",
              "      <td>2.0</td>\n",
              "      <td>0</td>\n",
              "      <td>4</td>\n",
              "      <td>5</td>\n",
              "      <td>3370</td>\n",
              "      <td>280</td>\n",
              "      <td>1921</td>\n",
              "      <td>0</td>\n",
              "      <td>709 W Blaine St</td>\n",
              "      <td>Seattle</td>\n",
              "      <td>WA 98119</td>\n",
              "      <td>USA</td>\n",
              "    </tr>\n",
              "    <tr>\n",
              "      <th>2</th>\n",
              "      <td>2014-05-02 00:00:00</td>\n",
              "      <td>342000.0</td>\n",
              "      <td>3.0</td>\n",
              "      <td>2.00</td>\n",
              "      <td>1930</td>\n",
              "      <td>11947</td>\n",
              "      <td>1.0</td>\n",
              "      <td>0</td>\n",
              "      <td>0</td>\n",
              "      <td>4</td>\n",
              "      <td>1930</td>\n",
              "      <td>0</td>\n",
              "      <td>1966</td>\n",
              "      <td>0</td>\n",
              "      <td>26206-26214 143rd Ave SE</td>\n",
              "      <td>Kent</td>\n",
              "      <td>WA 98042</td>\n",
              "      <td>USA</td>\n",
              "    </tr>\n",
              "    <tr>\n",
              "      <th>3</th>\n",
              "      <td>2014-05-02 00:00:00</td>\n",
              "      <td>420000.0</td>\n",
              "      <td>3.0</td>\n",
              "      <td>2.25</td>\n",
              "      <td>2000</td>\n",
              "      <td>8030</td>\n",
              "      <td>1.0</td>\n",
              "      <td>0</td>\n",
              "      <td>0</td>\n",
              "      <td>4</td>\n",
              "      <td>1000</td>\n",
              "      <td>1000</td>\n",
              "      <td>1963</td>\n",
              "      <td>0</td>\n",
              "      <td>857 170th Pl NE</td>\n",
              "      <td>Bellevue</td>\n",
              "      <td>WA 98008</td>\n",
              "      <td>USA</td>\n",
              "    </tr>\n",
              "    <tr>\n",
              "      <th>4</th>\n",
              "      <td>2014-05-02 00:00:00</td>\n",
              "      <td>550000.0</td>\n",
              "      <td>4.0</td>\n",
              "      <td>2.50</td>\n",
              "      <td>1940</td>\n",
              "      <td>10500</td>\n",
              "      <td>1.0</td>\n",
              "      <td>0</td>\n",
              "      <td>0</td>\n",
              "      <td>4</td>\n",
              "      <td>1140</td>\n",
              "      <td>800</td>\n",
              "      <td>1976</td>\n",
              "      <td>1992</td>\n",
              "      <td>9105 170th Ave NE</td>\n",
              "      <td>Redmond</td>\n",
              "      <td>WA 98052</td>\n",
              "      <td>USA</td>\n",
              "    </tr>\n",
              "    <tr>\n",
              "      <th>5</th>\n",
              "      <td>2014-05-02 00:00:00</td>\n",
              "      <td>490000.0</td>\n",
              "      <td>2.0</td>\n",
              "      <td>1.00</td>\n",
              "      <td>880</td>\n",
              "      <td>6380</td>\n",
              "      <td>1.0</td>\n",
              "      <td>0</td>\n",
              "      <td>0</td>\n",
              "      <td>3</td>\n",
              "      <td>880</td>\n",
              "      <td>0</td>\n",
              "      <td>1938</td>\n",
              "      <td>1994</td>\n",
              "      <td>522 NE 88th St</td>\n",
              "      <td>Seattle</td>\n",
              "      <td>WA 98115</td>\n",
              "      <td>USA</td>\n",
              "    </tr>\n",
              "    <tr>\n",
              "      <th>6</th>\n",
              "      <td>2014-05-02 00:00:00</td>\n",
              "      <td>335000.0</td>\n",
              "      <td>2.0</td>\n",
              "      <td>2.00</td>\n",
              "      <td>1350</td>\n",
              "      <td>2560</td>\n",
              "      <td>1.0</td>\n",
              "      <td>0</td>\n",
              "      <td>0</td>\n",
              "      <td>3</td>\n",
              "      <td>1350</td>\n",
              "      <td>0</td>\n",
              "      <td>1976</td>\n",
              "      <td>0</td>\n",
              "      <td>2616 174th Ave NE</td>\n",
              "      <td>Redmond</td>\n",
              "      <td>WA 98052</td>\n",
              "      <td>USA</td>\n",
              "    </tr>\n",
              "    <tr>\n",
              "      <th>7</th>\n",
              "      <td>2014-05-02 00:00:00</td>\n",
              "      <td>482000.0</td>\n",
              "      <td>4.0</td>\n",
              "      <td>2.50</td>\n",
              "      <td>2710</td>\n",
              "      <td>35868</td>\n",
              "      <td>2.0</td>\n",
              "      <td>0</td>\n",
              "      <td>0</td>\n",
              "      <td>3</td>\n",
              "      <td>2710</td>\n",
              "      <td>0</td>\n",
              "      <td>1989</td>\n",
              "      <td>0</td>\n",
              "      <td>23762 SE 253rd Pl</td>\n",
              "      <td>Maple Valley</td>\n",
              "      <td>WA 98038</td>\n",
              "      <td>USA</td>\n",
              "    </tr>\n",
              "    <tr>\n",
              "      <th>8</th>\n",
              "      <td>2014-05-02 00:00:00</td>\n",
              "      <td>452500.0</td>\n",
              "      <td>3.0</td>\n",
              "      <td>2.50</td>\n",
              "      <td>2430</td>\n",
              "      <td>88426</td>\n",
              "      <td>1.0</td>\n",
              "      <td>0</td>\n",
              "      <td>0</td>\n",
              "      <td>4</td>\n",
              "      <td>1570</td>\n",
              "      <td>860</td>\n",
              "      <td>1985</td>\n",
              "      <td>0</td>\n",
              "      <td>46611-46625 SE 129th St</td>\n",
              "      <td>North Bend</td>\n",
              "      <td>WA 98045</td>\n",
              "      <td>USA</td>\n",
              "    </tr>\n",
              "    <tr>\n",
              "      <th>9</th>\n",
              "      <td>2014-05-02 00:00:00</td>\n",
              "      <td>640000.0</td>\n",
              "      <td>4.0</td>\n",
              "      <td>2.00</td>\n",
              "      <td>1520</td>\n",
              "      <td>6200</td>\n",
              "      <td>1.5</td>\n",
              "      <td>0</td>\n",
              "      <td>0</td>\n",
              "      <td>3</td>\n",
              "      <td>1520</td>\n",
              "      <td>0</td>\n",
              "      <td>1945</td>\n",
              "      <td>2010</td>\n",
              "      <td>6811 55th Ave NE</td>\n",
              "      <td>Seattle</td>\n",
              "      <td>WA 98115</td>\n",
              "      <td>USA</td>\n",
              "    </tr>\n",
              "  </tbody>\n",
              "</table>\n",
              "</div>"
            ],
            "text/plain": [
              "                  date      price  bedrooms  ...          city  statezip  country\n",
              "0  2014-05-02 00:00:00   313000.0       3.0  ...     Shoreline  WA 98133      USA\n",
              "1  2014-05-02 00:00:00  2384000.0       5.0  ...       Seattle  WA 98119      USA\n",
              "2  2014-05-02 00:00:00   342000.0       3.0  ...          Kent  WA 98042      USA\n",
              "3  2014-05-02 00:00:00   420000.0       3.0  ...      Bellevue  WA 98008      USA\n",
              "4  2014-05-02 00:00:00   550000.0       4.0  ...       Redmond  WA 98052      USA\n",
              "5  2014-05-02 00:00:00   490000.0       2.0  ...       Seattle  WA 98115      USA\n",
              "6  2014-05-02 00:00:00   335000.0       2.0  ...       Redmond  WA 98052      USA\n",
              "7  2014-05-02 00:00:00   482000.0       4.0  ...  Maple Valley  WA 98038      USA\n",
              "8  2014-05-02 00:00:00   452500.0       3.0  ...    North Bend  WA 98045      USA\n",
              "9  2014-05-02 00:00:00   640000.0       4.0  ...       Seattle  WA 98115      USA\n",
              "\n",
              "[10 rows x 18 columns]"
            ]
          },
          "metadata": {},
          "execution_count": 36
        }
      ]
    },
    {
      "cell_type": "markdown",
      "metadata": {
        "id": "GgxSwkuR02IR"
      },
      "source": [
        "Пример 1. Проверка нормальности распределения\n"
      ]
    },
    {
      "cell_type": "code",
      "metadata": {
        "colab": {
          "base_uri": "https://localhost:8080/",
          "height": 265
        },
        "id": "2A5RWgHoLCwI",
        "outputId": "cba7eace-c9d2-45aa-f1a8-c0fdf96e89f9"
      },
      "source": [
        "plt.hist(np.log10(df['sqft_above']));"
      ],
      "execution_count": null,
      "outputs": [
        {
          "output_type": "display_data",
          "data": {
            "image/png": "[encoded data removed]",
            "text/plain": [
              "<Figure size 432x288 with 1 Axes>"
            ]
          },
          "metadata": {
            "needs_background": "light"
          }
        }
      ]
    },
    {
      "cell_type": "code",
      "metadata": {
        "colab": {
          "base_uri": "https://localhost:8080/"
        },
        "id": "JQQKnfd8MP1o",
        "outputId": "5ee166a2-bdd6-47e7-9636-0dcec07f0c63"
      },
      "source": [
        "res = stats.shapiro(np.log10(df[u'sqft_above']));\n",
        "print('p-value: ', res[1]);"
      ],
      "execution_count": null,
      "outputs": [
        {
          "output_type": "stream",
          "name": "stdout",
          "text": [
            "p-value:  3.364510157700647e-17\n"
          ]
        }
      ]
    },
    {
      "cell_type": "code",
      "metadata": {
        "colab": {
          "base_uri": "https://localhost:8080/",
          "height": 265
        },
        "id": "RHt3ZpqtzoOi",
        "outputId": "7ad31414-30bd-4ce2-abcd-8e8cdebe781f"
      },
      "source": [
        "plt.hist(np.log10(df['sqft_above']), bins = 50);"
      ],
      "execution_count": null,
      "outputs": [
        {
          "output_type": "display_data",
          "data": {
            "image/png": "[encoded data removed]",
            "text/plain": [
              "<Figure size 432x288 with 1 Axes>"
            ]
          },
          "metadata": {
            "needs_background": "light"
          }
        }
      ]
    },
    {
      "cell_type": "markdown",
      "metadata": {
        "id": "FVtCeG0L06uD"
      },
      "source": [
        "Пример 2. Критерий Манна-Уитни и корреляция Пирсона.\n"
      ]
    },
    {
      "cell_type": "code",
      "metadata": {
        "id": "xfuM7FRgyp_B"
      },
      "source": [
        "x = df[df['yr_renovated'] == 0]['price']\n",
        "y = df[df['yr_renovated'] != 0]['price']\n",
        "x.name, y.name = 'yr_renovated not ', 'yr_renovated yes'"
      ],
      "execution_count": null,
      "outputs": []
    },
    {
      "cell_type": "code",
      "metadata": {
        "id": "Eyf4WQ-hOhwD"
      },
      "source": [
        "def two_histograms(x, y):\n",
        "# После определения функции полезно бывает добавить её описание в таком стиле.\n",
        "# Тройные кавычки -- для обрамления многострочных строковых литералов.\n",
        "    \"\"\"\n",
        "    Функция, которая построит две гистограммы на одной картинке.\n",
        "    Дополнительно пунктирными линиями указываются средние значения выборок.\n",
        "    x: вектор pd.Series,\n",
        "    y: вектор pd.Series\n",
        "    \"\"\"\n",
        "    x.hist(alpha=0.5, weights=[1./len(x)]*len(x))\n",
        "    y.hist(alpha=0.5, weights=[1./len(y)]*len(y))\n",
        "    plt.axvline(x.mean(), color='red', alpha=0.8, linestyle='dashed')\n",
        "    plt.axvline(y.mean(), color='blue', alpha=0.8, linestyle='dashed')\n",
        "    plt.legend([x.name, y.name])"
      ],
      "execution_count": null,
      "outputs": []
    },
    {
      "cell_type": "code",
      "metadata": {
        "colab": {
          "base_uri": "https://localhost:8080/",
          "height": 278
        },
        "id": "7KIyFTk_OpLs",
        "outputId": "44fe10f3-4e65-4697-9d77-87f62e169505"
      },
      "source": [
        "two_histograms(x, y)"
      ],
      "execution_count": null,
      "outputs": [
        {
          "output_type": "display_data",
          "data": {
            "image/png": "[encoded data removed]",
            "text/plain": [
              "<Figure size 432x288 with 1 Axes>"
            ]
          },
          "metadata": {
            "needs_background": "light"
          }
        }
      ]
    },
    {
      "cell_type": "code",
      "metadata": {
        "colab": {
          "base_uri": "https://localhost:8080/"
        },
        "id": "zn9fayz8PCi-",
        "outputId": "22058f10-84f0-42db-aea3-ac1f903d8b2a"
      },
      "source": [
        "res = stats.mannwhitneyu(x, y)\n",
        "print('p-value:', res[1])"
      ],
      "execution_count": null,
      "outputs": [
        {
          "output_type": "stream",
          "name": "stdout",
          "text": [
            "p-value: 3.5614669174690228e-06\n"
          ]
        }
      ]
    },
    {
      "cell_type": "code",
      "metadata": {
        "id": "YAFtwc3U7l5d"
      },
      "source": [
        "df3 = pd.read_csv('/content/raw_sales.csv', encoding='cp1251');"
      ],
      "execution_count": null,
      "outputs": []
    },
    {
      "cell_type": "code",
      "metadata": {
        "colab": {
          "base_uri": "https://localhost:8080/",
          "height": 419
        },
        "id": "GNQbZHiw7r7c",
        "outputId": "109ac18c-416b-4fb0-e93c-49b8997cd999"
      },
      "source": [
        "df3"
      ],
      "execution_count": null,
      "outputs": [
        {
          "output_type": "execute_result",
          "data": {
            "text/html": [
              "<div>\n",
              "<style scoped>\n",
              "    .dataframe tbody tr th:only-of-type {\n",
              "        vertical-align: middle;\n",
              "    }\n",
              "\n",
              "    .dataframe tbody tr th {\n",
              "        vertical-align: top;\n",
              "    }\n",
              "\n",
              "    .dataframe thead th {\n",
              "        text-align: right;\n",
              "    }\n",
              "</style>\n",
              "<table border=\"1\" class=\"dataframe\">\n",
              "  <thead>\n",
              "    <tr style=\"text-align: right;\">\n",
              "      <th></th>\n",
              "      <th>datesold</th>\n",
              "      <th>postcode</th>\n",
              "      <th>price</th>\n",
              "      <th>propertyType</th>\n",
              "      <th>bedrooms</th>\n",
              "    </tr>\n",
              "  </thead>\n",
              "  <tbody>\n",
              "    <tr>\n",
              "      <th>0</th>\n",
              "      <td>2007-02-07 00:00:00</td>\n",
              "      <td>2607</td>\n",
              "      <td>525000</td>\n",
              "      <td>house</td>\n",
              "      <td>4</td>\n",
              "    </tr>\n",
              "    <tr>\n",
              "      <th>1</th>\n",
              "      <td>2007-02-27 00:00:00</td>\n",
              "      <td>2906</td>\n",
              "      <td>290000</td>\n",
              "      <td>house</td>\n",
              "      <td>3</td>\n",
              "    </tr>\n",
              "    <tr>\n",
              "      <th>2</th>\n",
              "      <td>2007-03-07 00:00:00</td>\n",
              "      <td>2905</td>\n",
              "      <td>328000</td>\n",
              "      <td>house</td>\n",
              "      <td>3</td>\n",
              "    </tr>\n",
              "    <tr>\n",
              "      <th>3</th>\n",
              "      <td>2007-03-09 00:00:00</td>\n",
              "      <td>2905</td>\n",
              "      <td>380000</td>\n",
              "      <td>house</td>\n",
              "      <td>4</td>\n",
              "    </tr>\n",
              "    <tr>\n",
              "      <th>4</th>\n",
              "      <td>2007-03-21 00:00:00</td>\n",
              "      <td>2906</td>\n",
              "      <td>310000</td>\n",
              "      <td>house</td>\n",
              "      <td>3</td>\n",
              "    </tr>\n",
              "    <tr>\n",
              "      <th>...</th>\n",
              "      <td>...</td>\n",
              "      <td>...</td>\n",
              "      <td>...</td>\n",
              "      <td>...</td>\n",
              "      <td>...</td>\n",
              "    </tr>\n",
              "    <tr>\n",
              "      <th>29575</th>\n",
              "      <td>2019-07-25 00:00:00</td>\n",
              "      <td>2900</td>\n",
              "      <td>500000</td>\n",
              "      <td>unit</td>\n",
              "      <td>3</td>\n",
              "    </tr>\n",
              "    <tr>\n",
              "      <th>29576</th>\n",
              "      <td>2019-07-25 00:00:00</td>\n",
              "      <td>2612</td>\n",
              "      <td>560000</td>\n",
              "      <td>unit</td>\n",
              "      <td>2</td>\n",
              "    </tr>\n",
              "    <tr>\n",
              "      <th>29577</th>\n",
              "      <td>2019-07-26 00:00:00</td>\n",
              "      <td>2912</td>\n",
              "      <td>464950</td>\n",
              "      <td>unit</td>\n",
              "      <td>2</td>\n",
              "    </tr>\n",
              "    <tr>\n",
              "      <th>29578</th>\n",
              "      <td>2019-07-26 00:00:00</td>\n",
              "      <td>2601</td>\n",
              "      <td>589000</td>\n",
              "      <td>unit</td>\n",
              "      <td>2</td>\n",
              "    </tr>\n",
              "    <tr>\n",
              "      <th>29579</th>\n",
              "      <td>2019-07-26 00:00:00</td>\n",
              "      <td>2612</td>\n",
              "      <td>775000</td>\n",
              "      <td>unit</td>\n",
              "      <td>2</td>\n",
              "    </tr>\n",
              "  </tbody>\n",
              "</table>\n",
              "<p>29580 rows × 5 columns</p>\n",
              "</div>"
            ],
            "text/plain": [
              "                  datesold  postcode   price propertyType  bedrooms\n",
              "0      2007-02-07 00:00:00      2607  525000        house         4\n",
              "1      2007-02-27 00:00:00      2906  290000        house         3\n",
              "2      2007-03-07 00:00:00      2905  328000        house         3\n",
              "3      2007-03-09 00:00:00      2905  380000        house         4\n",
              "4      2007-03-21 00:00:00      2906  310000        house         3\n",
              "...                    ...       ...     ...          ...       ...\n",
              "29575  2019-07-25 00:00:00      2900  500000         unit         3\n",
              "29576  2019-07-25 00:00:00      2612  560000         unit         2\n",
              "29577  2019-07-26 00:00:00      2912  464950         unit         2\n",
              "29578  2019-07-26 00:00:00      2601  589000         unit         2\n",
              "29579  2019-07-26 00:00:00      2612  775000         unit         2\n",
              "\n",
              "[29580 rows x 5 columns]"
            ]
          },
          "metadata": {},
          "execution_count": 80
        }
      ]
    },
    {
      "cell_type": "code",
      "metadata": {
        "colab": {
          "base_uri": "https://localhost:8080/",
          "height": 278
        },
        "id": "fEsiLHtqQ5dT",
        "outputId": "3ee4a4b6-02df-4ba3-9cac-c3394e309fd7"
      },
      "source": [
        "plt.scatter(df3['price'], df3['bedrooms'])\n",
        "plt.show()"
      ],
      "execution_count": null,
      "outputs": [
        {
          "output_type": "display_data",
          "data": {
            "image/png": "[encoded data removed]",
            "text/plain": [
              "<Figure size 432x288 with 1 Axes>"
            ]
          },
          "metadata": {
            "needs_background": "light"
          }
        }
      ]
    },
    {
      "cell_type": "code",
      "metadata": {
        "colab": {
          "base_uri": "https://localhost:8080/"
        },
        "id": "heMmaWQARGGk",
        "outputId": "7c8e9513-347d-410c-e32b-d8a316784dda"
      },
      "source": [
        "res = stats.pearsonr(df3['price'], df3['bedrooms'])\n",
        "print('Pearson rho: ', res[0])\n",
        "print('p-value: ', res[1])"
      ],
      "execution_count": null,
      "outputs": [
        {
          "output_type": "stream",
          "name": "stdout",
          "text": [
            "Pearson rho:  0.48421174303285064\n",
            "p-value:  0.0\n"
          ]
        }
      ]
    },
    {
      "cell_type": "code",
      "metadata": {
        "colab": {
          "base_uri": "https://localhost:8080/"
        },
        "id": "YbdywJvu-m7b",
        "outputId": "6a0af96e-be9e-40e4-8d87-856c025ac379"
      },
      "source": [
        "res = stats.pearsonr(df['price'], df['sqft_above'])\n",
        "print('Pearson rho: ', res[0])\n",
        "print('p-value: ', res[1])"
      ],
      "execution_count": null,
      "outputs": [
        {
          "output_type": "stream",
          "name": "stdout",
          "text": [
            "Pearson rho:  0.3675696016004257\n",
            "p-value:  3.808299028742957e-147\n"
          ]
        }
      ]
    },
    {
      "cell_type": "code",
      "metadata": {
        "id": "U3QNz65u23ta"
      },
      "source": [
        "df2 = pd.read_csv('/content/moscow_stats.csv', encoding='cp1251');"
      ],
      "execution_count": null,
      "outputs": []
    },
    {
      "cell_type": "code",
      "metadata": {
        "colab": {
          "base_uri": "https://localhost:8080/",
          "height": 224
        },
        "id": "G53rRROk285W",
        "outputId": "2b7730ab-53c5-44c1-ebf2-6f9d29277fe6"
      },
      "source": [
        "df2.head()"
      ],
      "execution_count": null,
      "outputs": [
        {
          "output_type": "execute_result",
          "data": {
            "text/html": [
              "<div>\n",
              "<style scoped>\n",
              "    .dataframe tbody tr th:only-of-type {\n",
              "        vertical-align: middle;\n",
              "    }\n",
              "\n",
              "    .dataframe tbody tr th {\n",
              "        vertical-align: top;\n",
              "    }\n",
              "\n",
              "    .dataframe thead th {\n",
              "        text-align: right;\n",
              "    }\n",
              "</style>\n",
              "<table border=\"1\" class=\"dataframe\">\n",
              "  <thead>\n",
              "    <tr style=\"text-align: right;\">\n",
              "      <th></th>\n",
              "      <th>ID</th>\n",
              "      <th>Year</th>\n",
              "      <th>Month</th>\n",
              "      <th>StateRegistrationOfBirth</th>\n",
              "      <th>NumberOfBirthCertificatesForBoys</th>\n",
              "      <th>NumberOfBirthCertificatesForGirls</th>\n",
              "      <th>StateRegistrationOfDeath</th>\n",
              "      <th>StateRegistrationOfMarriage</th>\n",
              "      <th>StateRegistrationOfDivorce</th>\n",
              "      <th>StateRegistrationOfPaternityExamination</th>\n",
              "      <th>StateRegistrationOfAdoption</th>\n",
              "      <th>StateRegistrationOfNameChange</th>\n",
              "      <th>TotalPopulationThisYear</th>\n",
              "    </tr>\n",
              "  </thead>\n",
              "  <tbody>\n",
              "    <tr>\n",
              "      <th>0</th>\n",
              "      <td>1</td>\n",
              "      <td>2010</td>\n",
              "      <td>January</td>\n",
              "      <td>9206</td>\n",
              "      <td>4785</td>\n",
              "      <td>4421</td>\n",
              "      <td>10430</td>\n",
              "      <td>4997</td>\n",
              "      <td>3302</td>\n",
              "      <td>1241</td>\n",
              "      <td>95</td>\n",
              "      <td>491</td>\n",
              "      <td>11503501</td>\n",
              "    </tr>\n",
              "    <tr>\n",
              "      <th>1</th>\n",
              "      <td>2</td>\n",
              "      <td>2010</td>\n",
              "      <td>February</td>\n",
              "      <td>9060</td>\n",
              "      <td>4656</td>\n",
              "      <td>4404</td>\n",
              "      <td>9573</td>\n",
              "      <td>4873</td>\n",
              "      <td>2937</td>\n",
              "      <td>1326</td>\n",
              "      <td>97</td>\n",
              "      <td>639</td>\n",
              "      <td>11503501</td>\n",
              "    </tr>\n",
              "    <tr>\n",
              "      <th>2</th>\n",
              "      <td>3</td>\n",
              "      <td>2010</td>\n",
              "      <td>March</td>\n",
              "      <td>10934</td>\n",
              "      <td>5630</td>\n",
              "      <td>5304</td>\n",
              "      <td>10528</td>\n",
              "      <td>3642</td>\n",
              "      <td>4361</td>\n",
              "      <td>1644</td>\n",
              "      <td>147</td>\n",
              "      <td>717</td>\n",
              "      <td>11503501</td>\n",
              "    </tr>\n",
              "    <tr>\n",
              "      <th>3</th>\n",
              "      <td>4</td>\n",
              "      <td>2010</td>\n",
              "      <td>April</td>\n",
              "      <td>10140</td>\n",
              "      <td>5278</td>\n",
              "      <td>4862</td>\n",
              "      <td>9501</td>\n",
              "      <td>9698</td>\n",
              "      <td>3943</td>\n",
              "      <td>1530</td>\n",
              "      <td>128</td>\n",
              "      <td>642</td>\n",
              "      <td>11503501</td>\n",
              "    </tr>\n",
              "    <tr>\n",
              "      <th>4</th>\n",
              "      <td>5</td>\n",
              "      <td>2010</td>\n",
              "      <td>May</td>\n",
              "      <td>9457</td>\n",
              "      <td>4825</td>\n",
              "      <td>4632</td>\n",
              "      <td>9482</td>\n",
              "      <td>3726</td>\n",
              "      <td>3554</td>\n",
              "      <td>1397</td>\n",
              "      <td>96</td>\n",
              "      <td>492</td>\n",
              "      <td>11503501</td>\n",
              "    </tr>\n",
              "  </tbody>\n",
              "</table>\n",
              "</div>"
            ],
            "text/plain": [
              "   ID  Year  ... StateRegistrationOfNameChange  TotalPopulationThisYear\n",
              "0   1  2010  ...                           491                 11503501\n",
              "1   2  2010  ...                           639                 11503501\n",
              "2   3  2010  ...                           717                 11503501\n",
              "3   4  2010  ...                           642                 11503501\n",
              "4   5  2010  ...                           492                 11503501\n",
              "\n",
              "[5 rows x 13 columns]"
            ]
          },
          "metadata": {},
          "execution_count": 59
        }
      ]
    },
    {
      "cell_type": "code",
      "metadata": {
        "id": "TD8h26H84syD"
      },
      "source": [
        "x = df2['NumberOfBirthCertificatesForBoys']\n",
        "y = df2['NumberOfBirthCertificatesForGirls']\n",
        "x.name, y.name = 'boys', 'girls'"
      ],
      "execution_count": null,
      "outputs": []
    },
    {
      "cell_type": "code",
      "metadata": {
        "colab": {
          "base_uri": "https://localhost:8080/",
          "height": 265
        },
        "id": "U2R-wNzIDoH1",
        "outputId": "76841488-653a-40d0-8624-40ec179432e8"
      },
      "source": [
        "two_histograms(x, y)"
      ],
      "execution_count": null,
      "outputs": [
        {
          "output_type": "display_data",
          "data": {
            "image/png": "[encoded data removed]",
            "text/plain": [
              "<Figure size 432x288 with 1 Axes>"
            ]
          },
          "metadata": {
            "needs_background": "light"
          }
        }
      ]
    },
    {
      "cell_type": "code",
      "metadata": {
        "colab": {
          "base_uri": "https://localhost:8080/"
        },
        "id": "JuNPuXWA5RxW",
        "outputId": "d239e9b8-de43-4a48-a9ed-ab06b283e777"
      },
      "source": [
        "res = stats.mannwhitneyu(x, y)\n",
        "print('p-value: ', res[1])\n"
      ],
      "execution_count": null,
      "outputs": [
        {
          "output_type": "stream",
          "name": "stdout",
          "text": [
            "p-value:  1.2714924534733437e-07\n"
          ]
        }
      ]
    },
    {
      "cell_type": "code",
      "metadata": {
        "id": "_KkhUfL8CWpl"
      },
      "source": [
        "x = df2['StateRegistrationOfBirth']\n",
        "y = df2['StateRegistrationOfDeath']\n",
        "x.name, y.name = 'birth', 'death'"
      ],
      "execution_count": null,
      "outputs": []
    },
    {
      "cell_type": "code",
      "metadata": {
        "colab": {
          "base_uri": "https://localhost:8080/",
          "height": 265
        },
        "id": "aGnLIopFCogb",
        "outputId": "bf6383ab-2af3-4200-9f69-da2f4057c8af"
      },
      "source": [
        "two_histograms(x, y)"
      ],
      "execution_count": null,
      "outputs": [
        {
          "output_type": "display_data",
          "data": {
            "image/png": "[encoded data removed]",
            "text/plain": [
              "<Figure size 432x288 with 1 Axes>"
            ]
          },
          "metadata": {
            "needs_background": "light"
          }
        }
      ]
    },
    {
      "cell_type": "code",
      "metadata": {
        "colab": {
          "base_uri": "https://localhost:8080/"
        },
        "id": "nSCeej9sCnN_",
        "outputId": "7a96637e-fc22-4e1f-a79f-3e72f237abc7"
      },
      "source": [
        "res = stats.mannwhitneyu(x, y)\n",
        "print('p-value: ', res[1])"
      ],
      "execution_count": null,
      "outputs": [
        {
          "output_type": "stream",
          "name": "stdout",
          "text": [
            "p-value:  2.4496295267104787e-20\n"
          ]
        }
      ]
    },
    {
      "cell_type": "code",
      "metadata": {
        "colab": {
          "base_uri": "https://localhost:8080/"
        },
        "id": "rG6ChQ9pDuGs",
        "outputId": "ec421993-fb1b-4a2f-ac83-5b3da0d615f0"
      },
      "source": [
        "birth2019 = df2[df2['Year'] == 2019]['StateRegistrationOfBirth']\n",
        "birth2019"
      ],
      "execution_count": null,
      "outputs": [
        {
          "output_type": "execute_result",
          "data": {
            "text/plain": [
              "108    10953\n",
              "109    10400\n",
              "110    11392\n",
              "111    11161\n",
              "112    11821\n",
              "113    11862\n",
              "114    13056\n",
              "115    13053\n",
              "116    11216\n",
              "117    11640\n",
              "118    10472\n",
              "119    10329\n",
              "Name: StateRegistrationOfBirth, dtype: int64"
            ]
          },
          "metadata": {},
          "execution_count": 112
        }
      ]
    },
    {
      "cell_type": "code",
      "metadata": {
        "colab": {
          "base_uri": "https://localhost:8080/"
        },
        "id": "IiEbCraQD5Dm",
        "outputId": "9b645011-c6fa-4401-b0b0-aa672bbb476b"
      },
      "source": [
        "birth2011 = df2[df2['Year'] == 2011]['StateRegistrationOfBirth']\n",
        "birth2011"
      ],
      "execution_count": null,
      "outputs": [
        {
          "output_type": "execute_result",
          "data": {
            "text/plain": [
              "12     9135\n",
              "13     9302\n",
              "14    10818\n",
              "15     9407\n",
              "16     9091\n",
              "17    10646\n",
              "18    11358\n",
              "19    12094\n",
              "20    10608\n",
              "21    10568\n",
              "22    11109\n",
              "23    10922\n",
              "Name: StateRegistrationOfBirth, dtype: int64"
            ]
          },
          "metadata": {},
          "execution_count": 117
        }
      ]
    },
    {
      "cell_type": "code",
      "metadata": {
        "colab": {
          "base_uri": "https://localhost:8080/",
          "height": 283
        },
        "id": "e2237AZNEEdS",
        "outputId": "35655f80-3964-468d-fd32-9417a571ca18"
      },
      "source": [
        "two_histograms(birth2011, birth2019)\n",
        "plt.axvline(birth2011.median(),color='orange', alpha=1),\n",
        "plt.axvline(birth2019.median(),color='green', alpha=1)"
      ],
      "execution_count": null,
      "outputs": [
        {
          "output_type": "execute_result",
          "data": {
            "text/plain": [
              "<matplotlib.lines.Line2D at 0x7ff4dab4da90>"
            ]
          },
          "metadata": {},
          "execution_count": 119
        },
        {
          "output_type": "display_data",
          "data": {
            "image/png": "[encoded data removed]",
            "text/plain": [
              "<Figure size 432x288 with 1 Axes>"
            ]
          },
          "metadata": {
            "needs_background": "light"
          }
        }
      ]
    },
    {
      "cell_type": "code",
      "metadata": {
        "colab": {
          "base_uri": "https://localhost:8080/"
        },
        "id": "oT17JdLrElWl",
        "outputId": "98aec53f-deaf-4798-a454-49a6e4961a9c"
      },
      "source": [
        "res = stats.wilcoxon(birth2011, birth2019)\n",
        "print('p-value: ', res[1])"
      ],
      "execution_count": null,
      "outputs": [
        {
          "output_type": "stream",
          "name": "stdout",
          "text": [
            "p-value:  0.009632975772588674\n"
          ]
        }
      ]
    },
    {
      "cell_type": "code",
      "metadata": {
        "colab": {
          "base_uri": "https://localhost:8080/",
          "height": 1000
        },
        "id": "wP6UH8f16G_o",
        "outputId": "8bcd9d5a-939c-4600-e99d-43a7a373acc8"
      },
      "source": [
        "for i in range(2010,2020):\n",
        "    df2[df2['Year'] == i]['StateRegistrationOfBirth'].plot.hist(bins = 15, title = i)\n",
        "    plt.show()"
      ],
      "execution_count": null,
      "outputs": [
        {
          "output_type": "display_data",
          "data": {
            "image/png": "[encoded data removed]",
            "text/plain": [
              "<Figure size 432x288 with 1 Axes>"
            ]
          },
          "metadata": {
            "needs_background": "light"
          }
        },
        {
          "output_type": "display_data",
          "data": {
            "image/png": "[encoded data removed]",
            "text/plain": [
              "<Figure size 432x288 with 1 Axes>"
            ]
          },
          "metadata": {
            "needs_background": "light"
          }
        },
        {
          "output_type": "display_data",
          "data": {
            "image/png": "[encoded data removed]",
            "text/plain": [
              "<Figure size 432x288 with 1 Axes>"
            ]
          },
          "metadata": {
            "needs_background": "light"
          }
        },
        {
          "output_type": "display_data",
          "data": {
            "image/png": "[encoded data removed]",
            "text/plain": [
              "<Figure size 432x288 with 1 Axes>"
            ]
          },
          "metadata": {
            "needs_background": "light"
          }
        },
        {
          "output_type": "display_data",
          "data": {
            "image/png": "[encoded data removed]",
            "text/plain": [
              "<Figure size 432x288 with 1 Axes>"
            ]
          },
          "metadata": {
            "needs_background": "light"
          }
        },
        {
          "output_type": "display_data",
          "data": {
            "image/png": "[encoded data removed]",
            "text/plain": [
              "<Figure size 432x288 with 1 Axes>"
            ]
          },
          "metadata": {
            "needs_background": "light"
          }
        },
        {
          "output_type": "display_data",
          "data": {
            "image/png": "[encoded data removed]",
            "text/plain": [
              "<Figure size 432x288 with 1 Axes>"
            ]
          },
          "metadata": {
            "needs_background": "light"
          }
        },
        {
          "output_type": "display_data",
          "data": {
            "image/png": "[encoded data removed]",
            "text/plain": [
              "<Figure size 432x288 with 1 Axes>"
            ]
          },
          "metadata": {
            "needs_background": "light"
          }
        },
        {
          "output_type": "display_data",
          "data": {
            "image/png": "[encoded data removed]",
            "text/plain": [
              "<Figure size 432x288 with 1 Axes>"
            ]
          },
          "metadata": {
            "needs_background": "light"
          }
        },
        {
          "output_type": "display_data",
          "data": {
            "image/png": "[encoded data removed]",
            "text/plain": [
              "<Figure size 432x288 with 1 Axes>"
            ]
          },
          "metadata": {
            "needs_background": "light"
          }
        }
      ]
    },
    {
      "cell_type": "code",
      "metadata": {
        "colab": {
          "base_uri": "https://localhost:8080/"
        },
        "id": "H9n1vgCM9q2o",
        "outputId": "3c08d542-7a3e-4242-b26d-085ae9ab9404"
      },
      "source": [
        "df2.groupby('Year')['StateRegistrationOfBirth'].median().sort_values()"
      ],
      "execution_count": null,
      "outputs": [
        {
          "output_type": "execute_result",
          "data": {
            "text/plain": [
              "Year\n",
              "2020     9509.0\n",
              "2010    10297.5\n",
              "2011    10627.0\n",
              "2018    11127.0\n",
              "2017    11212.0\n",
              "2012    11222.5\n",
              "2013    11284.5\n",
              "2019    11304.0\n",
              "2014    11534.0\n",
              "2015    11974.0\n",
              "2016    12071.5\n",
              "Name: StateRegistrationOfBirth, dtype: float64"
            ]
          },
          "metadata": {},
          "execution_count": 94
        }
      ]
    },
    {
      "cell_type": "code",
      "metadata": {
        "colab": {
          "base_uri": "https://localhost:8080/",
          "height": 719
        },
        "id": "fytMk2H69zeO",
        "outputId": "6c398bae-5f50-48b2-ed74-5cc37634e1ea"
      },
      "source": [
        "df2.boxplot(figsize=(20,10), column='StateRegistrationOfBirth', by = 'Year')\n",
        "plt.show()"
      ],
      "execution_count": null,
      "outputs": [
        {
          "output_type": "stream",
          "name": "stderr",
          "text": [
            "/usr/local/lib/python3.7/dist-packages/numpy/core/_asarray.py:83: VisibleDeprecationWarning: Creating an ndarray from ragged nested sequences (which is a list-or-tuple of lists-or-tuples-or ndarrays with different lengths or shapes) is deprecated. If you meant to do this, you must specify 'dtype=object' when creating the ndarray\n",
            "  return array(a, dtype, copy=False, order=order)\n"
          ]
        },
        {
          "output_type": "display_data",
          "data": {
            "image/png": "[encoded data removed]",
            "text/plain": [
              "<Figure size 1440x720 with 1 Axes>"
            ]
          },
          "metadata": {
            "needs_background": "light"
          }
        }
      ]
    },
    {
      "cell_type": "code",
      "metadata": {
        "colab": {
          "base_uri": "https://localhost:8080/",
          "height": 419
        },
        "id": "YVgZuaRzFRWE",
        "outputId": "416d1ecb-d946-4cf7-a30a-f88f987f9f85"
      },
      "source": [
        "df3 = pd.read_csv('/content/russian_demography.csv', encoding='cp1251');\n",
        "df3"
      ],
      "execution_count": null,
      "outputs": [
        {
          "output_type": "execute_result",
          "data": {
            "text/html": [
              "<div>\n",
              "<style scoped>\n",
              "    .dataframe tbody tr th:only-of-type {\n",
              "        vertical-align: middle;\n",
              "    }\n",
              "\n",
              "    .dataframe tbody tr th {\n",
              "        vertical-align: top;\n",
              "    }\n",
              "\n",
              "    .dataframe thead th {\n",
              "        text-align: right;\n",
              "    }\n",
              "</style>\n",
              "<table border=\"1\" class=\"dataframe\">\n",
              "  <thead>\n",
              "    <tr style=\"text-align: right;\">\n",
              "      <th></th>\n",
              "      <th>year</th>\n",
              "      <th>region</th>\n",
              "      <th>npg</th>\n",
              "      <th>birth_rate</th>\n",
              "      <th>death_rate</th>\n",
              "      <th>gdw</th>\n",
              "      <th>urbanization</th>\n",
              "    </tr>\n",
              "  </thead>\n",
              "  <tbody>\n",
              "    <tr>\n",
              "      <th>0</th>\n",
              "      <td>1990</td>\n",
              "      <td>Republic of Adygea</td>\n",
              "      <td>1.9</td>\n",
              "      <td>14.2</td>\n",
              "      <td>12.3</td>\n",
              "      <td>84.66</td>\n",
              "      <td>52.42</td>\n",
              "    </tr>\n",
              "    <tr>\n",
              "      <th>1</th>\n",
              "      <td>1990</td>\n",
              "      <td>Altai Krai</td>\n",
              "      <td>1.8</td>\n",
              "      <td>12.9</td>\n",
              "      <td>11.1</td>\n",
              "      <td>80.24</td>\n",
              "      <td>58.07</td>\n",
              "    </tr>\n",
              "    <tr>\n",
              "      <th>2</th>\n",
              "      <td>1990</td>\n",
              "      <td>Amur Oblast</td>\n",
              "      <td>7.6</td>\n",
              "      <td>16.2</td>\n",
              "      <td>8.6</td>\n",
              "      <td>69.55</td>\n",
              "      <td>68.37</td>\n",
              "    </tr>\n",
              "    <tr>\n",
              "      <th>3</th>\n",
              "      <td>1990</td>\n",
              "      <td>Arkhangelsk Oblast</td>\n",
              "      <td>3.7</td>\n",
              "      <td>13.5</td>\n",
              "      <td>9.8</td>\n",
              "      <td>73.26</td>\n",
              "      <td>73.63</td>\n",
              "    </tr>\n",
              "    <tr>\n",
              "      <th>4</th>\n",
              "      <td>1990</td>\n",
              "      <td>Astrakhan Oblast</td>\n",
              "      <td>4.7</td>\n",
              "      <td>15.1</td>\n",
              "      <td>10.4</td>\n",
              "      <td>77.05</td>\n",
              "      <td>68.01</td>\n",
              "    </tr>\n",
              "    <tr>\n",
              "      <th>...</th>\n",
              "      <td>...</td>\n",
              "      <td>...</td>\n",
              "      <td>...</td>\n",
              "      <td>...</td>\n",
              "      <td>...</td>\n",
              "      <td>...</td>\n",
              "      <td>...</td>\n",
              "    </tr>\n",
              "    <tr>\n",
              "      <th>2375</th>\n",
              "      <td>2017</td>\n",
              "      <td>Chuvash Republic</td>\n",
              "      <td>-1.3</td>\n",
              "      <td>11.3</td>\n",
              "      <td>12.6</td>\n",
              "      <td>76.63</td>\n",
              "      <td>62.00</td>\n",
              "    </tr>\n",
              "    <tr>\n",
              "      <th>2376</th>\n",
              "      <td>2017</td>\n",
              "      <td>Chukotka Autonomous Okrug</td>\n",
              "      <td>3.7</td>\n",
              "      <td>13.1</td>\n",
              "      <td>9.4</td>\n",
              "      <td>58.23</td>\n",
              "      <td>70.00</td>\n",
              "    </tr>\n",
              "    <tr>\n",
              "      <th>2377</th>\n",
              "      <td>2017</td>\n",
              "      <td>Sakha (Yakutia) Republic</td>\n",
              "      <td>6.4</td>\n",
              "      <td>14.5</td>\n",
              "      <td>8.1</td>\n",
              "      <td>70.10</td>\n",
              "      <td>65.50</td>\n",
              "    </tr>\n",
              "    <tr>\n",
              "      <th>2378</th>\n",
              "      <td>2017</td>\n",
              "      <td>Yamalo-Nenets Autonomous Okrug</td>\n",
              "      <td>9.1</td>\n",
              "      <td>14.0</td>\n",
              "      <td>4.9</td>\n",
              "      <td>53.57</td>\n",
              "      <td>83.70</td>\n",
              "    </tr>\n",
              "    <tr>\n",
              "      <th>2379</th>\n",
              "      <td>2017</td>\n",
              "      <td>Yaroslavl Oblast</td>\n",
              "      <td>-4.7</td>\n",
              "      <td>10.5</td>\n",
              "      <td>15.2</td>\n",
              "      <td>82.61</td>\n",
              "      <td>81.70</td>\n",
              "    </tr>\n",
              "  </tbody>\n",
              "</table>\n",
              "<p>2380 rows × 7 columns</p>\n",
              "</div>"
            ],
            "text/plain": [
              "      year                          region  ...    gdw  urbanization\n",
              "0     1990              Republic of Adygea  ...  84.66         52.42\n",
              "1     1990                      Altai Krai  ...  80.24         58.07\n",
              "2     1990                     Amur Oblast  ...  69.55         68.37\n",
              "3     1990              Arkhangelsk Oblast  ...  73.26         73.63\n",
              "4     1990                Astrakhan Oblast  ...  77.05         68.01\n",
              "...    ...                             ...  ...    ...           ...\n",
              "2375  2017                Chuvash Republic  ...  76.63         62.00\n",
              "2376  2017       Chukotka Autonomous Okrug  ...  58.23         70.00\n",
              "2377  2017        Sakha (Yakutia) Republic  ...  70.10         65.50\n",
              "2378  2017  Yamalo-Nenets Autonomous Okrug  ...  53.57         83.70\n",
              "2379  2017                Yaroslavl Oblast  ...  82.61         81.70\n",
              "\n",
              "[2380 rows x 7 columns]"
            ]
          },
          "metadata": {},
          "execution_count": 3
        }
      ]
    },
    {
      "cell_type": "code",
      "metadata": {
        "id": "OLGcGX_6Wh4_"
      },
      "source": [
        "urban1990 = df3[(df3['year'] == 1999) & (df3['urbanization'] < 100) ]['urbanization']\n",
        "urban2017 = df3[(df3['year'] == 2017) & (df3['urbanization'] < 100) ]['urbanization']"
      ],
      "execution_count": null,
      "outputs": []
    },
    {
      "cell_type": "code",
      "metadata": {
        "colab": {
          "base_uri": "https://localhost:8080/",
          "height": 265
        },
        "id": "cjk9ruHOWr3H",
        "outputId": "ff060149-4357-4faa-9285-b3f6999f3d39"
      },
      "source": [
        "two_histograms(urban1990, urban2017)"
      ],
      "execution_count": null,
      "outputs": [
        {
          "output_type": "display_data",
          "data": {
            "image/png": "[encoded data removed]",
            "text/plain": [
              "<Figure size 432x288 with 1 Axes>"
            ]
          },
          "metadata": {
            "needs_background": "light"
          }
        }
      ]
    },
    {
      "cell_type": "code",
      "metadata": {
        "colab": {
          "base_uri": "https://localhost:8080/"
        },
        "id": "XVCcz-rwW19A",
        "outputId": "877a2281-114a-4e1b-c91b-441d2110bd68"
      },
      "source": [
        "res = stats.shapiro(urban1990)\n",
        "print('p-value: ', res[1])"
      ],
      "execution_count": null,
      "outputs": [
        {
          "output_type": "stream",
          "name": "stdout",
          "text": [
            "p-value:  0.01995268650352955\n"
          ]
        }
      ]
    },
    {
      "cell_type": "code",
      "metadata": {
        "colab": {
          "base_uri": "https://localhost:8080/"
        },
        "id": "89ciptNfW-zJ",
        "outputId": "7e977e12-b092-4461-fed0-82aba9d13c89"
      },
      "source": [
        "res = stats.shapiro(urban2017)\n",
        "print('p-value: ', res[1])"
      ],
      "execution_count": null,
      "outputs": [
        {
          "output_type": "stream",
          "name": "stdout",
          "text": [
            "p-value:  0.02265014499425888\n"
          ]
        }
      ]
    },
    {
      "cell_type": "code",
      "metadata": {
        "colab": {
          "base_uri": "https://localhost:8080/"
        },
        "id": "qaMVlgPqXEsR",
        "outputId": "fe337205-dc19-4623-a402-e65cf235ea3b"
      },
      "source": [
        "res = stats.fligner(urban1990, urban2017)\n",
        "print('p-value: ', res[1])"
      ],
      "execution_count": null,
      "outputs": [
        {
          "output_type": "stream",
          "name": "stdout",
          "text": [
            "p-value:  0.8980787576106686\n"
          ]
        }
      ]
    }
  ]
}
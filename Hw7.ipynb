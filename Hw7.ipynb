{
  "nbformat": 4,
  "nbformat_minor": 0,
  "metadata": {
    "colab": {
      "name": "Hw7.ipynb",
      "provenance": [],
      "collapsed_sections": [],
      "authorship_tag": "ABX9TyNTFr6XbSDLyZCXcDZMOV4N",
      "include_colab_link": true
    },
    "kernelspec": {
      "name": "python3",
      "display_name": "Python 3"
    },
    "language_info": {
      "name": "python"
    }
  },
  "cells": [
    {
      "cell_type": "markdown",
      "metadata": {
        "id": "view-in-github",
        "colab_type": "text"
      },
      "source": [
        "<a href=\"https://colab.research.google.com/github/ancka019/data_analysis-/blob/main/Hw7.ipynb\" target=\"_parent\"><img src=\"https://colab.research.google.com/assets/colab-badge.svg\" alt=\"Open In Colab\"/></a>"
      ]
    },
    {
      "cell_type": "code",
      "metadata": {
        "colab": {
          "base_uri": "https://localhost:8080/"
        },
        "id": "u9l0S9M8NQ1X",
        "outputId": "6dde78c1-cd27-4bb0-8383-51176772eba3"
      },
      "source": [
        "from scipy.stats import norm, chi2_contingency\n",
        "import statsmodels.api as sm\n",
        "import numpy as np"
      ],
      "execution_count": null,
      "outputs": [
        {
          "output_type": "stream",
          "name": "stderr",
          "text": [
            "/usr/local/lib/python3.7/dist-packages/statsmodels/tools/_testing.py:19: FutureWarning: pandas.util.testing is deprecated. Use the functions in the public API at pandas.testing instead.\n",
            "  import pandas.util.testing as tm\n"
          ]
        }
      ]
    },
    {
      "cell_type": "code",
      "metadata": {
        "id": "qX9YkQoYWkWr"
      },
      "source": [
        "import pandas as pd\n",
        "import numpy as np\n",
        "import matplotlib\n",
        "import matplotlib.pyplot as plt\n",
        "from scipy import stats\n",
        "matplotlib.style.use('ggplot')\n",
        "%matplotlib inline"
      ],
      "execution_count": null,
      "outputs": []
    },
    {
      "cell_type": "code",
      "metadata": {
        "id": "KfIkzIyrSgaA"
      },
      "source": [
        "df = pd.read_csv('/content/Таблица_2021-11-13_10-30.csv', sep=\";\")"
      ],
      "execution_count": null,
      "outputs": []
    },
    {
      "cell_type": "code",
      "metadata": {
        "colab": {
          "base_uri": "https://localhost:8080/",
          "height": 238
        },
        "id": "zgmLqgqfW58A",
        "outputId": "bbe8127c-1472-4621-c686-d6976876f7de"
      },
      "source": [
        "df.head()"
      ],
      "execution_count": null,
      "outputs": [
        {
          "output_type": "execute_result",
          "data": {
            "text/html": [
              "<div>\n",
              "<style scoped>\n",
              "    .dataframe tbody tr th:only-of-type {\n",
              "        vertical-align: middle;\n",
              "    }\n",
              "\n",
              "    .dataframe tbody tr th {\n",
              "        vertical-align: top;\n",
              "    }\n",
              "\n",
              "    .dataframe thead th {\n",
              "        text-align: right;\n",
              "    }\n",
              "</style>\n",
              "<table border=\"1\" class=\"dataframe\">\n",
              "  <thead>\n",
              "    <tr style=\"text-align: right;\">\n",
              "      <th></th>\n",
              "      <th>Дата</th>\n",
              "      <th>Регион</th>\n",
              "      <th>Заражений</th>\n",
              "      <th>Выздоровлений</th>\n",
              "      <th>Смертей</th>\n",
              "      <th>Смертей за день</th>\n",
              "      <th>Заражений за день</th>\n",
              "      <th>Выздоровлений за день</th>\n",
              "    </tr>\n",
              "  </thead>\n",
              "  <tbody>\n",
              "    <tr>\n",
              "      <th>0</th>\n",
              "      <td>20.09.2020</td>\n",
              "      <td>Томская обл.</td>\n",
              "      <td>6775</td>\n",
              "      <td>5554</td>\n",
              "      <td>79</td>\n",
              "      <td>1</td>\n",
              "      <td>62</td>\n",
              "      <td>92</td>\n",
              "    </tr>\n",
              "    <tr>\n",
              "      <th>1</th>\n",
              "      <td>26.09.2020</td>\n",
              "      <td>Костромская обл.</td>\n",
              "      <td>4553</td>\n",
              "      <td>3329</td>\n",
              "      <td>67</td>\n",
              "      <td>5</td>\n",
              "      <td>54</td>\n",
              "      <td>44</td>\n",
              "    </tr>\n",
              "    <tr>\n",
              "      <th>2</th>\n",
              "      <td>02.09.2021</td>\n",
              "      <td>Ямало-Ненецкий АО</td>\n",
              "      <td>47772</td>\n",
              "      <td>45810</td>\n",
              "      <td>625</td>\n",
              "      <td>4</td>\n",
              "      <td>102</td>\n",
              "      <td>121</td>\n",
              "    </tr>\n",
              "    <tr>\n",
              "      <th>3</th>\n",
              "      <td>15.12.2020</td>\n",
              "      <td>Сахалинская обл.</td>\n",
              "      <td>13406</td>\n",
              "      <td>10292</td>\n",
              "      <td>11</td>\n",
              "      <td>0</td>\n",
              "      <td>142</td>\n",
              "      <td>366</td>\n",
              "    </tr>\n",
              "    <tr>\n",
              "      <th>4</th>\n",
              "      <td>21.09.2020</td>\n",
              "      <td>Волгоградская обл.</td>\n",
              "      <td>14158</td>\n",
              "      <td>12376</td>\n",
              "      <td>131</td>\n",
              "      <td>0</td>\n",
              "      <td>95</td>\n",
              "      <td>13</td>\n",
              "    </tr>\n",
              "  </tbody>\n",
              "</table>\n",
              "</div>"
            ],
            "text/plain": [
              "         Дата              Регион  ...  Заражений за день  Выздоровлений за день\n",
              "0  20.09.2020        Томская обл.  ...                 62                     92\n",
              "1  26.09.2020    Костромская обл.  ...                 54                     44\n",
              "2  02.09.2021   Ямало-Ненецкий АО  ...                102                    121\n",
              "3  15.12.2020    Сахалинская обл.  ...                142                    366\n",
              "4  21.09.2020  Волгоградская обл.  ...                 95                     13\n",
              "\n",
              "[5 rows x 8 columns]"
            ]
          },
          "metadata": {},
          "execution_count": 13
        }
      ]
    },
    {
      "cell_type": "code",
      "metadata": {
        "id": "vL2V5lM5Yee-"
      },
      "source": [
        "df2 = df[df['Дата'] == '11.11.2021']"
      ],
      "execution_count": null,
      "outputs": []
    },
    {
      "cell_type": "code",
      "metadata": {
        "colab": {
          "base_uri": "https://localhost:8080/",
          "height": 80
        },
        "id": "EtJ5aVvEZ3QT",
        "outputId": "4d2ce665-7102-45b8-c0db-cdc8b366fae7"
      },
      "source": [
        "df2[df2['Регион'] == 'Москва'] #выборка А"
      ],
      "execution_count": null,
      "outputs": [
        {
          "output_type": "execute_result",
          "data": {
            "text/html": [
              "<div>\n",
              "<style scoped>\n",
              "    .dataframe tbody tr th:only-of-type {\n",
              "        vertical-align: middle;\n",
              "    }\n",
              "\n",
              "    .dataframe tbody tr th {\n",
              "        vertical-align: top;\n",
              "    }\n",
              "\n",
              "    .dataframe thead th {\n",
              "        text-align: right;\n",
              "    }\n",
              "</style>\n",
              "<table border=\"1\" class=\"dataframe\">\n",
              "  <thead>\n",
              "    <tr style=\"text-align: right;\">\n",
              "      <th></th>\n",
              "      <th>Дата</th>\n",
              "      <th>Регион</th>\n",
              "      <th>Заражений</th>\n",
              "      <th>Выздоровлений</th>\n",
              "      <th>Смертей</th>\n",
              "      <th>Смертей за день</th>\n",
              "      <th>Заражений за день</th>\n",
              "      <th>Выздоровлений за день</th>\n",
              "    </tr>\n",
              "  </thead>\n",
              "  <tbody>\n",
              "    <tr>\n",
              "      <th>36595</th>\n",
              "      <td>11.11.2021</td>\n",
              "      <td>Москва</td>\n",
              "      <td>1882060</td>\n",
              "      <td>1661417</td>\n",
              "      <td>32399</td>\n",
              "      <td>94</td>\n",
              "      <td>6240</td>\n",
              "      <td>5505</td>\n",
              "    </tr>\n",
              "  </tbody>\n",
              "</table>\n",
              "</div>"
            ],
            "text/plain": [
              "             Дата  Регион  ...  Заражений за день  Выздоровлений за день\n",
              "36595  11.11.2021  Москва  ...               6240                   5505\n",
              "\n",
              "[1 rows x 8 columns]"
            ]
          },
          "metadata": {},
          "execution_count": 58
        }
      ]
    },
    {
      "cell_type": "code",
      "metadata": {
        "colab": {
          "base_uri": "https://localhost:8080/",
          "height": 114
        },
        "id": "1pSUBZqKaP9R",
        "outputId": "19c7aece-d1cd-44ff-8aec-1c3605674afd"
      },
      "source": [
        "df2[df2['Регион'] == 'Санкт-Петербург'] #выборка B"
      ],
      "execution_count": null,
      "outputs": [
        {
          "output_type": "execute_result",
          "data": {
            "text/html": [
              "<div>\n",
              "<style scoped>\n",
              "    .dataframe tbody tr th:only-of-type {\n",
              "        vertical-align: middle;\n",
              "    }\n",
              "\n",
              "    .dataframe tbody tr th {\n",
              "        vertical-align: top;\n",
              "    }\n",
              "\n",
              "    .dataframe thead th {\n",
              "        text-align: right;\n",
              "    }\n",
              "</style>\n",
              "<table border=\"1\" class=\"dataframe\">\n",
              "  <thead>\n",
              "    <tr style=\"text-align: right;\">\n",
              "      <th></th>\n",
              "      <th>Дата</th>\n",
              "      <th>Регион</th>\n",
              "      <th>Заражений</th>\n",
              "      <th>Выздоровлений</th>\n",
              "      <th>Смертей</th>\n",
              "      <th>Смертей за день</th>\n",
              "      <th>Заражений за день</th>\n",
              "      <th>Выздоровлений за день</th>\n",
              "    </tr>\n",
              "  </thead>\n",
              "  <tbody>\n",
              "    <tr>\n",
              "      <th>48737</th>\n",
              "      <td>11.11.2021</td>\n",
              "      <td>Санкт-Петербург</td>\n",
              "      <td>741911</td>\n",
              "      <td>670213</td>\n",
              "      <td>24807</td>\n",
              "      <td>85</td>\n",
              "      <td>3230</td>\n",
              "      <td>3118</td>\n",
              "    </tr>\n",
              "  </tbody>\n",
              "</table>\n",
              "</div>"
            ],
            "text/plain": [
              "             Дата           Регион  ...  Заражений за день  Выздоровлений за день\n",
              "48737  11.11.2021  Санкт-Петербург  ...               3230                   3118\n",
              "\n",
              "[1 rows x 8 columns]"
            ]
          },
          "metadata": {},
          "execution_count": 59
        }
      ]
    },
    {
      "cell_type": "code",
      "metadata": {
        "colab": {
          "base_uri": "https://localhost:8080/"
        },
        "id": "zsQxoWH4aZYt",
        "outputId": "6094c90c-bc4f-4c15-f513-4d682a98f065"
      },
      "source": [
        "s1 = 5505     #  число успехов     выборка А\n",
        "n1 = 6240      #  число испытаний   выборка А\n",
        "s2 = 3118       #  число успехов     выборка Б\n",
        "n2 = 3230      #  число испытаний   выборка Б\n",
        "p1 = s1/n1               #  оценка вероятности успеха выборка А\n",
        "p2 = s2/n2               #  оценка вероятности успеха выборка Б\n",
        "p = (s1 + s2)/(n1+n2)    #  оценка вероятности успеха выборка А+Б\n",
        "z = (p2-p1)/ ((p*(1-p)*((1/n1)+(1/n2)))**0.5)  #  z-метка\n",
        "\n",
        "p_value = norm.cdf(z)\n",
        "\n",
        "#  z-метка и p-значение\n",
        "print(['{:.12f}'.format(a) for a in (abs(z), p_value * 2)])"
      ],
      "execution_count": null,
      "outputs": [
        {
          "output_type": "stream",
          "name": "stdout",
          "text": [
            "['13.435982269548', '2.000000000000']\n"
          ]
        }
      ]
    },
    {
      "cell_type": "code",
      "metadata": {
        "colab": {
          "base_uri": "https://localhost:8080/"
        },
        "id": "4Qd76_mAa_YZ",
        "outputId": "9c525d03-0728-4544-c381-29af97c8e9cc"
      },
      "source": [
        "z1, p_value1 = sm.stats.proportions_ztest([s1, s2], [n1, n2])\n",
        "\n",
        "#  z-метка и p-значение\n",
        "print(['{:.12f}'.format(b) for b in (z1, p_value1)])\n"
      ],
      "execution_count": null,
      "outputs": [
        {
          "output_type": "stream",
          "name": "stdout",
          "text": [
            "['-13.435982269548', '0.000000000000']\n"
          ]
        }
      ]
    },
    {
      "cell_type": "code",
      "metadata": {
        "colab": {
          "base_uri": "https://localhost:8080/",
          "height": 114
        },
        "id": "1rD9JA2cbcpA",
        "outputId": "a1dbf560-3c4a-4e6b-e328-424901748a40"
      },
      "source": [
        "df2[df2['Регион'] == 'Сахалинская обл.'] #выборка А"
      ],
      "execution_count": null,
      "outputs": [
        {
          "output_type": "execute_result",
          "data": {
            "text/html": [
              "<div>\n",
              "<style scoped>\n",
              "    .dataframe tbody tr th:only-of-type {\n",
              "        vertical-align: middle;\n",
              "    }\n",
              "\n",
              "    .dataframe tbody tr th {\n",
              "        vertical-align: top;\n",
              "    }\n",
              "\n",
              "    .dataframe thead th {\n",
              "        text-align: right;\n",
              "    }\n",
              "</style>\n",
              "<table border=\"1\" class=\"dataframe\">\n",
              "  <thead>\n",
              "    <tr style=\"text-align: right;\">\n",
              "      <th></th>\n",
              "      <th>Дата</th>\n",
              "      <th>Регион</th>\n",
              "      <th>Заражений</th>\n",
              "      <th>Выздоровлений</th>\n",
              "      <th>Смертей</th>\n",
              "      <th>Смертей за день</th>\n",
              "      <th>Заражений за день</th>\n",
              "      <th>Выздоровлений за день</th>\n",
              "    </tr>\n",
              "  </thead>\n",
              "  <tbody>\n",
              "    <tr>\n",
              "      <th>38513</th>\n",
              "      <td>11.11.2021</td>\n",
              "      <td>Сахалинская обл.</td>\n",
              "      <td>35960</td>\n",
              "      <td>34763</td>\n",
              "      <td>392</td>\n",
              "      <td>0</td>\n",
              "      <td>96</td>\n",
              "      <td>78</td>\n",
              "    </tr>\n",
              "  </tbody>\n",
              "</table>\n",
              "</div>"
            ],
            "text/plain": [
              "             Дата            Регион  ...  Заражений за день  Выздоровлений за день\n",
              "38513  11.11.2021  Сахалинская обл.  ...                 96                     78\n",
              "\n",
              "[1 rows x 8 columns]"
            ]
          },
          "metadata": {},
          "execution_count": 62
        }
      ]
    },
    {
      "cell_type": "code",
      "metadata": {
        "colab": {
          "base_uri": "https://localhost:8080/",
          "height": 114
        },
        "id": "Ft7h6aPLbeTk",
        "outputId": "29a6a10a-a6bc-41b2-f862-4ceaf09151ac"
      },
      "source": [
        "df2[df2['Регион'] == 'Костромская обл.'] #выборка B"
      ],
      "execution_count": null,
      "outputs": [
        {
          "output_type": "execute_result",
          "data": {
            "text/html": [
              "<div>\n",
              "<style scoped>\n",
              "    .dataframe tbody tr th:only-of-type {\n",
              "        vertical-align: middle;\n",
              "    }\n",
              "\n",
              "    .dataframe tbody tr th {\n",
              "        vertical-align: top;\n",
              "    }\n",
              "\n",
              "    .dataframe thead th {\n",
              "        text-align: right;\n",
              "    }\n",
              "</style>\n",
              "<table border=\"1\" class=\"dataframe\">\n",
              "  <thead>\n",
              "    <tr style=\"text-align: right;\">\n",
              "      <th></th>\n",
              "      <th>Дата</th>\n",
              "      <th>Регион</th>\n",
              "      <th>Заражений</th>\n",
              "      <th>Выздоровлений</th>\n",
              "      <th>Смертей</th>\n",
              "      <th>Смертей за день</th>\n",
              "      <th>Заражений за день</th>\n",
              "      <th>Выздоровлений за день</th>\n",
              "    </tr>\n",
              "  </thead>\n",
              "  <tbody>\n",
              "    <tr>\n",
              "      <th>16402</th>\n",
              "      <td>11.11.2021</td>\n",
              "      <td>Костромская обл.</td>\n",
              "      <td>40903</td>\n",
              "      <td>33258</td>\n",
              "      <td>905</td>\n",
              "      <td>4</td>\n",
              "      <td>206</td>\n",
              "      <td>108</td>\n",
              "    </tr>\n",
              "  </tbody>\n",
              "</table>\n",
              "</div>"
            ],
            "text/plain": [
              "             Дата            Регион  ...  Заражений за день  Выздоровлений за день\n",
              "16402  11.11.2021  Костромская обл.  ...                206                    108\n",
              "\n",
              "[1 rows x 8 columns]"
            ]
          },
          "metadata": {},
          "execution_count": 63
        }
      ]
    },
    {
      "cell_type": "code",
      "metadata": {
        "colab": {
          "base_uri": "https://localhost:8080/"
        },
        "id": "6fVmtRLQbyfp",
        "outputId": "0e7bbb71-1f52-418f-ec2a-1648495aa75c"
      },
      "source": [
        "s1 = 78     #  число успехов     выборка А\n",
        "n1 = 96      #  число испытаний   выборка А\n",
        "s2 = 108       #  число успехов     выборка Б\n",
        "n2 = 206      #  число испытаний   выборка Б\n",
        "p1 = s1/n1               #  оценка вероятности успеха выборка А\n",
        "p2 = s2/n2               #  оценка вероятности успеха выборка Б\n",
        "p = (s1 + s2)/(n1+n2)    #  оценка вероятности успеха выборка А+Б\n",
        "z = (p2-p1)/ ((p*(1-p)*((1/n1)+(1/n2)))**0.5)  #  z-метка\n",
        "\n",
        "p_value = norm.cdf(z)\n",
        "\n",
        "#  z-метка и p-значение\n",
        "print(['{:.12f}'.format(a) for a in (abs(z), p_value * 2)])"
      ],
      "execution_count": null,
      "outputs": [
        {
          "output_type": "stream",
          "name": "stdout",
          "text": [
            "['4.795386692237', '0.000001623613']\n"
          ]
        }
      ]
    },
    {
      "cell_type": "code",
      "metadata": {
        "colab": {
          "base_uri": "https://localhost:8080/"
        },
        "id": "eT5X28Spc59e",
        "outputId": "92776fc4-f065-4e6c-fc21-e9141d981b06"
      },
      "source": [
        "z1, p_value1 = sm.stats.proportions_ztest([s1, s2], [n1, n2])\n",
        "\n",
        "#  z-метка и p-значение\n",
        "print(['{:.12f}'.format(b) for b in (z1, p_value1)])"
      ],
      "execution_count": null,
      "outputs": [
        {
          "output_type": "stream",
          "name": "stdout",
          "text": [
            "['4.795386692237', '0.000001623613']\n"
          ]
        }
      ]
    },
    {
      "cell_type": "code",
      "metadata": {
        "id": "6eb2XuaI_Yj7",
        "colab": {
          "base_uri": "https://localhost:8080/"
        },
        "outputId": "71c99fc8-b430-464b-ab97-8def6de4550a"
      },
      "source": [
        "arr = np.array([[s1, n1-s1], [s2, n2-s2]])\n",
        "chi2, p_value3, dof, exp = chi2_contingency(arr, correction=False)\n",
        "\n",
        "print(['{:.12f}'.format(d) for d in (chi2**0.5, p_value3)])"
      ],
      "execution_count": null,
      "outputs": [
        {
          "output_type": "stream",
          "name": "stdout",
          "text": [
            "['4.795386692237', '0.000001623613']\n"
          ]
        }
      ]
    }
  ]
}
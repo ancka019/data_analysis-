{
  "nbformat": 4,
  "nbformat_minor": 0,
  "metadata": {
    "colab": {
      "name": "hw8.ipynb",
      "provenance": [],
      "collapsed_sections": [
        "tZ-tkN_htiJG",
        "Wmy9E_a8brSc"
      ],
      "mount_file_id": "1wA4X-UzLWHqoILb-LbqzIdSQbizUFirQ",
      "authorship_tag": "ABX9TyN8UCNCujj5F/FsFyNRK3bs",
      "include_colab_link": true
    },
    "kernelspec": {
      "name": "python3",
      "display_name": "Python 3"
    },
    "language_info": {
      "name": "python"
    }
  },
  "cells": [
    {
      "cell_type": "markdown",
      "metadata": {
        "id": "view-in-github",
        "colab_type": "text"
      },
      "source": [
        "<a href=\"https://colab.research.google.com/github/ancka019/data_analysis-/blob/main/hw8.ipynb\" target=\"_parent\"><img src=\"https://colab.research.google.com/assets/colab-badge.svg\" alt=\"Open In Colab\"/></a>"
      ]
    },
    {
      "cell_type": "code",
      "metadata": {
        "id": "prg2diFsXjnL"
      },
      "source": [
        "import pandas as pd\n",
        "import numpy as np\n",
        "import matplotlib\n",
        "import matplotlib.pyplot as plt\n",
        "from scipy import stats\n",
        "matplotlib.style.use('ggplot')\n",
        "%matplotlib inline\n",
        "import seaborn as sns"
      ],
      "execution_count": null,
      "outputs": []
    },
    {
      "cell_type": "code",
      "metadata": {
        "id": "CyH3soDrYA4r"
      },
      "source": [
        "import os\n",
        "import folium"
      ],
      "execution_count": null,
      "outputs": []
    },
    {
      "cell_type": "code",
      "metadata": {
        "id": "EL-cGCDyXxft"
      },
      "source": [
        "df = pd.read_excel('/content/drive/MyDrive/FLATS.xlsx')"
      ],
      "execution_count": null,
      "outputs": []
    },
    {
      "cell_type": "code",
      "metadata": {
        "colab": {
          "base_uri": "https://localhost:8080/",
          "height": 204
        },
        "id": "etZizmb5X4qh",
        "outputId": "7e020796-e325-4b4b-dfb2-186ac1891478"
      },
      "source": [
        "df.head()"
      ],
      "execution_count": null,
      "outputs": [
        {
          "output_type": "execute_result",
          "data": {
            "text/html": [
              "<div>\n",
              "<style scoped>\n",
              "    .dataframe tbody tr th:only-of-type {\n",
              "        vertical-align: middle;\n",
              "    }\n",
              "\n",
              "    .dataframe tbody tr th {\n",
              "        vertical-align: top;\n",
              "    }\n",
              "\n",
              "    .dataframe thead th {\n",
              "        text-align: right;\n",
              "    }\n",
              "</style>\n",
              "<table border=\"1\" class=\"dataframe\">\n",
              "  <thead>\n",
              "    <tr style=\"text-align: right;\">\n",
              "      <th></th>\n",
              "      <th>SQUARE_METERS</th>\n",
              "      <th>METRO_DISTANCE</th>\n",
              "      <th>PRICE</th>\n",
              "    </tr>\n",
              "  </thead>\n",
              "  <tbody>\n",
              "    <tr>\n",
              "      <th>0</th>\n",
              "      <td>28</td>\n",
              "      <td>677</td>\n",
              "      <td>7328400</td>\n",
              "    </tr>\n",
              "    <tr>\n",
              "      <th>1</th>\n",
              "      <td>54</td>\n",
              "      <td>120</td>\n",
              "      <td>9754600</td>\n",
              "    </tr>\n",
              "    <tr>\n",
              "      <th>2</th>\n",
              "      <td>43</td>\n",
              "      <td>1344</td>\n",
              "      <td>6781500</td>\n",
              "    </tr>\n",
              "    <tr>\n",
              "      <th>3</th>\n",
              "      <td>33</td>\n",
              "      <td>1003</td>\n",
              "      <td>6784100</td>\n",
              "    </tr>\n",
              "    <tr>\n",
              "      <th>4</th>\n",
              "      <td>30</td>\n",
              "      <td>591</td>\n",
              "      <td>7296200</td>\n",
              "    </tr>\n",
              "  </tbody>\n",
              "</table>\n",
              "</div>"
            ],
            "text/plain": [
              "   SQUARE_METERS  METRO_DISTANCE    PRICE\n",
              "0             28             677  7328400\n",
              "1             54             120  9754600\n",
              "2             43            1344  6781500\n",
              "3             33            1003  6784100\n",
              "4             30             591  7296200"
            ]
          },
          "metadata": {},
          "execution_count": 25
        }
      ]
    },
    {
      "cell_type": "code",
      "metadata": {
        "colab": {
          "base_uri": "https://localhost:8080/"
        },
        "id": "754QSzWyY3lY",
        "outputId": "9908c5d0-a019-4f57-e8a5-e3587d24f1cb"
      },
      "source": [
        "print('Rows in the data frame: {0}'.format(len(df)))\n",
        "print('Rows without NAN: {0}'.format(len(df.dropna(how='any'))))"
      ],
      "execution_count": null,
      "outputs": [
        {
          "output_type": "stream",
          "name": "stdout",
          "text": [
            "Rows in the data frame: 100\n",
            "Rows without NAN: 100\n"
          ]
        }
      ]
    },
    {
      "cell_type": "markdown",
      "metadata": {
        "id": "oaseTNx-Z7zK"
      },
      "source": [
        "**Построение модели**\n",
        "по лекции CS\n"
      ]
    },
    {
      "cell_type": "markdown",
      "metadata": {
        "id": "nKkSPklbaqFk"
      },
      "source": [
        "#**1. На основе количества метров**"
      ]
    },
    {
      "cell_type": "code",
      "metadata": {
        "id": "68yU1bLjZmR7"
      },
      "source": [
        "from sklearn.linear_model import LinearRegression\n",
        "from sklearn import linear_model"
      ],
      "execution_count": null,
      "outputs": []
    },
    {
      "cell_type": "code",
      "metadata": {
        "id": "bEGFiVhWdKH7"
      },
      "source": [
        "del df['Id']\n"
      ],
      "execution_count": null,
      "outputs": []
    },
    {
      "cell_type": "code",
      "metadata": {
        "colab": {
          "base_uri": "https://localhost:8080/",
          "height": 204
        },
        "id": "wA7owTJrSJZ_",
        "outputId": "b42ab5c9-97b8-4cac-9d55-3f92f13100b5"
      },
      "source": [
        "df.head()"
      ],
      "execution_count": null,
      "outputs": [
        {
          "output_type": "execute_result",
          "data": {
            "text/html": [
              "<div>\n",
              "<style scoped>\n",
              "    .dataframe tbody tr th:only-of-type {\n",
              "        vertical-align: middle;\n",
              "    }\n",
              "\n",
              "    .dataframe tbody tr th {\n",
              "        vertical-align: top;\n",
              "    }\n",
              "\n",
              "    .dataframe thead th {\n",
              "        text-align: right;\n",
              "    }\n",
              "</style>\n",
              "<table border=\"1\" class=\"dataframe\">\n",
              "  <thead>\n",
              "    <tr style=\"text-align: right;\">\n",
              "      <th></th>\n",
              "      <th>SQUARE_METERS</th>\n",
              "      <th>METRO_DISTANCE</th>\n",
              "      <th>PRICE</th>\n",
              "    </tr>\n",
              "  </thead>\n",
              "  <tbody>\n",
              "    <tr>\n",
              "      <th>0</th>\n",
              "      <td>28</td>\n",
              "      <td>677</td>\n",
              "      <td>7328400</td>\n",
              "    </tr>\n",
              "    <tr>\n",
              "      <th>1</th>\n",
              "      <td>54</td>\n",
              "      <td>120</td>\n",
              "      <td>9754600</td>\n",
              "    </tr>\n",
              "    <tr>\n",
              "      <th>2</th>\n",
              "      <td>43</td>\n",
              "      <td>1344</td>\n",
              "      <td>6781500</td>\n",
              "    </tr>\n",
              "    <tr>\n",
              "      <th>3</th>\n",
              "      <td>33</td>\n",
              "      <td>1003</td>\n",
              "      <td>6784100</td>\n",
              "    </tr>\n",
              "    <tr>\n",
              "      <th>4</th>\n",
              "      <td>30</td>\n",
              "      <td>591</td>\n",
              "      <td>7296200</td>\n",
              "    </tr>\n",
              "  </tbody>\n",
              "</table>\n",
              "</div>"
            ],
            "text/plain": [
              "   SQUARE_METERS  METRO_DISTANCE    PRICE\n",
              "0             28             677  7328400\n",
              "1             54             120  9754600\n",
              "2             43            1344  6781500\n",
              "3             33            1003  6784100\n",
              "4             30             591  7296200"
            ]
          },
          "metadata": {},
          "execution_count": 26
        }
      ]
    },
    {
      "cell_type": "code",
      "metadata": {
        "id": "kex2tVeEZ7Le"
      },
      "source": [
        "X = df.drop('SQUARE_METERS', axis=1)\n",
        "y = df['PRICE']"
      ],
      "execution_count": null,
      "outputs": []
    },
    {
      "cell_type": "code",
      "metadata": {
        "colab": {
          "base_uri": "https://localhost:8080/",
          "height": 513
        },
        "id": "yU5CniXHrBwB",
        "outputId": "75df73da-c1dd-46fb-cb21-dc0a11f3949f"
      },
      "source": [
        "g = sns.jointplot(x='SQUARE_METERS', y='PRICE', data=df, kind=\"reg\",color = 'g', truncate=False, height=7)"
      ],
      "execution_count": null,
      "outputs": [
        {
          "output_type": "display_data",
          "data": {
            "image/png": "[encoded data removed]",
            "text/plain": [
              "<Figure size 504x504 with 3 Axes>"
            ]
          },
          "metadata": {
            "needs_background": "light"
          }
        }
      ]
    },
    {
      "cell_type": "code",
      "metadata": {
        "colab": {
          "base_uri": "https://localhost:8080/"
        },
        "id": "uDNg0SLysM9I",
        "outputId": "b8b9e459-d1cb-4f8b-e80b-3d95eecb69ff"
      },
      "source": [
        "SQUARE_METERS = df['SQUARE_METERS']\n",
        "y = df['PRICE']\n",
        "reg1 = linear_model.LinearRegression()\n",
        "SQUARE_METERS = SQUARE_METERS.values.reshape(-1,1)\n",
        "reg1.fit(SQUARE_METERS, y)"
      ],
      "execution_count": null,
      "outputs": [
        {
          "output_type": "execute_result",
          "data": {
            "text/plain": [
              "LinearRegression()"
            ]
          },
          "metadata": {},
          "execution_count": 29
        }
      ]
    },
    {
      "cell_type": "code",
      "metadata": {
        "colab": {
          "base_uri": "https://localhost:8080/",
          "height": 111
        },
        "id": "ap2cZbb4sDx8",
        "outputId": "194ceb59-339d-4b19-9e55-3e116de91277"
      },
      "source": [
        "coef = pd.DataFrame(zip(['intercept'] + df.drop(['PRICE'] , axis=1).columns.tolist(), [reg1.intercept_] + reg1.coef_.tolist()),\n",
        "                    columns=['predictor', 'coef'])\n",
        "coef"
      ],
      "execution_count": null,
      "outputs": [
        {
          "output_type": "execute_result",
          "data": {
            "text/html": [
              "<div>\n",
              "<style scoped>\n",
              "    .dataframe tbody tr th:only-of-type {\n",
              "        vertical-align: middle;\n",
              "    }\n",
              "\n",
              "    .dataframe tbody tr th {\n",
              "        vertical-align: top;\n",
              "    }\n",
              "\n",
              "    .dataframe thead th {\n",
              "        text-align: right;\n",
              "    }\n",
              "</style>\n",
              "<table border=\"1\" class=\"dataframe\">\n",
              "  <thead>\n",
              "    <tr style=\"text-align: right;\">\n",
              "      <th></th>\n",
              "      <th>predictor</th>\n",
              "      <th>coef</th>\n",
              "    </tr>\n",
              "  </thead>\n",
              "  <tbody>\n",
              "    <tr>\n",
              "      <th>0</th>\n",
              "      <td>intercept</td>\n",
              "      <td>4.292936e+06</td>\n",
              "    </tr>\n",
              "    <tr>\n",
              "      <th>1</th>\n",
              "      <td>SQUARE_METERS</td>\n",
              "      <td>6.214873e+04</td>\n",
              "    </tr>\n",
              "  </tbody>\n",
              "</table>\n",
              "</div>"
            ],
            "text/plain": [
              "       predictor          coef\n",
              "0      intercept  4.292936e+06\n",
              "1  SQUARE_METERS  6.214873e+04"
            ]
          },
          "metadata": {},
          "execution_count": 31
        }
      ]
    },
    {
      "cell_type": "code",
      "metadata": {
        "colab": {
          "base_uri": "https://localhost:8080/"
        },
        "id": "lfb6poPcsn4d",
        "outputId": "f22962e5-35d9-4fca-b4c2-6251bced02b3"
      },
      "source": [
        "PrintMetrics(y, reg1.predict(SQUARE_METERS))"
      ],
      "execution_count": null,
      "outputs": [
        {
          "output_type": "stream",
          "name": "stdout",
          "text": [
            "The mean absolute error: 990261.942495025\n",
            "The root mean squared error: 1141985.1272904899\n",
            "The mean percentage error: 3.301140379120922\n",
            "The mean absolute percentage error: 15.693792634540443\n",
            "Absolute deviation: 91939101.20964508\n",
            "The mean absolute deviation: 919391.0120964508\n",
            "Theil: 0.11574465364713012\n"
          ]
        }
      ]
    },
    {
      "cell_type": "code",
      "metadata": {
        "colab": {
          "base_uri": "https://localhost:8080/"
        },
        "id": "mKrbwgb4Su1G",
        "outputId": "1c5c80ed-60a3-4eec-b4e5-44162b2bf83c"
      },
      "source": [
        "print ('R^2: {0}'.format(reg1.score(SQUARE_METERS, y)))"
      ],
      "execution_count": null,
      "outputs": [
        {
          "output_type": "stream",
          "name": "stdout",
          "text": [
            "R^2: 0.45222058564965073\n"
          ]
        }
      ]
    },
    {
      "cell_type": "markdown",
      "metadata": {
        "id": "tZ-tkN_htiJG"
      },
      "source": [
        "# **на основе расстояния до метро**"
      ]
    },
    {
      "cell_type": "code",
      "metadata": {
        "id": "Hcyxze9etrOK"
      },
      "source": [
        "M = df['METRO_DISTANCE']"
      ],
      "execution_count": null,
      "outputs": []
    },
    {
      "cell_type": "code",
      "metadata": {
        "colab": {
          "base_uri": "https://localhost:8080/",
          "height": 513
        },
        "id": "p9J-JNn-t0ag",
        "outputId": "3e59671e-e2fb-4aab-be41-9c0e591d7620"
      },
      "source": [
        "g = sns.jointplot(x='METRO_DISTANCE', y='PRICE', data=df,\n",
        "                  kind=\"reg\", truncate=False,\n",
        "                  color=\"m\", height=7)"
      ],
      "execution_count": null,
      "outputs": [
        {
          "output_type": "display_data",
          "data": {
            "image/png": "[encoded data removed]",
            "text/plain": [
              "<Figure size 504x504 with 3 Axes>"
            ]
          },
          "metadata": {
            "needs_background": "light"
          }
        }
      ]
    },
    {
      "cell_type": "code",
      "metadata": {
        "colab": {
          "base_uri": "https://localhost:8080/"
        },
        "id": "HMiCnGG-uBOB",
        "outputId": "8bd24a49-7825-4988-a1da-547a49e231b5"
      },
      "source": [
        "reg2 = linear_model.LinearRegression()\n",
        "M = M.values.reshape(-1,1)\n",
        "reg2.fit(M, y)"
      ],
      "execution_count": null,
      "outputs": [
        {
          "output_type": "execute_result",
          "data": {
            "text/plain": [
              "LinearRegression()"
            ]
          },
          "metadata": {},
          "execution_count": 37
        }
      ]
    },
    {
      "cell_type": "code",
      "metadata": {
        "colab": {
          "base_uri": "https://localhost:8080/",
          "height": 111
        },
        "id": "RVg4IlGzuFXc",
        "outputId": "97f7e60b-afb9-4ea4-ccd5-67e0e03441ab"
      },
      "source": [
        "coef = pd.DataFrame(zip(['intercept'] + df.drop(['PRICE'] , axis=1).columns.tolist(), [reg2.intercept_] + reg2.coef_.tolist()),\n",
        "                    columns=['predictor', 'coef'])\n",
        "coef"
      ],
      "execution_count": null,
      "outputs": [
        {
          "output_type": "execute_result",
          "data": {
            "text/html": [
              "<div>\n",
              "<style scoped>\n",
              "    .dataframe tbody tr th:only-of-type {\n",
              "        vertical-align: middle;\n",
              "    }\n",
              "\n",
              "    .dataframe tbody tr th {\n",
              "        vertical-align: top;\n",
              "    }\n",
              "\n",
              "    .dataframe thead th {\n",
              "        text-align: right;\n",
              "    }\n",
              "</style>\n",
              "<table border=\"1\" class=\"dataframe\">\n",
              "  <thead>\n",
              "    <tr style=\"text-align: right;\">\n",
              "      <th></th>\n",
              "      <th>predictor</th>\n",
              "      <th>coef</th>\n",
              "    </tr>\n",
              "  </thead>\n",
              "  <tbody>\n",
              "    <tr>\n",
              "      <th>0</th>\n",
              "      <td>intercept</td>\n",
              "      <td>9.003176e+06</td>\n",
              "    </tr>\n",
              "    <tr>\n",
              "      <th>1</th>\n",
              "      <td>SQUARE_METERS</td>\n",
              "      <td>-1.679031e+03</td>\n",
              "    </tr>\n",
              "  </tbody>\n",
              "</table>\n",
              "</div>"
            ],
            "text/plain": [
              "       predictor          coef\n",
              "0      intercept  9.003176e+06\n",
              "1  SQUARE_METERS -1.679031e+03"
            ]
          },
          "metadata": {},
          "execution_count": 38
        }
      ]
    },
    {
      "cell_type": "code",
      "metadata": {
        "colab": {
          "base_uri": "https://localhost:8080/"
        },
        "id": "X36FD-LbuLP8",
        "outputId": "6275acbf-6c6e-45fb-fc5f-9e08ef622ebd"
      },
      "source": [
        "print ('R^2: {0}'.format(reg2.score(M, y)))"
      ],
      "execution_count": null,
      "outputs": [
        {
          "output_type": "stream",
          "name": "stdout",
          "text": [
            "R^2: 0.5775983380546676\n"
          ]
        }
      ]
    },
    {
      "cell_type": "code",
      "metadata": {
        "colab": {
          "base_uri": "https://localhost:8080/"
        },
        "id": "eT2oICgluH6s",
        "outputId": "f6f177b9-a38d-4932-d606-336f30b3d2ca"
      },
      "source": [
        "PrintMetrics(y, reg2.predict(M))"
      ],
      "execution_count": null,
      "outputs": [
        {
          "output_type": "stream",
          "name": "stdout",
          "text": [
            "The mean absolute error: 870605.1584099769\n",
            "The root mean squared error: 1002814.0345235703\n",
            "The mean percentage error: 2.569573659947029\n",
            "The mean absolute percentage error: 13.780389955268438\n",
            "Absolute deviation: 101989176.67189084\n",
            "The mean absolute deviation: 1019891.7667189084\n",
            "Theil: 0.10148364845817766\n"
          ]
        }
      ]
    },
    {
      "cell_type": "markdown",
      "metadata": {
        "id": "X05ukAZCudJy"
      },
      "source": [
        "# **на основе квадратных метров & расстояния до метро**"
      ]
    },
    {
      "cell_type": "code",
      "metadata": {
        "colab": {
          "base_uri": "https://localhost:8080/",
          "height": 513
        },
        "id": "rhDmbBE-vKj4",
        "outputId": "af523a04-7a60-47d2-a20e-bd0089077c36"
      },
      "source": [
        "g = sns.jointplot(x='SQUARE_METERS', y='METRO_DISTANCE', data=df, kind=\"reg\",color = 'y', truncate=False, height=7)"
      ],
      "execution_count": null,
      "outputs": [
        {
          "output_type": "display_data",
          "data": {
            "image/png": "[encoded data removed]",
            "text/plain": [
              "<Figure size 504x504 with 3 Axes>"
            ]
          },
          "metadata": {
            "needs_background": "light"
          }
        }
      ]
    },
    {
      "cell_type": "code",
      "metadata": {
        "id": "sPve5IIXujOz"
      },
      "source": [
        "x = df.drop(['PRICE'] , axis=1)"
      ],
      "execution_count": null,
      "outputs": []
    },
    {
      "cell_type": "code",
      "metadata": {
        "colab": {
          "base_uri": "https://localhost:8080/"
        },
        "id": "2weO0jPfusK9",
        "outputId": "e8f58efa-eb12-420b-b63d-66d4d8c4fe08"
      },
      "source": [
        "reg3 = linear_model.LinearRegression()\n",
        "reg3.fit(x, y)"
      ],
      "execution_count": null,
      "outputs": [
        {
          "output_type": "execute_result",
          "data": {
            "text/plain": [
              "LinearRegression()"
            ]
          },
          "metadata": {},
          "execution_count": 44
        }
      ]
    },
    {
      "cell_type": "code",
      "metadata": {
        "id": "T5fIFBqOuxzb"
      },
      "source": [
        "y_pred = reg3.predict(x)"
      ],
      "execution_count": null,
      "outputs": []
    },
    {
      "cell_type": "code",
      "metadata": {
        "colab": {
          "base_uri": "https://localhost:8080/",
          "height": 142
        },
        "id": "2ghOGm_nu1Hr",
        "outputId": "92b3de04-ce4f-4c0a-bb63-f2f0f6fbf9a4"
      },
      "source": [
        "coef = pd.DataFrame(zip(['intercept'] + x.columns.tolist(), [reg3.intercept_] + reg3.coef_.tolist()),\n",
        "                    columns=['predictor', 'coef'])\n",
        "coef"
      ],
      "execution_count": null,
      "outputs": [
        {
          "output_type": "execute_result",
          "data": {
            "text/html": [
              "<div>\n",
              "<style scoped>\n",
              "    .dataframe tbody tr th:only-of-type {\n",
              "        vertical-align: middle;\n",
              "    }\n",
              "\n",
              "    .dataframe tbody tr th {\n",
              "        vertical-align: top;\n",
              "    }\n",
              "\n",
              "    .dataframe thead th {\n",
              "        text-align: right;\n",
              "    }\n",
              "</style>\n",
              "<table border=\"1\" class=\"dataframe\">\n",
              "  <thead>\n",
              "    <tr style=\"text-align: right;\">\n",
              "      <th></th>\n",
              "      <th>predictor</th>\n",
              "      <th>coef</th>\n",
              "    </tr>\n",
              "  </thead>\n",
              "  <tbody>\n",
              "    <tr>\n",
              "      <th>0</th>\n",
              "      <td>intercept</td>\n",
              "      <td>6.496840e+06</td>\n",
              "    </tr>\n",
              "    <tr>\n",
              "      <th>1</th>\n",
              "      <td>SQUARE_METERS</td>\n",
              "      <td>5.852554e+04</td>\n",
              "    </tr>\n",
              "    <tr>\n",
              "      <th>2</th>\n",
              "      <td>METRO_DISTANCE</td>\n",
              "      <td>-1.603460e+03</td>\n",
              "    </tr>\n",
              "  </tbody>\n",
              "</table>\n",
              "</div>"
            ],
            "text/plain": [
              "        predictor          coef\n",
              "0       intercept  6.496840e+06\n",
              "1   SQUARE_METERS  5.852554e+04\n",
              "2  METRO_DISTANCE -1.603460e+03"
            ]
          },
          "metadata": {},
          "execution_count": 46
        }
      ]
    },
    {
      "cell_type": "code",
      "metadata": {
        "colab": {
          "base_uri": "https://localhost:8080/"
        },
        "id": "pYWowGVXvDqs",
        "outputId": "48114b3a-c2c4-46ae-f513-ac80eaa5c0c2"
      },
      "source": [
        "print ('R^2: {0}'.format(reg3.score(x, y)))"
      ],
      "execution_count": null,
      "outputs": [
        {
          "output_type": "stream",
          "name": "stdout",
          "text": [
            "R^2: 0.9774581227423352\n"
          ]
        }
      ]
    },
    {
      "cell_type": "code",
      "metadata": {
        "colab": {
          "base_uri": "https://localhost:8080/"
        },
        "id": "611ctNW6u62X",
        "outputId": "52af4c83-9db4-4ee9-d974-0c8da5811767"
      },
      "source": [
        "PrintMetrics(y, y_pred)"
      ],
      "execution_count": null,
      "outputs": [
        {
          "output_type": "stream",
          "name": "stdout",
          "text": [
            "The mean absolute error: 188069.8356556663\n",
            "The root mean squared error: 231660.84415639355\n",
            "The mean percentage error: 0.13061066905935748\n",
            "The mean absolute percentage error: 2.8459159522276805\n",
            "Absolute deviation: 121653918.61100899\n",
            "The mean absolute deviation: 1216539.1861100898\n",
            "Theil: 0.02333036423632188\n"
          ]
        }
      ]
    },
    {
      "cell_type": "markdown",
      "metadata": {
        "id": "Wmy9E_a8brSc"
      },
      "source": [
        "# **Метрики качества**"
      ]
    },
    {
      "cell_type": "code",
      "metadata": {
        "id": "JKXvnZnQbusb"
      },
      "source": [
        "def metrics(real, forecast):\n",
        "    \n",
        "    if type(real)==pd.core.frame.DataFrame:\n",
        "        real=real[real.columns[0]].values\n",
        "    \n",
        "    print(\"Тест на стационарность:\")\n",
        "    dftest = adfuller(real-forecast, autolag='AIC')\n",
        "    print(\"\\tT-статистика = {:.3f}\".format(dftest[0]))\n",
        "    print(\"\\tP-значение = {:.3f}\".format(dftest[1]))\n",
        "    print(\"Критические значения :\")\n",
        "    for k, v in dftest[4].items():\n",
        "        print(\"\\t{}: {} - Данные {} стационарны с вероятностью {}% процентов\".format(k, v, \"не\" if v<dftest[0] else \"\", 100-int(k[:-1])))\n",
        "    \n",
        "    #real=np.array(real[real.columns[0]].values)\n",
        "    forecast=np.array(forecast)\n",
        "    print('MAD:', round(abs(real-forecast).mean(),4))\n",
        "    print('MSE:', round(((real-forecast)**2).mean(),4))\n",
        "    print('MAPE:', round((abs(real-forecast)/real).mean(),4))\n",
        "    print('MPE:', round(((real-forecast)/real).mean(),4))\n",
        "    print('Стандартная ошибка:', round(((real-forecast)**2).mean()**0.5,4)) \n"
      ],
      "execution_count": null,
      "outputs": []
    },
    {
      "cell_type": "code",
      "metadata": {
        "id": "0jSqcrxseuEc"
      },
      "source": [
        "def MAD(y_real, y_pred):\n",
        "    return (AD(y_real, y_pred)/len(y_real))"
      ],
      "execution_count": null,
      "outputs": []
    },
    {
      "cell_type": "code",
      "metadata": {
        "id": "T4Tl-4U_e3L1"
      },
      "source": [
        "def MAPE(y_real, y_pred): \n",
        "    y_true, y_pred = np.array(y_real), np.array(y_pred)\n",
        "    return np.mean(np.abs(y_real - y_pred)/ y_real) * 100"
      ],
      "execution_count": null,
      "outputs": []
    },
    {
      "cell_type": "code",
      "metadata": {
        "id": "tFmKXN1Me8pp"
      },
      "source": [
        "def MPE(y_real: np.ndarray, y_pred: np.ndarray):\n",
        "    res = 0\n",
        "    for (real, pred) in zip(y_real, y_pred):\n",
        "        res += (pred - real)/real\n",
        "    res /= len(y_real)\n",
        "    res *= 100\n",
        "    return res"
      ],
      "execution_count": null,
      "outputs": []
    },
    {
      "cell_type": "code",
      "metadata": {
        "id": "BcHEv3oktBmQ"
      },
      "source": [
        "from sklearn.metrics import r2_score\n",
        "from sklearn.metrics import mean_absolute_error\n",
        "from sklearn.metrics import mean_squared_error"
      ],
      "execution_count": null,
      "outputs": []
    },
    {
      "cell_type": "code",
      "metadata": {
        "id": "37KhDe2FerpX"
      },
      "source": [
        "def MPE(y_real: np.ndarray, y_pred: np.ndarray):\n",
        "    res = 0\n",
        "    for (real, pred) in zip(y_real, y_pred):\n",
        "        res += (pred - real)/real\n",
        "    res /= len(y_real)\n",
        "    res *= 100\n",
        "    return res\n",
        "def MAPE(y_real, y_pred): \n",
        "    y_true, y_pred = np.array(y_real), np.array(y_pred)\n",
        "    return np.mean(np.abs(y_real - y_pred)/ y_real) * 100\n",
        "def AD(y_real, y_pred):\n",
        "    res = 0\n",
        "    for pred in y_pred:\n",
        "        res += np.abs(pred - y_real.mean())\n",
        "    return res\n",
        "def MAD(y_real, y_pred):\n",
        "    return (AD(y_real, y_pred)/len(y_real))\n",
        "def Theil(y_real: np.ndarray, y_pred: np.ndarray):\n",
        "    res, sum1, sum_pred, sum_real = 0, 0, 0, 0\n",
        "    for (real, pred) in zip(y, y_pred):\n",
        "        sum1 += (pred - real)**2\n",
        "        sum_pred += pred**2\n",
        "        sum_real += real**2\n",
        "    res = np.sqrt(sum1/(sum_pred + sum_real))\n",
        "    return res\n",
        "def PrintMetrics(y, y_pred):\n",
        "    print ('The mean absolute error: {0}'.format(mean_absolute_error(y, y_pred)))\n",
        "    print ('The root mean squared error: {0}'.format(np.sqrt(mean_squared_error(y, y_pred))))\n",
        "    print ('The mean percentage error: {0}'.format(MPE(y, y_pred)))\n",
        "    print ('The mean absolute percentage error: {0}'.format(MAPE(y, y_pred)))\n",
        "    print ('Absolute deviation: {0}'.format(AD(y, y_pred)))\n",
        "    print ('The mean absolute deviation: {0}'.format(MAD(y, y_pred)))\n",
        "    print ('Theil: {0}'.format(Theil(y, y_pred)))"
      ],
      "execution_count": null,
      "outputs": []
    }
  ]
}